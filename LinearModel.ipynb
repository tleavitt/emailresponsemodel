{
 "cells": [
  {
   "cell_type": "code",
   "execution_count": 77,
   "metadata": {},
   "outputs": [],
   "source": [
    "from data_util import load_embeddings, DMConfig, tfConfig\n",
    "try:\n",
    "    import _pickle as cPickle\n",
    "except ImportError:\n",
    "    import cPickle\n",
    "import gzip\n",
    "import os\n",
    "import numpy as np\n",
    "from defs import LBLS"
   ]
  },
  {
   "cell_type": "code",
   "execution_count": 16,
   "metadata": {},
   "outputs": [
    {
     "name": "stdout",
     "output_type": "stream",
     "text": [
      "The autoreload extension is already loaded. To reload it, use:\n",
      "  %reload_ext autoreload\n"
     ]
    }
   ],
   "source": [
    "%load_ext autoreload\n",
    "%autoreload 2"
   ]
  },
  {
   "cell_type": "code",
   "execution_count": 17,
   "metadata": {},
   "outputs": [],
   "source": [
    "config = DMConfig()\n",
    "if os.path.exists(config.tok2id_path):\n",
    "    with gzip.open(os.path.abspath(config.tok2id_path)) as f:\n",
    "        tok2id = cPickle.load(f)\n",
    "if os.path.exists(config.id2tok_path):\n",
    "    with gzip.open(os.path.abspath(config.id2tok_path)) as f:\n",
    "        id2tok = cPickle.load(f)"
   ]
  },
  {
   "cell_type": "code",
   "execution_count": 18,
   "metadata": {},
   "outputs": [
    {
     "name": "stderr",
     "output_type": "stream",
     "text": [
      "INFO:Initialized embeddings.\n"
     ]
    }
   ],
   "source": [
    "embeddings = load_embeddings(config, tok2id)"
   ]
  },
  {
   "cell_type": "code",
   "execution_count": 19,
   "metadata": {},
   "outputs": [
    {
     "data": {
      "text/plain": [
       "(10008, 50)"
      ]
     },
     "execution_count": 19,
     "metadata": {},
     "output_type": "execute_result"
    }
   ],
   "source": [
    "embeddings.shape"
   ]
  },
  {
   "cell_type": "markdown",
   "metadata": {},
   "source": [
    "## Training"
   ]
  },
  {
   "cell_type": "code",
   "execution_count": 20,
   "metadata": {},
   "outputs": [],
   "source": [
    "from tf_linear_classifier import TfLinearClassifier\n",
    "from defs import PROJECT_DIR"
   ]
  },
  {
   "cell_type": "code",
   "execution_count": 21,
   "metadata": {},
   "outputs": [
    {
     "name": "stderr",
     "output_type": "stream",
     "text": [
      "INFO:Initializing data manager...\n",
      "INFO:took 0 s\n",
      "INFO:Building model...\n",
      "INFO:took 0 s\n"
     ]
    },
    {
     "name": "stdout",
     "output_type": "stream",
     "text": [
      "INFO:tensorflow:Restoring parameters from /Users/tuckerleavitt/Documents/CS224U/project/checkpoints/linear_model/linear-model-3550\n"
     ]
    },
    {
     "name": "stderr",
     "output_type": "stream",
     "text": [
      "INFO:Restoring parameters from /Users/tuckerleavitt/Documents/CS224U/project/checkpoints/linear_model/linear-model-3550\n",
      "INFO:-- Restored model\n"
     ]
    },
    {
     "data": {
      "text/plain": [
       "<tf_linear_classifier.TfLinearClassifier at 0x11cf19da0>"
      ]
     },
     "execution_count": 21,
     "metadata": {},
     "output_type": "execute_result"
    }
   ],
   "source": [
    "model = TfLinearClassifier(embedding=embeddings, \n",
    "                           ckpts_prefix='{}/checkpoints/linear_model/linear-model'.format(PROJECT_DIR)\n",
    "                          )\n",
    "model.fit(tfConfig, restore_weights=True, batches_to_eval=50, max_iter=0)"
   ]
  },
  {
   "cell_type": "markdown",
   "metadata": {},
   "source": [
    "## Evaluation"
   ]
  },
  {
   "cell_type": "code",
   "execution_count": 92,
   "metadata": {},
   "outputs": [],
   "source": [
    "def print_example(pred, label, feats, length, email_id):\n",
    "    ids_ = feats[:length][:, 0]\n",
    "    print(\"==== {} ====\".format(email_id))\n",
    "    print(\"Predicted label: {}. True label: {}\".format(LBLS[pred], LBLS[label]))\n",
    "    print( \" \".join((id2tok[i] for i in ids_)) )\n",
    "    print(\"------------------------------------\")\n",
    "\n",
    "    \n",
    "\n",
    "def print_examples(preds, outputs, inputs, lens, email_ids):\n",
    "    for p, o, i, l, d in zip(preds, outputs, inputs, lens, email_ids):\n",
    "        print_example(p, o, i, l, d)"
   ]
  },
  {
   "cell_type": "code",
   "execution_count": 93,
   "metadata": {},
   "outputs": [
    {
     "name": "stdout",
     "output_type": "stream",
     "text": [
      "Predicted 29 of 32 examples correctly (accuracy: 0.906)\n"
     ]
    }
   ],
   "source": [
    "preds, inputs, lens, outputs, email_ids = model.predict()\n",
    "correct = preds == outputs\n",
    "print(\"Predicted {} of {} examples correctly (accuracy: {:.3f})\".format(np.sum(correct), correct.shape[0], np.mean(correct)))"
   ]
  },
  {
   "cell_type": "code",
   "execution_count": 94,
   "metadata": {},
   "outputs": [
    {
     "name": "stdout",
     "output_type": "stream",
     "text": [
      "==== b'<24049886.1075855776034.JavaMail.evans@thyme>' ====\n",
      "Predicted label: NORESPONSE. True label: NORESPONSE\n",
      "<s> as you know , technology is critical to enron ; it drives our success and wil= l=20 continue to do so in the future . technology has helped enron create new=20 businesses like enron broadband services and enron net works , and it is=20 responsible for applications such as enrononline and enroncredit.com . you= =01 , ve=20 seen what technology can do at work . now we want you and your family to=20 realize its benefits at home . with that in mind , we are excited to let you know that we are introducing t= he=20 clickathome program , which will give each employee a computer for use at home . UUUNKKK technology permits , we will also subsidize an internet connection . with the= =20 click of a mouse , a home computer plus internet access will put a world of= =20 internet knowledge at your UUUNKKK , s UUUNKKK . =20 we have just signed an agreement with dell computer corporation to provide= =20 the computer hardware . we wanted to let you know about the program now in= =20 case you and your family were considering the purchase or upgrade of a UUUNKKK =20 computer or internet connection in the next few months . the scope of=20 clickathome includes the following : ? basic package : dell desktop computer with a high-speed UUUNKKK , UUUNKKK =20 disk drive , mouse , speakers , monitor , UUUNKKK , cd-rom drive and windows UUUNKKK =20 software . employees will have the option to receive a UUUNKKK UUUNKKK =20 connection , including broadband , where commercially available . ? participation : this program will be available to active regular UUUNKKK =20 and regular UUUNKKK employees of enron and its wholly owned subsidiaries ; = =20 however , </s>\n",
      "------------------------------------\n",
      "==== b'<21183114.1075846179435.JavaMail.evans@thyme>' ====\n",
      "Predicted label: REPLY. True label: REPLY\n",
      "<s> as reported carlos UUUNKKK alvarez resigned his position friday as UUUNKKK president of UUUNKKK the main reason of this resignation was a political disagreement with UUUNKKK et=20 changes announced on thursday 5th by president de la UUUNKKK . alvarez publicly noted he could no longer UUUNKKK the political differences with t= he=20 president over the senate UUUNKKK UUUNKKK . particularly alvarez UUUNKKK =20 with de la UUUNKKK 's decision to promote alberto UUUNKKK from minister of=20 labor to general secretary and to keep UUUNKKK de UUUNKKK as chief of= the=20 intelligence department . both UUUNKKK and UUUNKKK are suspected of= =20 paying UUUNKKK to senators to vote for a new labor law . alvarez has=20 UUUNKKK UUUNKKK the fight against the senate UUUNKKK and has been=20 strongly advocating for the resignation of UUUNKKK , UUUNKKK and all= =20 senators involved in the UUUNKKK it was considered that the decision of de la r ? a was intended to UUUNKKK e=20 that he , and not alvarez , holds the power and that de la r ? a wanted to=20 demonstrate that the changes were focused on improving the economic UUUNKKK on=20 and to move beyond the senate UUUNKKK . the main changes in the cabinet , announced on thursday 5th , are the UUUNKKK ng : UUUNKKK UUUNKKK ( economist , in good relationship with UUUNKKK ) will UUUNKKK ce=20 UUUNKKK as chief of cabinet . UUUNKKK ( minister of economy ) will also be responsible of the ministry of= =20 UUUNKKK UUUNKKK de la r ? a ( former general secretary of the president and UUUNKKK =20 brother ) will be minister of UUUNKKK patricia UUUNKKK ( UUUNKKK ) will be minister of UUUNKKK as a consequence of alvarez ' resignation , UUUNKKK resigned to his UUUNKKK </s>\n",
      "------------------------------------\n",
      "==== b'<10814070.1075859927048.JavaMail.evans@thyme>' ====\n",
      "Predicted label: NORESPONSE. True label: NORESPONSE\n",
      "<s> please be careful in addressing e-mails to me - several of yours ( re : follow-up on friday 's meeting ) have gone to the other UUUNKKK ( mark a taylor ) . i just found out when he forwarded them on to me . </s>\n",
      "------------------------------------\n",
      "==== b'<28764297.1075855922006.JavaMail.evans@thyme>' ====\n",
      "Predicted label: NORESPONSE. True label: NORESPONSE\n",
      "<s> our mid year prc meeting will be held monday , june NNNUMMM , at the doubletree 's UUUNKKK `` b '' room . please plan to be there to start the meeting at 8:00 am , with a continental breakfast available starting at 7:30 . we will take the time necessary to do a good job , but will also try to be time efficient . patti has lunch and UUUNKKK ordered , so i would hope to be finished sometime in the afternoon . i am UUUNKKK the energy operations prc committee beyond my direct reports to also include all directors in the organization . i look forward to everyone 's participation and will be sending out more information later . included below are the attendees for the meeting . prc attendees energy operations hr outside kristin albrecht sheila walton wes colwell - business analysis & reporting scott earnest norma UUUNKKK david oxley - human resources sheila glover hector mcloughlin jim UUUNKKK - global risk markets ( insurance ) todd hall UUUNKKK graham brad UUUNKKK - global risk markets ( origination ) susan harrison janet de la UUUNKKK ( to run computer ) peggy hedstrom brenda herod steve jackson scott mills mike moscoso eugenio perez brent price leslie reeves stephen UUUNKKK james scribner mary solmonson bob superty sheri thomas steve venturatos </s>\n",
      "------------------------------------\n",
      "==== b'<19519494.1075855928897.JavaMail.evans@thyme>' ====\n",
      "Predicted label: NORESPONSE. True label: NORESPONSE\n",
      "<s> looks good my comments are minor i will fax them . mfg kate UUUNKKK @ enron UUUNKKK UUUNKKK pm to : joe UUUNKKK @ enron_development , michael UUUNKKK @ enron_development , kent UUUNKKK @ enron_development cc : sally beck/hou/ect @ ect , ted murphy/hou/ect @ ect , john UUUNKKK @ enron subject : draft of southern cone reports joe , mike and kent thank you again for your offices ' assistance when we visited last week . i have attached the drafts of the sao paulo and buenos aires reports . please review and let me know any comments or questions . we are trying to finalize the reports as soon as possible so your response is greatly appreciated . regards kate UUUNKKK </s>\n",
      "------------------------------------\n",
      "==== b'<19553993.1075846203730.JavaMail.evans@thyme>' ====\n",
      "Predicted label: NORESPONSE. True label: NORESPONSE\n",
      "<s> attached are two files that illustrate the following : as prices rose , supply increased and demand decreased . now prices are beginning to fall in response these market responses . </s>\n",
      "------------------------------------\n",
      "==== b'<14510678.1075860326810.JavaMail.evans@thyme>' ====\n",
      "Predicted label: NORESPONSE. True label: REPLY\n",
      "<s> mark - the attached files contain the text to be reviewed . the limit order brochure text is for the printed piece that will be mailed to enrononline users ; the online help is accessed from the submission window , during the transaction process . regards , erica </s>\n",
      "------------------------------------\n",
      "==== b'<14504608.1075855940176.JavaMail.evans@thyme>' ====\n",
      "Predicted label: NORESPONSE. True label: NORESPONSE\n",
      "<s> i think that this sounds like a good plan . since michelle , clay and UUUNKKK are still pending on their UUUNKKK offers , this should help us in the cultivation effort . -- sally enron north america corp. from : lexi elliott @ enron UUUNKKK UUUNKKK pm to : mike mcconnell/hou/ect @ ect , sally beck/hou/ect @ ect cc : jody UUUNKKK @ enron , UUUNKKK UUUNKKK @ enron subject : ou scholarships mike and sally : as you know , i attended the UUUNKKK scholarship interviews conducted tuesday , march NNNUMMM at ou . of the NNNUMMM students which interviewed , NNNUMMM are current or former enron interns ( clay UUUNKKK , michelle terry , and UUUNKKK UUUNKKK ) . i have designated $ NNNUMMM from my budget to be awarded at the UUUNKKK spring awards UUUNKKK which will be held april NNNUMMM on campus . i met with jody crook yesterday , and it is our recommendation to award $ NNNUMMM to clay , michelle , and UUUNKKK . i think this will help UUUNKKK upon the students how enron values its interns . the remaining candidates which interviewed ranged from UUUNKKK to UUUNKKK , and i do not feel that UUUNKKK them money at this point would necessarily improve our success on campus . i look forward to your feedback . regards , lexi </s>\n",
      "------------------------------------\n",
      "==== b'<8800100.1075847631664.JavaMail.evans@thyme>' ====\n",
      "Predicted label: NORESPONSE. True label: NORESPONSE\n",
      "<s> attached , please find the latest versions of sbx NNNUMMM and sbx NNNUMMM , including their respective analysis ' . both bills could be heard on the senate floor today . http : UUUNKKK UUUNKKK http : UUUNKKK UUUNKKK http : UUUNKKK UUUNKKK http : UUUNKKK UUUNKKK </s>\n",
      "------------------------------------\n",
      "==== b'<9272409.1075847612873.JavaMail.evans@thyme>' ====\n",
      "Predicted label: REPLY. True label: REPLY\n",
      "<s> date : UUUNKKK to : jan smutny-jones , steven kelly , katie kaplan cc : iep board of directors from : julee malinowski-ball , edson + modisette re : legislative status report week ending 3/30 recent events : -- sb 28x ( UUUNKKK ) , which makes various changes to the siting process including many UUUNKKK proposals , passed off the senate floor last week NNNUMMM to NNNUMMM . UUUNKKK . UUUNKKK , s office is now working with the authors and = iep to make additional changes to the bill , as opposed to moving more siting issues in ab UUUNKKK ( wright ) ( although that is still an option ) . chris UUUNKKK n and i are continuing to work with the UUUNKKK , staff to develop UUUNKKK al language . the bill is scheduled to be heard on monday in the assembly energ= y costs and availability committee . we are waiting to review new language from the UUUNKKK , s office . at this point we are recommending the bill do= es not move forward without this additional language . i will let members know the status of these amendments before the hearing . -- iep has a meeting with the UUUNKKK assembly republican leader dave cox ( sacramento ) on tuesday at 8:30 am to discuss the UUUNKKK , s UUUNKKK ion on siting and direct access , and possibly linking those issues with the passage sb UUUNKKK ( sher ) , the billion dollar energy conservation bill on the assembly side . although they are not the only issues iep and its members want resolved in this legislative session , they are currently the most visible and active issues with the best chance of passage . -- ab UUUNKKK ( hertzberg </s>\n",
      "------------------------------------\n",
      "==== b'<32557361.1075847636179.JavaMail.evans@thyme>' ====\n",
      "Predicted label: REPLY. True label: REPLY\n",
      "<s> mike , sandi wanted me to forward a draft letter from steve kean to the governor and legislature for your review and comment . scott </s>\n",
      "------------------------------------\n",
      "==== b'<13150441.1075846163117.JavaMail.evans@thyme>' ====\n",
      "Predicted label: NORESPONSE. True label: REPLY\n",
      "<s> please find attached the current copy of the enrononline daily public report and key messages , including slides and statistics for public consumption . the information contained in the attachments can be communicated to audiences outside the company and should be used to ensure that we present a consistent message to the public . please ensure that this email is distributed to anyone in your group who needs to discuss enrononline with individuals outside the company . please note that this report is not intended to be used as a stand-alone presentation , nor that all the information be used in a single presentation or customer communication . </s>\n",
      "------------------------------------\n",
      "==== b'<25841147.1075845074905.JavaMail.evans@thyme>' ====\n",
      "Predicted label: REPLY. True label: REPLY\n",
      "<s> industrial markets ( led by bruce garner in europe and jeff mcmahon worldwide ) is expecting significant growth this year . jeff and bruce expect that by year end , they will have approximately NNNUMMM commercial people in europe and will need significant support for their efforts . this is a very exciting new business area for us in europe and we need to ensure that they have sufficient resource dedicated to help them in their efforts . could each of you sit down with bruce and agree the resource which will be dedicated to his group . as a base proposition , all resources should be UUUNKKK out of europe and each group must have at least one person who is accountable to bruce for support . costs will be UUUNKKK in the normal way . please let jeff and i know what is agreed and call me if there are any difficulties . thanks . michael < embedded picture ( device independent UUUNKKK ) > </s>\n",
      "------------------------------------\n",
      "==== b'<6840658.1075858890238.JavaMail.evans@thyme>' ====\n",
      "Predicted label: NORESPONSE. True label: NORESPONSE\n",
      "<s> usa : enron shares in stay in UUUNKKK after downgrade . reuters english news service , UUUNKKK usa : us companies ' credit quality to UUUNKKK 's . reuters english news service , UUUNKKK enron 's lenders to demand UUUNKKK terms , analysts say ( update1 ) bloomberg , UUUNKKK usa : enron shares drop despite further UUUNKKK attempts . reuters english news service , UUUNKKK usa : enron says in talks with banks for new credit line . reuters english news service , UUUNKKK usa : update UUUNKKK says in talks with banks for new credit line . reuters english news service , UUUNKKK power points : enron may have to UUUNKKK UUUNKKK focus dow jones energy service , UUUNKKK official correction enron long-term ratings downgraded to UUUNKKK - UUUNKKK afx news , UUUNKKK usa : moody 's cuts enron to NNNUMMM UUUNKKK above `` junk '' . reuters english news service , UUUNKKK uk : europe energy firms wary of enron on credit worries . reuters english news service , UUUNKKK bandwidth beat : enron puts spotlight back on broadband dow jones energy service , UUUNKKK usa : enron shares in stay in UUUNKKK after downgrade . UUUNKKK reuters english news service ( c ) reuters limited NNNUMMM . new york , oct NNNUMMM ( reuters ) - enron corp. 's share price UUUNKKK above UUUNKKK lows UUUNKKK in earlier trade monday after moody 's investor service cut the credit status of its senior unsecured debt of north america 's largest energy trader to two ratings above junk status . enron , the largest electricity and natural gas trader in north america , also on monday said it was in talks with banks to expand its credit lines to ease financial concerns that have sent its </s>\n",
      "------------------------------------\n",
      "==== b'<5906883.1075856094329.JavaMail.evans@thyme>' ====\n",
      "Predicted label: REPLY. True label: REPLY\n",
      "<s> per discussion with rac management , during the budget approval process rac 's initial budget for doorstep was eliminated . consequently , we can not accept any charges from UUUNKKK for travel expenses . ted murphy indicated that rick causey stated at the inception of doorstep that doorstep costs should be charged to the business unit subject to the doorstep visit . if you have any other questions , give me a call . regards , cassandra . </s>\n",
      "------------------------------------\n",
      "==== b'<5605351.1075847582050.JavaMail.evans@thyme>' ====\n",
      "Predicted label: NORESPONSE. True label: NORESPONSE\n",
      "<s> dear colleague : the edison electric institute just published a report i wrote on real-time balancing operations and markets : key to competitive wholesale electricity markets . the report is available from the publications page of my website , UUUNKKK . here is a summary of the report : electricity production and consumption must occur at essentially the same time . therefore , real-time ( UUUNKKK ) operations and the associated markets and prices are essential UUUNKKK of a competitive wholesale electricity industry . in addition , these UUUNKKK markets are the foundation of all forward markets and contracts , including UUUNKKK and day-ahead markets , monthly futures , and bilateral contracts . finally , these UUUNKKK operations maintain system reliability by ensuring that enough and the right kinds of supply and demand resources are available when needed . because of various load , generation , and transmission factors , balancing generation to load on a UUUNKKK basis is complicated . loads are volatile , both from hour to hour and from minute to minute during the morning UUUNKKK and evening UUUNKKK . generators differ substantially in their costs of electricity production . in addition , generators have various UUUNKKK characteristics , such as maximum and minimum output levels and maximum UUUNKKK , that limit their ability to respond rapidly to changes in system load or generation . finally , transmission characteristics affect the real-time balancing function because of congestion and sudden transmission outages . these factors can lead to dramatic and rapid changes in electricity prices , including occasional negative prices when generators pay someone to take their output . the early years of operations by independent system operators ( isos ) , based on the experiences in new england , new york , and california , </s>\n",
      "------------------------------------\n",
      "==== b'<8949473.1075855849173.JavaMail.evans@thyme>' ====\n",
      "Predicted label: NORESPONSE. True label: NORESPONSE\n",
      "<s> invitations have been mailed to all vp 's and above for the annual enron management conference to be held at the hyatt hill country in san antonio november UUUNKKK . hopefully , you have received your invitation ( more to save the date than to provide any detail at this point ) . if you have not received your invitation , please let me know . </s>\n",
      "------------------------------------\n",
      "==== b'<4186747.1075859903179.JavaMail.evans@thyme>' ====\n",
      "Predicted label: NORESPONSE. True label: NORESPONSE\n",
      "<s> i received the attachment you sent to me at christmas but was not sure how well it worked for you to UUUNKKK them . i took a roll of film to be developed and they had a special on having the photos returned on a disk as well as UUUNKKK . i though they were the christmas pictures that i could send to you right away - but it turns out it was an old roll . </s>\n",
      "------------------------------------\n",
      "==== b'<26320946.1075856096619.JavaMail.evans@thyme>' ====\n",
      "Predicted label: NORESPONSE. True label: NORESPONSE\n",
      "<s> julie called me immediately after getting my e : mail message about you . her role has changed once again at enron ! she is running more of a fundamentals group at present . wanted to know if you would be interested in that . told her that i could n't speak for you . i 'd suggest that you contact her and talk with her even if at first UUUNKKK that may not be your first interest . ca n't hurt to hear about what she is doing and spend some time with her . you may not then be interested in her rotation , but you 'll know more and she will know you . fyi - she is a university of UUUNKKK graduate . -- sally </s>\n",
      "------------------------------------\n",
      "==== b'<15632666.1075846168794.JavaMail.evans@thyme>' ====\n",
      "Predicted label: NORESPONSE. True label: NORESPONSE\n",
      "<s> hi steven , attached is the first of four documents that we have prepared for the focus groups . all of the exercises are works in progress and i am sending them to you for comments . ( hopefully , we are on the right track . ) as we discussed , i am happy to fly down to houston tomorrow so that we can review these materials together . if , however , you feel that we can edit the exercises via email that 's fine too . just let me know which arrangement makes you the most sense to you . hope all is well . regards , liz < < UUUNKKK regulation UUUNKKK > > an UUUNKKK speech is in the works . - UUUNKKK regulation UUUNKKK </s>\n",
      "------------------------------------\n",
      "==== b'<24178800.1075860083773.JavaMail.evans@thyme>' ====\n",
      "Predicted label: NORESPONSE. True label: NORESPONSE\n",
      "<s> what a great UUUNKKK ! sorry for the confusion on getting together - i 'll try to start earlier next time . </s>\n",
      "------------------------------------\n",
      "==== b'<29803210.1075847591414.JavaMail.evans@thyme>' ====\n",
      "Predicted label: REPLY. True label: REPLY\n",
      "<s> the next corporate policy committee offsite is scheduled to take place on monday , may NNNUMMM , UUUNKKK 8:30 a.m. to 1:00 p.m. , location to be determined . please mark your calendars and let me know immediately if you have a conflict with this date and time . thanks , srs </s>\n",
      "------------------------------------\n",
      "==== b'<15887956.1075846359033.JavaMail.evans@thyme>' ====\n",
      "Predicted label: NORESPONSE. True label: NORESPONSE\n",
      "<s> please see the attached articles : </s>\n",
      "------------------------------------\n",
      "==== b'<16636104.1075862343478.JavaMail.evans@thyme>' ====\n",
      "Predicted label: REPLY. True label: REPLY\n",
      "<s> attached are two versions of a press release . we plan to issue one of these before market open tomorrow . the second version assumes financial close on the remainder of the secured credit facility ( i need someone to confirm or deny ) . the first version speaks only to the merger and our debt restructuring efforts . please review and provide comments as soon as possible to me and karen denne ( UUUNKKK @ enron.com ) . i understand that jeff mcmahon and jimmy lee will discuss the attached at 7:00 cst tomorrow . < < UUUNKKK > > < < UUUNKKK > > </s>\n",
      "------------------------------------\n",
      "==== b'<10734158.1075849842007.JavaMail.evans@thyme>' ====\n",
      "Predicted label: NORESPONSE. True label: NORESPONSE\n",
      "<s> by now , you should all have your travel plans finalized . please help us in planning by providing your itinerary including flights and UUUNKKK times to marvia jefferson if you have n't already done so . we need this by tomorrow morning if possible , so we can finalize all plans for UUUNKKK and transportation . please review the attached document for additional details on the ase event including hotel , transportation , and schedule . changes from the previous communication have been highlighted in blue . in addition , here are driving directions to and from various places should you require them . should you have any further questions , please feel free to call either myself at UUUNKKK or marvia at UUUNKKK . see you in dallas ! </s>\n",
      "------------------------------------\n",
      "==== b'<2907909.1075858594057.JavaMail.evans@thyme>' ====\n",
      "Predicted label: REPLY. True label: REPLY\n",
      "<s> i hope this is n't too late . if you need to reach me , i 'm in the london office today and tomorrow . i think the correct approach is to revise the functionality and add a line or two to the description of how limit orders work , an answer in the faq section , a line for the UUUNKKK transaction ' screen and a script for the help desk . i 'm thinking of something to the effect of : once a limit order has been placed by a counterparty , that counterparty will not be able to complete a transaction with enron in that product on the other side of the market at the price specified in the limit order . for example , if a counterparty enters a limit order to sell to enron at price x , that counterparty may not buy from enron at price x while the limit order is active . note that this needs to be done on a counterparty basis , not at the sub user level . that needs to be clear from the language we use so i have avoided the UUUNKKK UUUNKKK ' and used counterparty . the UUUNKKK transaction ' screen could show the failure reason as : UUUNKKK company has an active limit order in effect at the price at which you attempted to transact . the limit order system does not allow you to transact with enron on both sides of the market at the same price simultaneously . ' if you want to keep it short , the second sentence is optional as long as the necessary UUUNKKK language appears somewhere on the web site . mark taylor vice president and general counsel enron wholesale services ( NNNUMMM ) 853-7459 </s>\n",
      "------------------------------------\n",
      "==== b'<25809609.1075859995165.JavaMail.evans@thyme>' ====\n",
      "Predicted label: REPLY. True label: REPLY\n",
      "<s> sami , in response to your query , enron tax has not been involved yet . brent , andrea and i tried to talk with lynn UUUNKKK last week but unfortunately he was not available . also , since the deal was only clearly outlined yesterday we did n't think it was necessary to pressure lynn yet . initially , we are thinking of using UUUNKKK , however we will have to run it through tax first to see whether there are any tax implications . if there are , we will look into either creating an UUUNKKK or using an existing company if the corporate purpose allows . andrea b. and i tried to contact you earlier today on the outside counsel issue , but you were UUUNKKK . we spoke with alberto navarro UUUNKKK , senior partner of UUUNKKK , in argentina which mainly works with the UUUNKKK group . andrea b. met him some time ago at an event organized at UUUNKKK UUUNKKK in san pablo ( since he is associated with this firm ) and thought his firm was of interest . i have also met alberto in the past , and think his UUUNKKK are worth taking into account . in addition to this , the matter was discussed with mike UUUNKKK and he believes that given the nature of the business being carried out by the UUUNKKK group in argentina , UUUNKKK would probably have the expertise to assist us in these transactions . i just received their brochure which was faxed to the san pablo office for your review . andrea and i would like to discuss this issue with randy and you as soon as you get the chance to read the material . please give me a call if </s>\n",
      "------------------------------------\n",
      "==== b'<825436.1075860253345.JavaMail.evans@thyme>' ====\n",
      "Predicted label: REPLY. True label: REPLY\n",
      "<s> attached is the term sheet i have prepared for the UUUNKKK deal . please review and provide comments . i would like to send it to aquila by the end of today . i will provide a copy to structuring . they are going to UUUNKKK the deal as of today so that we have current values . ben : you and i should talk this morning regarding the open pricing issues . call me to discuss . fred </s>\n",
      "------------------------------------\n",
      "==== b'<32755547.1075860059063.JavaMail.evans@thyme>' ====\n",
      "Predicted label: NORESPONSE. True label: NORESPONSE\n",
      "<s> i see what you mean , and i ca n't explain the bcc - unfortunately , unless they use `` mtaylo1 @ ect.enron.com '' it does n't get here . it must just UUUNKKK into UUUNKKK . thanks for continuing to send them on . mark </s>\n",
      "------------------------------------\n",
      "==== b'<2576888.1075851019290.JavaMail.evans@thyme>' ====\n",
      "Predicted label: NORESPONSE. True label: REPLY\n",
      "<s> attached is the document reflecting the changes in the prc reps pursuant to our conversation yesterday afternoon . please call if you need any additional information . charlene UUUNKKK </s>\n",
      "------------------------------------\n",
      "==== b'<20773637.1075859942167.JavaMail.evans@thyme>' ====\n",
      "Predicted label: NORESPONSE. True label: NORESPONSE\n",
      "<s> this is a follow-up to my e-mail sent earlier . the product type has been built in test and UUUNKKK your approval . please offer that approval as quickly as UUUNKKK , as john UUUNKKK is eager to see this offered on eol . dale 3-9746 </s>\n",
      "------------------------------------\n",
      "==== b'<25552804.1075860059524.JavaMail.evans@thyme>' ====\n",
      "Predicted label: NORESPONSE. True label: NORESPONSE\n",
      "<s> thanks for the itinerary . please note that my e-mail address begins with mtaylo1 , not UUUNKKK ( which goes to UUUNKKK taylor ) . </s>\n",
      "------------------------------------\n"
     ]
    }
   ],
   "source": [
    "print_examples(preds, outputs, inputs, lens, email_ids)"
   ]
  },
  {
   "cell_type": "code",
   "execution_count": null,
   "metadata": {},
   "outputs": [],
   "source": []
  }
 ],
 "metadata": {
  "kernelspec": {
   "display_name": "Python 3",
   "language": "python",
   "name": "python3"
  },
  "language_info": {
   "codemirror_mode": {
    "name": "ipython",
    "version": 3
   },
   "file_extension": ".py",
   "mimetype": "text/x-python",
   "name": "python",
   "nbconvert_exporter": "python",
   "pygments_lexer": "ipython3",
   "version": "3.6.3"
  }
 },
 "nbformat": 4,
 "nbformat_minor": 2
}
