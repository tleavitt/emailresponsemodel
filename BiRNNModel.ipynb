{
 "cells": [
  {
   "cell_type": "code",
   "execution_count": 25,
   "metadata": {},
   "outputs": [],
   "source": [
    "from data_util import load_embeddings, DMConfig, tfConfig\n",
    "try:\n",
    "    import _pickle as cPickle\n",
    "except ImportError:\n",
    "    import cPickle\n",
    "import gzip\n",
    "import os\n",
    "import numpy as np\n",
    "from defs import LBLS"
   ]
  },
  {
   "cell_type": "code",
   "execution_count": 26,
   "metadata": {},
   "outputs": [
    {
     "name": "stdout",
     "output_type": "stream",
     "text": [
      "The autoreload extension is already loaded. To reload it, use:\n",
      "  %reload_ext autoreload\n"
     ]
    }
   ],
   "source": [
    "%load_ext autoreload\n",
    "%autoreload 2"
   ]
  },
  {
   "cell_type": "code",
   "execution_count": 27,
   "metadata": {},
   "outputs": [],
   "source": [
    "config = DMConfig()\n",
    "if os.path.exists(config.tok2id_path):\n",
    "    with gzip.open(os.path.abspath(config.tok2id_path)) as f:\n",
    "        tok2id = cPickle.load(f)\n",
    "if os.path.exists(config.id2tok_path):\n",
    "    with gzip.open(os.path.abspath(config.id2tok_path)) as f:\n",
    "        id2tok = cPickle.load(f)"
   ]
  },
  {
   "cell_type": "code",
   "execution_count": 28,
   "metadata": {},
   "outputs": [
    {
     "name": "stderr",
     "output_type": "stream",
     "text": [
      "INFO:Initialized embeddings.\n"
     ]
    }
   ],
   "source": [
    "embeddings = load_embeddings(config, tok2id)"
   ]
  },
  {
   "cell_type": "code",
   "execution_count": 29,
   "metadata": {},
   "outputs": [
    {
     "data": {
      "text/plain": [
       "(10008, 50)"
      ]
     },
     "execution_count": 29,
     "metadata": {},
     "output_type": "execute_result"
    }
   ],
   "source": [
    "embeddings.shape"
   ]
  },
  {
   "cell_type": "markdown",
   "metadata": {},
   "source": [
    "## Training"
   ]
  },
  {
   "cell_type": "code",
   "execution_count": 43,
   "metadata": {},
   "outputs": [],
   "source": [
    "from tf_birnn_classifier import TfBiRNNClassifier\n",
    "from defs import PROJECT_DIR"
   ]
  },
  {
   "cell_type": "code",
   "execution_count": null,
   "metadata": {},
   "outputs": [
    {
     "name": "stderr",
     "output_type": "stream",
     "text": [
      "INFO:Initializing data manager...\n",
      "INFO:took 0 s\n",
      "INFO:Building model...\n",
      "INFO:took 0 s\n"
     ]
    },
    {
     "name": "stdout",
     "output_type": "stream",
     "text": [
      "fw outputs:  (?, 300, 50)\n",
      "bw outputs:  (?, 300, 50)\n",
      "all outputs:  (?, 300, 100)\n",
      "all states:  (?, 100)\n",
      "W_attn: (100, 25)\n"
     ]
    },
    {
     "name": "stderr",
     "output_type": "stream",
     "text": [
      "INFO:-- Initializingt new model\n",
      "INFO:Starting epoch 1\n",
      "INFO: == Evaluating on development data after batch 50\n",
      "INFO:Ran 40 batches\n",
      "INFO:== Results for 40 batches of size 32\n",
      "INFO:== Precision: 0.628, Recall: 0.628, F1: 0.628\n",
      "INFO:-- Saving model\n"
     ]
    }
   ],
   "source": [
    "model = TfBiRNNClassifier(embedding=embeddings, eta=0.001, use_attn = True,\n",
    "                           ckpts_prefix='{}/checkpoints/linear_model/birnn-model'.format(PROJECT_DIR),\n",
    "                           summaries_dir='{}/summaries-birnn/'.format(PROJECT_DIR)\n",
    "                          )\n",
    "model.fit(tfConfig, restore_weights=False, batches_to_eval=50, max_iter=1)"
   ]
  },
  {
   "cell_type": "markdown",
   "metadata": {},
   "source": [
    "## Evaluation"
   ]
  },
  {
   "cell_type": "code",
   "execution_count": 45,
   "metadata": {},
   "outputs": [],
   "source": [
    "def print_example(pred, label, feats, length, email_id):\n",
    "    ids_ = feats[:length][:, 0]\n",
    "    print(\"==== {} ====\".format(email_id))\n",
    "    print(\"Predicted label: {}. True label: {}\".format(LBLS[pred], LBLS[label]))\n",
    "    print( \" \".join((id2tok[i] for i in ids_)) )\n",
    "    print(\"------------------------------------\")\n",
    "\n",
    "    \n",
    "\n",
    "def print_examples(preds, outputs, inputs, lens, email_ids):\n",
    "    for p, o, i, l, d in zip(preds, outputs, inputs, lens, email_ids):\n",
    "        print_example(p, o, i, l, d)"
   ]
  },
  {
   "cell_type": "code",
   "execution_count": 46,
   "metadata": {},
   "outputs": [
    {
     "name": "stdout",
     "output_type": "stream",
     "text": [
      "Predicted 19 of 32 examples correctly (accuracy: 0.594)\n"
     ]
    }
   ],
   "source": [
    "preds, inputs, lens, outputs, email_ids = model.predict()\n",
    "correct = preds == outputs\n",
    "print(\"Predicted {} of {} examples correctly (accuracy: {:.3f})\".format(np.sum(correct), correct.shape[0], np.mean(correct)))"
   ]
  },
  {
   "cell_type": "code",
   "execution_count": 47,
   "metadata": {},
   "outputs": [
    {
     "name": "stdout",
     "output_type": "stream",
     "text": [
      "==== b'<14438841.1075848147472.JavaMail.evans@thyme>' ====\n",
      "Predicted label: NORESPONSE. True label: REPLY\n",
      "<s> attached are the presentations for the corporate staff group and the NNNUMMM goals . there have been slight modifications to the format . </s>\n",
      "------------------------------------\n",
      "==== b'<16926152.1075862380054.JavaMail.evans@thyme>' ====\n",
      "Predicted label: NORESPONSE. True label: NORESPONSE\n",
      "<s> john sherriff and michael brown would like to send out the attached letter to employees in europe this afternoon ( ie in the next NNNUMMM hours ) . i would be grateful if you would review it and let us have your approval as soon as possible . i have a couple of questions in relation to the content : NNNUMMM . can we refer to wessex water on our list of non-core assets in europe ? NNNUMMM . can we list the specific businesses under review as per the proposed draft below ( which is not included in the attached draft ? ) `` the businesses currently under review in europe are global markets ( except coal ) , industrial markets , metals , credit and the wind turbine manufacturing business . also under review is the e power generation asset development business in japan '' . given that these businesses are being identified in the media i would assume that we can although note that they do n't appear in your message point summary received last night . a prompt response would be very much appreciated . thanks . jackie </s>\n",
      "------------------------------------\n",
      "==== b'<2209929.1075851004865.JavaMail.evans@thyme>' ====\n",
      "Predicted label: NORESPONSE. True label: REPLY\n",
      "<s> UUUNKKK UUUNKKK is with wilson at 3pm today . you may wish to sit in . UUUNKKK is new to the embassy i have told him we would provide him with a UUUNKKK of who does what . could you send that to me . regards mfg </s>\n",
      "------------------------------------\n",
      "==== b'<31541719.1075848072383.JavaMail.evans@thyme>' ====\n",
      "Predicted label: NORESPONSE. True label: REPLY\n",
      "<s> okay , thanks , joe steven j kean @ ees UUUNKKK UUUNKKK pm to : joseph w UUUNKKK @ enron_development cc : subject : joe -- tom delay is having an event in houston on sept NNNUMMM . a table is $ NNNUMMM . jeff is giving , i 'm giving and the pac is giving . would you be willing to give NNNUMMM ? </s>\n",
      "------------------------------------\n",
      "==== b'<8750629.1075855919562.JavaMail.evans@thyme>' ====\n",
      "Predicted label: NORESPONSE. True label: NORESPONSE\n",
      "<s> rick : this is a draft of the language to be used in a UUUNKKK memo to go out on their new organization . i worked with mike on the language for this paragraph . any comments or suggested changes ? mike would like to send this out asap , ideally this afternoon . thanks for taking a look . draft brent price will be joining enron global markets as vice president of operations and chief accounting officer . he will report to the egm office of the chairman , and to sally beck , vice president of global risk management operations . he will coordinate with rick causey , executive vice president and chief accounting officer for enron corp. , on accounting issues and reporting earnings . reporting to brent in his new position will be sheila glover , business controller for global financial products ; todd hall , business controller for weather ; and scott earnest , business controller for global products and coal . in addition , tom myers has joined brent 's management team as director of accounting . brent and his team are responsible for all accounting , risk reporting and trading operations for all the businesses within egm . </s>\n",
      "------------------------------------\n",
      "==== b'<33038406.1075855424300.JavaMail.evans@thyme>' ====\n",
      "Predicted label: NORESPONSE. True label: REPLY\n",
      "<s> please see attached . </s>\n",
      "------------------------------------\n",
      "==== b'<22991886.1075849836355.JavaMail.evans@thyme>' ====\n",
      "Predicted label: NORESPONSE. True label: NORESPONSE\n",
      "<s> please find attached the UUUNKKK UUUNKKK global standards exception reporting . i am hoping to get you consolidated reports for the remaining standards by next week as well as work on getting the missing entities reports as well . please let me know if you have any questions . thanks , UUUNKKK </s>\n",
      "------------------------------------\n",
      "==== b'<1004307.1075855906214.JavaMail.evans@thyme>' ====\n",
      "Predicted label: NORESPONSE. True label: NORESPONSE\n",
      "<s> i know that amanda will enjoy seeing you next week . thanks for making some time for her . let 's definitely schedule a return trip for the two of you with some UUUNKKK time ! `` white , cara '' < cwhite @ texas.usta.com > on UUUNKKK UUUNKKK am to : `` 'sally.beck @ enron.com ' '' < sally.beck @ enron.com > cc : subject : visit hi , sal . thanks for your message the other night . we enjoyed seeing everyone and had fun playing with tyler and amanda . ( i still get scared when the lights are out - `` i see dead people '' . . . ) we 'll definitely have to do the golf next time . i like the idea of UUUNKKK around in the UUUNKKK ! mom told me amanda is coming next week , so we 'll do something on one of the nights next week . have a good day ! love , c. cara white community development coordinator usta texas section 1-888-883-6388 cwhite @ texas.usta.com </s>\n",
      "------------------------------------\n",
      "==== b'<14068582.1075858614345.JavaMail.evans@thyme>' ====\n",
      "Predicted label: REPLY. True label: REPLY\n",
      "<s> importance : high < < isda master UUUNKKK > > < < isda master UUUNKKK > > < < isda schedule for UUUNKKK > > < < isda schedule for UUUNKKK > > < < UUUNKKK gas hedge UUUNKKK > > please see the attached rfp with attachments . you can call dave UUUNKKK at UUUNKKK if you have any questions . thank you . david UUUNKKK </s>\n",
      "------------------------------------\n",
      "==== b'<11856240.1075851041155.JavaMail.evans@thyme>' ====\n",
      "Predicted label: NORESPONSE. True label: NORESPONSE\n",
      "<s> attached please find the talking points on dpc to support your efforts in washington , d.c . </s>\n",
      "------------------------------------\n",
      "==== b'<30502711.1075846146427.JavaMail.evans@thyme>' ====\n",
      "Predicted label: NORESPONSE. True label: NORESPONSE\n",
      "<s> sk - i printed this & put it in your working group file . mm team -- attached are my group 's top NNNUMMM objectives at the headquarters level and at the UUUNKKK level for the international pr , marketing communication and social responsibility areas . how we prioritize we arrive at these objectives after discussion with heads of the business units and senior management , and we focus on goals that support the priority business goals of the company and UUUNKKK the reputation of the company as a whole . on a quarterly basis ( at least ) we review these top objectives and ensure that we are staying on target . internationally , we are faced with numerous issues and crises which must be dealt with and they also take on a priority spot when they occur . there is an issue with UUUNKKK that we must constantly deal with . some of our clients are pr savvy and wish to use our services , which should please us except that sometimes small , low priority and UUUNKKK projects use too much of our time that should be spent elsewhere . UUUNKKK , we sometimes have important projects that the developer wishes to keep low budget and we are not allowed to have the level of input that we should . how human and financial resources are allocated the bulk of our human resources currently are allocated to the regions , and the structure is an area in transition since the reorganization and in light of several open positions that we have . we determine in conjunction with the business units the proper number and level of staff . the regional pr head determines how his or her junior people are assigned . at the headquarters </s>\n",
      "------------------------------------\n",
      "==== b'<17678320.1075855819650.JavaMail.evans@thyme>' ====\n",
      "Predicted label: NORESPONSE. True label: NORESPONSE\n",
      "<s> attached please find a key contact list for energy operations for the UUUNKKK =20 of december NNNUMMM and december NNNUMMM , NNNUMMM . note the following schedule for risk= =20 book reporting to accommodate the UUUNKKK trade date enron status nymex equity market consolidated risk UUUNKKK =20 thursday , UUUNKKK holiday open open dpr published =01 ) normal schedule ** friday , UUUNKKK holiday closed closed dpr not published ** monday , 12/27 open * open open dpr includes UUUNKKK & 12/27 p & l tuesday , UUUNKKK open * open open dpr published =01 ) normal schedule wednesday , 12/29 open open open dpr published =01 ) normal schedule =20 thursday , UUUNKKK open open open dpr published =01 ) normal month-end schedule friday , UUUNKKK holiday closed open dpr not published ** ( closed 1pm est ) monday , UUUNKKK holiday closed open dpr not published ** tuesday , UUUNKKK open open open dpr includes UUUNKKK , UUUNKKK & UUUNKKK =20 notes : * canadian holiday ** trader p & l and position reports will be produces for traded products = =20 distribution : =20 ena office of the chairman commercial pulp & paper energy operations cliff baxter greg whalley edward UUUNKKK kristin albrecht kevin hannon sheila glover natural gas financial products todd hall ena - other jeff shankman gary hickerson peggy hedstrom philippe bibi john arnold brenda herod wanda curry tom martin merchant portfolio mike UUUNKKK jordan UUUNKKK scott neal andrea reed scott pleus bob UUUNKKK brent price enron canada hunter shively weather leslie reeves john lavorato linda UUUNKKK stephen UUUNKKK power bob shults enron corp. jim fallon bandwidth mary solmonson rick causey tim belden tom gros bob superty ted murphy =20 </s>\n",
      "------------------------------------\n",
      "==== b'<4497107.1075846384132.JavaMail.evans@thyme>' ====\n",
      "Predicted label: NORESPONSE. True label: REPLY\n",
      "<s> c. UUUNKKK relating to transactions in enron corp. common stock i have been asked to make a brief presentation at next UUUNKKK , s UUUNKKK e=20 committee meeting addressing a new UUUNKKK . insider trading rule . although t= he=20 new rule may increase exposure to liability for insider trading , UUUNKKK provisions of the new rule may actually provide for greater flexibility in= =20 the timing of your personal trades in enron corp. common stock . attached i= s=20 a short memo addressing our current company procedures and policies for=20 trading , the new UUUNKKK . rule , and some suggestions for alternatives that yo= UUUNKKK may want to consider concerning your personal trades in enron corp. UUUNKKK =20 stock . if anyone wants to discuss the new rule and the trading UUUNKKK s=20 provided by the new rule before next UUUNKKK , s meeting , please don=01 , t UUUNKKK UUUNKKK to=20 give me a call at UUUNKKK . thank you . attachments =20 </s>\n",
      "------------------------------------\n",
      "==== b'<17227966.1075860071312.JavaMail.evans@thyme>' ====\n",
      "Predicted label: NORESPONSE. True label: REPLY\n",
      "<s> mark , attached is the site structure UUUNKKK we were looking at earlier . let me know if you have any questions or would like to discuss the credit interface more thoroughly . i will also forward the clean presentation copy with i get it back from graphics . UUUNKKK </s>\n",
      "------------------------------------\n",
      "==== b'<7543192.1075856045617.JavaMail.evans@thyme>' ====\n",
      "Predicted label: NORESPONSE. True label: NORESPONSE\n",
      "<s> congratulations on the birth of UUUNKKK . i hope that everyone is doing well . enjoy your time off and the opportunity to hold and UUUNKKK that new baby . i will look forward to seeing pictures the next time that we get together . -- sally </s>\n",
      "------------------------------------\n",
      "==== b'<6959819.1075862093672.JavaMail.evans@thyme>' ====\n",
      "Predicted label: NORESPONSE. True label: REPLY\n",
      "<s> you 're up UUUNKKK . pay particular attention to UUUNKKK of the UUUNKKK 's trust and UUUNKKK the so2 book . add changes to the UUUNKKK , on or by UUUNKKK , then mike t can go through put them in . we need to present the week after thanksgiving . tw </s>\n",
      "------------------------------------\n",
      "==== b'<20638281.1075859996253.JavaMail.evans@thyme>' ====\n",
      "Predicted label: NORESPONSE. True label: NORESPONSE\n",
      "<s> mark , just ensuring you are in agreement with what i am seeing in brazil : - andrea UUUNKKK is legal counsel in brazil who is working with you on enrononline . - UUUNKKK UUUNKKK is outside legal counsel for enrononline in brazil . dave </s>\n",
      "------------------------------------\n",
      "==== b'<21207276.1075848094371.JavaMail.evans@thyme>' ====\n",
      "Predicted label: NORESPONSE. True label: NORESPONSE\n",
      "<s> attached is a merrill lynch report concerning sempra and rate uncertainty in southern california . </s>\n",
      "------------------------------------\n",
      "==== b'<18058805.1075860326788.JavaMail.evans@thyme>' ====\n",
      "Predicted label: NORESPONSE. True label: NORESPONSE\n",
      "<s> mark , in holly 's absence please approve this request for i know that this order was needed right away . thank you enron it purchasing UUUNKKK UUUNKKK am sent by : UUUNKKK flores to : holly UUUNKKK @ enron_development cc : subject : re : ibuyit UUUNKKK request thank you for submitting an order through ibuyit UUUNKKK . unfortunately , the system was not able to determine who should approve your request . please route this document to the person who generally approves your expenditures and have them send an email to enron it purchasing UUUNKKK the approval . to facilitate the communication , attached you will see the list of items you ordered . thank you , for future orders , we can update the workflow table to route directly to the approver if you provide the UUUNKKK ' names . </s>\n",
      "------------------------------------\n",
      "==== b'<22029465.1075850563431.JavaMail.evans@thyme>' ====\n",
      "Predicted label: NORESPONSE. True label: REPLY\n",
      "<s> i have updated the material i sent you yesterday to include information on expansion plans of bonneville and pacificorp , the two biggest owners in the northwest power pool . ( in the us portion of the pool , bpa has NNNUMMM % of the investment , pacificorp about NNNUMMM % and the remaining iou 's the other NNNUMMM % . the statement `` bonneville owns NNNUMMM % of the transmission in the northwest '' is only true if you exclude canada , most of montana and idaho , all of wyoming , utah and nevada . ) do n't quote the data for pacificorp , since it is not final and publicly announced . the bonneville data is from public sources . </s>\n",
      "------------------------------------\n",
      "==== b'<122610.1075848151704.JavaMail.evans@thyme>' ====\n",
      "Predicted label: NORESPONSE. True label: NORESPONSE\n",
      "<s> you are invited to a meeting next thursday ( UUUNKKK ) afternoon at 2:00 to discuss energy commodity and renewable energy credits for the enron building , center and stadium . there are a few efforts that are going on simultaneously and i thought it would be a good idea for all of us to meet and get on the same page . as many of you might know , enron wind ( michael payne ) and ena ( mike curry ) have a great proposal to retire renewable energy credits from our enron wind facility to match the consumption of the building and stadium ( details attached below ) . if this proposal goes forward , enron would be the 1st fortune NNNUMMM company to `` go green '' in its headquarters building . couple this w/ our energy star award , and we have great environmental messaging . we 'd like to highlight this announcement on earth day ( april 22nd ) . the facilities folks are interested in switching from reliant to ees for actual commodity . it makes sense to work UUUNKKK together on UUUNKKK proposal that will not only make sense economically , but that we can use in our messaging . the focus of the meeting is to discuss the various proposals , and steps for moving forward . the meeting will be in UUUNKKK from UUUNKKK . please let me know if you or someone from your group can attend . stacey bolton environmental strategies enron corp UUUNKKK </s>\n",
      "------------------------------------\n",
      "==== b'<8292943.1075859971316.JavaMail.evans@thyme>' ====\n",
      "Predicted label: REPLY. True label: REPLY\n",
      "<s> < < UUUNKKK > > nora : i took your outline and put my current thinking in UUUNKKK . ++++++confidentiality notice+++++ the information in this email may be confidential and/or privileged . this email is intended to be reviewed by only the individual or organization named above . if you are not the intended recipient or an authorized representative of the intended recipient , you are hereby notified that any review , dissemination or copying of this email and its attachments , if any , or the information contained herein is prohibited . if you have received this email in error , please immediately notify the sender by return email and delete this email from your system . thank you - UUUNKKK </s>\n",
      "------------------------------------\n",
      "==== b'<22089100.1075845071402.JavaMail.evans@thyme>' ====\n",
      "Predicted label: NORESPONSE. True label: NORESPONSE\n",
      "<s> concur expense ( xms ) upgrade ! on july NNNUMMM , NNNUMMM , enron 's corporate expense management solution will UUUNKKK an upgrade to version UUUNKKK . the integrated solution center ( isc ) has developed a transition plan containing several important deadlines affecting all xms users . transition schedule important date # NNNUMMM - monday , june 18th ? american express transactions will no longer be loaded into the current xms system starting june 18th . beginning june 18th , all UUUNKKK transactions will be loaded into the new concur expense ( xms ) system . ? beginning june 18th , the isc will be solely responsible for adding new users to the current xms system . on july 2nd , new users created in sap hr will be automatically loaded into the new concur expense ( xms ) system . important date # NNNUMMM - wednesday , june 27th ? this marks the deadline for entering new expense reports into the current xms system . all open expense reports in xms must be submitted and approved by june 27th . all users will be locked out of xms after this date ! ! important date # NNNUMMM - monday , july 2nd ? the new version of concur expense ( xms UUUNKKK . UUUNKKK ) goes live ! ! ! for a list of frequently asked questions ( faq ) , please click on the following link : http : UUUNKKK if you have any other questions on any of the above items , please contact the isc call center at UUUNKKK . </s>\n",
      "------------------------------------\n",
      "==== b'<19387301.1075846192366.JavaMail.evans@thyme>' ====\n",
      "Predicted label: NORESPONSE. True label: REPLY\n",
      "<s> sherri , there is a UUUNKKK party tonight at UUUNKKK if you are available ! -- -- -- -- -- from : UUUNKKK @ aol.com [ smtp : UUUNKKK @ aol.com ] sent : thursday , november NNNUMMM , NNNUMMM UUUNKKK pm to : UUUNKKK @ UUUNKKK ; UUUNKKK @ UUUNKKK ; sharon @ UUUNKKK ; UUUNKKK @ UUUNKKK ; UUUNKKK @ UUUNKKK subject : re : fw : election news < < UUUNKKK > > i 'll send it again here -- just a missouri political UUUNKKK ... i 'll UUUNKKK it to a few of you in case you had trouble opening it ... - UUUNKKK </s>\n",
      "------------------------------------\n",
      "==== b'<16187138.1075860081562.JavaMail.evans@thyme>' ====\n",
      "Predicted label: NORESPONSE. True label: REPLY\n",
      "<s> greg , attached are the proposed eol power products with your comments included . please pass this on to mark taylor for his approval . dianne </s>\n",
      "------------------------------------\n",
      "==== b'<19715756.1075858757238.JavaMail.evans@thyme>' ====\n",
      "Predicted label: NORESPONSE. True label: NORESPONSE\n",
      "<s> yesterday , wes and i discussed some changes to the timing of enw budget meetings with louise this week . i also confirmed a swap in times on friday afternoon with vince UUUNKKK . outlined below are the revised topics and revised attendees . the date , time and location of meetings on the calendars of wes , faith and louise remain unchanged - we have simply UUUNKKK and UUUNKKK the enw topics to be covered to facilitate the most UUUNKKK UUUNKKK for understanding enw 's expenses . date time location revised group revised attendees wed , UUUNKKK NNNUMMM - noon UUUNKKK canada support ( unchanged ) wes colwell , faith UUUNKKK , louise kitchen , sally beck , rob UUUNKKK , bob hall ( UUUNKKK for ea operations , including calgary ) thurs , UUUNKKK 1:30 UUUNKKK UUUNKKK enw : eol & infrastructure wes UUUNKKK UUUNKKK , louise kitchen , sally beck , mark pickering , jenny UUUNKKK , greg piper , kerry UUUNKKK , brad UUUNKKK ( UUUNKKK ) , jay webb ( UUUNKKK ) fri , UUUNKKK NNNUMMM - 2pm UUUNKKK research wes colwell , faith UUUNKKK , louise kitchen , vince UUUNKKK ( no changes ) NNNUMMM - 4pm UUUNKKK enw : operations & it UUUNKKK . wes colwell , faith UUUNKKK , louise kitchen , sally beck , beth perlman , mark pickering , greg piper , kerry UUUNKKK , bob hall ( UUUNKKK operations ) i am sending louise a separate e-mail message regarding the changes . wes and faith : locations of the meetings for the above dates and time UUUNKKK remain as they are on your original schedule . if the number of attendees per the revised listing above warrants a room change , please let us know . otherwise </s>\n",
      "------------------------------------\n",
      "==== b'<32764248.1075861983393.JavaMail.evans@thyme>' ====\n",
      "Predicted label: NORESPONSE. True label: NORESPONSE\n",
      "<s> your review and approval of the following product type in the eol data manager is needed ( for directions on approval , please see steps for approval at the bottom of this e-mail ) . please do not approve before NNNUMMM a.m . us gas phy fwd firm < or = UUUNKKK ( internal only ) ( NNNUMMM ) us gas phy UUUNKKK UUUNKKK UUUNKKK a us gas transaction with enron north america corp. , under which seller shall sell and buyer shall purchase a quantity of natural gas equal to the daily contract quantity at the contract price on a firm basis . the contract price shall be as submitted by counterparty via the website . the period of delivery shall be from the effective date through the termination date . the term of the transaction shall UUUNKKK to the date ( s ) set forth in the product description on the website . the transaction is for delivery at the interconnect between UUUNKKK pipelines limited ( `` UUUNKKK '' ) and pg & e gas transmission , northwest ( `` pg & e '' ) at alberta natural gas UUUNKKK , british columbia ( `` UUUNKKK '' ) , on the canadian side of the international border . the price is quoted in us dollars per unit of volume , which will be the contractual UUUNKKK unit of measure against which the price is quoted shall be millions of british thermal units and the quantity shown shall be in millions of UUUNKKK per day . steps for approval : click the start button select programs select test applications select enrononline cluster ( prod ) proceed with usual login/password click the enron online production cluster `` start '' button select enrononline ( this is the eol datamanager </s>\n",
      "------------------------------------\n",
      "==== b'<4392747.1075846191856.JavaMail.evans@thyme>' ====\n",
      "Predicted label: NORESPONSE. True label: REPLY\n",
      "<s> steve , i noticed that our allocation from NNNUMMM to NNNUMMM is going up by NNNUMMM % year on year ( ie ) $ UUUNKKK from $ UUUNKKK . we have been able to keep ena 's direct group expenses flat year on year , we are trying hard to keep the corporate allocation flat year to year as well . do you have a view on how we might be able to achieve this goal ? regards delainey </s>\n",
      "------------------------------------\n",
      "==== b'<1742331.1075855876945.JavaMail.evans@thyme>' ====\n",
      "Predicted label: NORESPONSE. True label: REPLY\n",
      "<s> infinity showed a $ NNNUMMM mm notional curve shift change in the UUUNKKK commodity book for UUUNKKK . this change caused a ( UUUNKKK ) UUUNKKK affect on the trader 's sensitivity report . after talking with susan in ei , it was brought to our attention that the bolivian curve was loaded UUUNKKK on friday , due to a change in ei 's curve UUUNKKK process . this change resulted in the bolivian curve loading throughout NNNUMMM , when it actually goes out to NNNUMMM . the incomplete curve caused infinity to get bad cash flows . as a result , we had to UUUNKKK UUUNKKK reports this morning . final reports were given to traders at 9:00 am . clara </s>\n",
      "------------------------------------\n",
      "==== b'<2197615.1075848139129.JavaMail.evans@thyme>' ====\n",
      "Predicted label: NORESPONSE. True label: NORESPONSE\n",
      "<s> one of ena 's larger merchant investments is UUUNKKK compression company , the country 's largest compression equipment and UUUNKKK company . enron 's investment is valued at about $ NNNUMMM million and we have other commercial and operational relationships with the company . bill UUUNKKK , who is UUUNKKK 's cfo , has asked to be put in touch with the appropriate enron contact for insight into enron 's UUUNKKK on the california power situation and our outlook . would it be possible to arrange a conference call with you or your designee to review our UUUNKKK views with UUUNKKK on this topic ? we would like to accommodate this request if possible . thank you . </s>\n",
      "------------------------------------\n",
      "==== b'<30040150.1075846159491.JavaMail.evans@thyme>' ====\n",
      "Predicted label: NORESPONSE. True label: NORESPONSE\n",
      "<s> baby , i 'm going to san francisco on aug NNNUMMM ? ( sunday ) returning wednesday . UUUNKKK na go ? ? </s>\n",
      "------------------------------------\n",
      "==== b'<14796305.1075860211198.JavaMail.evans@thyme>' ====\n",
      "Predicted label: NORESPONSE. True label: REPLY\n",
      "<s> mark , attached is my resume . thanks for forwarding it . ted - ted c UUUNKKK resume.doc </s>\n",
      "------------------------------------\n"
     ]
    }
   ],
   "source": [
    "print_examples(preds, outputs, inputs, lens, email_ids)"
   ]
  },
  {
   "cell_type": "code",
   "execution_count": null,
   "metadata": {},
   "outputs": [],
   "source": []
  }
 ],
 "metadata": {
  "kernelspec": {
   "display_name": "Python 3",
   "language": "python",
   "name": "python3"
  },
  "language_info": {
   "codemirror_mode": {
    "name": "ipython",
    "version": 3
   },
   "file_extension": ".py",
   "mimetype": "text/x-python",
   "name": "python",
   "nbconvert_exporter": "python",
   "pygments_lexer": "ipython3",
   "version": "3.6.3"
  }
 },
 "nbformat": 4,
 "nbformat_minor": 2
}
