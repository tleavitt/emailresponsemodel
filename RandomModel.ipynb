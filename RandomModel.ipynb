{
 "cells": [
  {
   "cell_type": "code",
   "execution_count": 1,
   "metadata": {},
   "outputs": [],
   "source": [
    "from data_util import load_embeddings, DMConfig, tfConfig\n",
    "try:\n",
    "    import _pickle as cPickle\n",
    "except ImportError:\n",
    "    import cPickle\n",
    "import gzip\n",
    "import os\n",
    "import numpy as np\n",
    "from sklearn import metrics\n",
    "from defs import LBLS"
   ]
  },
  {
   "cell_type": "code",
   "execution_count": 2,
   "metadata": {},
   "outputs": [],
   "source": [
    "%load_ext autoreload\n",
    "%autoreload 2"
   ]
  },
  {
   "cell_type": "code",
   "execution_count": 3,
   "metadata": {},
   "outputs": [],
   "source": [
    "config = DMConfig()\n",
    "if os.path.exists(config.tok2id_path):\n",
    "    with gzip.open(os.path.abspath(config.tok2id_path)) as f:\n",
    "        tok2id = cPickle.load(f)\n",
    "if os.path.exists(config.id2tok_path):\n",
    "    with gzip.open(os.path.abspath(config.id2tok_path)) as f:\n",
    "        id2tok = cPickle.load(f)"
   ]
  },
  {
   "cell_type": "markdown",
   "metadata": {},
   "source": [
    "## Training"
   ]
  },
  {
   "cell_type": "code",
   "execution_count": 21,
   "metadata": {},
   "outputs": [],
   "source": [
    "from tf_random_classifier import TfRandomClassifier\n",
    "from defs import PROJECT_DIR"
   ]
  },
  {
   "cell_type": "code",
   "execution_count": 22,
   "metadata": {},
   "outputs": [
    {
     "name": "stderr",
     "output_type": "stream",
     "text": [
      "INFO:Initializing data manager...\n",
      "INFO:took 0 s\n",
      "INFO:Building model...\n",
      "INFO:took 0 s\n",
      "INFO:-- Initializingt new model\n"
     ]
    },
    {
     "data": {
      "text/plain": [
       "<tf_random_classifier.TfRandomClassifier at 0x7f734f47ba58>"
      ]
     },
     "execution_count": 22,
     "metadata": {},
     "output_type": "execute_result"
    }
   ],
   "source": [
    "model = TfRandomClassifier()\n",
    "model.fit(tfConfig, max_iter=0)"
   ]
  },
  {
   "cell_type": "markdown",
   "metadata": {},
   "source": [
    "## Evaluation"
   ]
  },
  {
   "cell_type": "code",
   "execution_count": 31,
   "metadata": {},
   "outputs": [],
   "source": [
    "def print_example(pred, label, feats, length, email_id):\n",
    "    ids_ = feats[:length][:, 0]\n",
    "    print(\"==== {} ====\".format(email_id))\n",
    "    print(\"Predicted label: {}. True label: {}\".format(LBLS[pred], LBLS[label]))\n",
    "    print( \" \".join((id2tok[i] for i in ids_)) )\n",
    "    print(\"------------------------------------\")\n",
    "\n",
    "\n",
    "def print_examples(preds, outputs, inputs, lens, email_ids):\n",
    "    for p, o, i, l, d in zip(preds, outputs, inputs, lens, email_ids):\n",
    "        print_example(p, o, i, l, d)"
   ]
  },
  {
   "cell_type": "code",
   "execution_count": 33,
   "metadata": {},
   "outputs": [
    {
     "name": "stderr",
     "output_type": "stream",
     "text": [
      "INFO:Ran 100 batches\n"
     ]
    },
    {
     "name": "stdout",
     "output_type": "stream",
     "text": [
      " Predicted 1569 of 3200 examples correctly\n",
      " Precision: 0.333, Recall: 0.489, F1: 0.396\n"
     ]
    }
   ],
   "source": [
    "outputs, preds, word_ids, email_ids = model.evaluate_tfdata(model.sess, dataset_name='test', batch_lim=100, writer=None)\n",
    "\n",
    "preds = np.asarray(preds); outputs = np.array(outputs)    \n",
    "correct = preds == outputs\n",
    "prec, rec, f1, _ = metrics.precision_recall_fscore_support(outputs, preds, average='binary')\n",
    "\n",
    "print(\" Predicted {} of {} examples correctly\".format(np.sum(correct), correct.shape[0]) )\n",
    "print(\" Precision: {:1.3f}, Recall: {:1.3f}, F1: {:1.3f}\".format(prec, rec, f1) )"
   ]
  },
  {
   "cell_type": "code",
   "execution_count": 30,
   "metadata": {},
   "outputs": [
    {
     "name": "stdout",
     "output_type": "stream",
     "text": [
      "==== b'<30206745.1075845014402.JavaMail.evans@thyme>' ====\n",
      "Predicted label: REPLY. True label: REPLY\n",
      "<s> dear peggy : in UUUNKKK to our telephone conversation , please find below brief analysis of the UUUNKKK claim submitted by UUUNKKK UUUNKKK UUUNKKK UUUNKKK , s.a. de UUUNKKK ( `` UUUNKKK '' ) which you have the concern may affect the standing of permits granted to enron UUUNKKK UUUNKKK de mexico , s.a. de UUUNKKK ( `` enron '' ) . the main arguments presented by UUUNKKK in its UUUNKKK complaint seeks to challenge the UUUNKKK of certain legislation , including regulations under which permits are granted for generation of electricity . ? further , UUUNKKK challenges the actions of the energy regulatory ( commission UUUNKKK UUUNKKK de UUUNKKK ) UUUNKKK as it granted a permit to enron and other entities , despite the fact that UUUNKKK had submitted an application earlier in NNNUMMM . ? the challenge is also directed against action of the federal electricity commission ( UUUNKKK federal de UUUNKKK ) and UUUNKKK y UUUNKKK del UUUNKKK , for executing a supply agreement with the permit holders . the claim of UUUNKKK is in our belief UUUNKKK , and so is their initial request to be granted a suspension of effects during the judicial process . it is important to point out that the UUUNKKK claim is filed against laws and actions of authorities , and not against private entities or actions of private entities . from the documents reviewed , enron filed a brief as third interested party affected ( UUUNKKK UUUNKKK ) whereby it essentially presented the argument that UUUNKKK could not UUUNKKK itself of the protection of UUUNKKK , to the extent that it had already UUUNKKK to the validity of regulations at the time it filed itself for an application to be awarded a permit for generation of electric energy </s>\n",
      "------------------------------------\n",
      "==== b'<30340422.1075860459759.JavaMail.evans@thyme>' ====\n",
      "Predicted label: REPLY. True label: REPLY\n",
      "<s> enron -- due wednesday to west desk traders in UUUNKKK : on thursday UUUNKKK , ferc will accept comments on its staff 's plan to provide market mitigation to california iso markets . a summary of the report is copied below . enron ga plans to file a motion that will support the comments of epsa and wptf and supplement the comments as noted below . epsa 's comments are generally supportive of the staff report but recommends that ferc : clarify that staff 's market mitigation measures are being put into place to address structural UUUNKKK in the california market , not the abuse of market power by any market participants ; avoid the use of cost-based rates as a proxy for competitive prices during times of scarcity ; ensure that if cost-based proxy rates are used , those rates includes the full value of scarcity , capacity , opportunity costs , and other factors ; develop proxy rates , if necessary , using the formula in the march 9th refund order rather than the unit specific marginal costs identified in the order ; and UUUNKKK forced bidding into real-time markets . wptf will make similar comments ( generally with more color and UUUNKKK ) and will also raise how lack of creditworthiness will affect price . i also recommend we supplement the UUUNKKK comments with some additional comments on UUUNKKK resources , see attached . please prove sue mara or i with your comments by cob wednesday . thank you , alan comnes report summary ( from epsa ) UUUNKKK that the proposal is designed to apply only to approximately five percent of the market that remains in real-time and not to the bilateral and forward markets , the report immediately notes that `` ultimately the </s>\n",
      "------------------------------------\n",
      "==== b'<2989759.1075859027548.JavaMail.evans@thyme>' ====\n",
      "Predicted label: NORESPONSE. True label: NORESPONSE\n",
      "<s> hi , UUUNKKK . we 're writing to verify that the email address you listed on UUUNKKK is still valid . we send this quarterly note to members in order to ensure that our directory remains up-to-date . you do n't need to reply . sincerely , the staff at UUUNKKK http : UUUNKKK </s>\n",
      "------------------------------------\n",
      "==== b'<16264671.1075853026842.JavaMail.evans@thyme>' ====\n",
      "Predicted label: REPLY. True label: NORESPONSE\n",
      "<s> calendar entry : appointment description : UUUNKKK call support ( lynn 's office ) date : UUUNKKK time : 3:30 pm - 4:30 pm ( central standard time ) UUUNKKK : outlook migration team detailed description : </s>\n",
      "------------------------------------\n",
      "==== b'<7200601.1075846967068.JavaMail.evans@thyme>' ====\n",
      "Predicted label: REPLY. True label: NORESPONSE\n",
      "<s> tana , attached below is the registration form you requested . frank </s>\n",
      "------------------------------------\n",
      "==== b'<31940071.1075842328301.JavaMail.evans@thyme>' ====\n",
      "Predicted label: REPLY. True label: NORESPONSE\n",
      "<s> coming up at the maxwell UUUNKKK of UUUNKKK tuesday , nov. NNNUMMM , 11:00 am - 3:00 pm indian UUUNKKK UUUNKKK demonstration & sale would n't a nice warm UUUNKKK of indian UUUNKKK be just the thing with this cold weather ? this will be the last time mary jane UUUNKKK will visit us until spring , so do n't miss out ! lunch on UUUNKKK UUUNKKK , UUUNKKK UUUNKKK , and UUUNKKK and take home a UUUNKKK . </s>\n",
      "------------------------------------\n",
      "==== b'<16681183.1075855416036.JavaMail.evans@thyme>' ====\n",
      "Predicted label: REPLY. True label: NORESPONSE\n",
      "<s> copy any UUUNKKK movie ! with our UUUNKKK software you can copy UUUNKKK any UUUNKKK movie using your existing equipment ! conventional UUUNKKK copying UUUNKKK UUUNKKK can cost thousands of $ $ our UUUNKKK UUUNKKK cost less than the price of = NNNUMMM UUUNKKK UUUNKKK ! order now and get our UUUNKKK UUUNKKK for free ! click h= UUUNKKK to learn about UUUNKKK UUUNKKK ! convert UUUNKKK into UUUNKKK ! why pay for a copy o= f a movie on UUUNKKK that you already own of UUUNKKK ? ? ? not all UUUNKKK on UUUNKKK are= available on UUUNKKK . so make them into a UUUNKKK yourself ! ! UUUNKKK UUUNKKK will UUUNKKK h you . our UUUNKKK UUUNKKK UUUNKKK will help you create UUUNKKK 's ! copy UUUNKKK m= UUUNKKK and create your own personal collection ! convert UUUNKKK and UUUNKKK mo= UUUNKKK into UUUNKKK UUUNKKK ! order now and get our UUUNKKK UUUNKKK for free ! = . click here to learn about UUUNKKK UUUNKKK ! UUUNKKK ( NNNUMMM UUUNKKK ) free UUUNKKK us ! ! copy UUUNKKK ? UUUNKKK games with our UUUNKKK software you = can copy virtually any UUUNKKK ? UUUNKKK game using your existing cd UUUNKKK er ! conventional game UUUNKKK copying equipment can cost thousands of do= UUUNKKK . the UUUNKKK ? UUUNKKK UUUNKKK costs less than the price of one g= UUUNKKK ! rent any game for less than $ NNNUMMM and copy it for free ! save UUUNKKK UUUNKKK of dollars copying games ! for the price of just one game you can own th= is software and have unlimited games ! this means the software pays for = itself the first time you use it ! ! ! order now and get our UUUNKKK wi= UUUNKKK for free </s>\n",
      "------------------------------------\n",
      "==== b'<8490959.1075853999741.JavaMail.evans@thyme>' ====\n",
      "Predicted label: REPLY. True label: NORESPONSE\n",
      "<s> we are still experiencing problems in bringing up the hardware from last night 's emergency outage . as of 5:30 am you can not access the application . every attempt is being made to UUUNKKK this problem . once the application is available , please stay out of position manager and use cpr positions until you have been notified . thank you for your cooperation . scott mills </s>\n",
      "------------------------------------\n",
      "==== b'<23046499.1075854366882.JavaMail.evans@thyme>' ====\n",
      "Predicted label: NORESPONSE. True label: REPLY\n",
      "<s> andrea , the locations are all the same because i 'm not sure exactly where they will sit . the cost center is for my desk ( west ) , and this will most likely change as well . i think we need to meet them to see where they would be a better fit . thanks . dg UUUNKKK p. ryan UUUNKKK UUUNKKK energy operations ena NNNUMMM NNNUMMM darron UUUNKKK UUUNKKK roy UUUNKKK , jr. UUUNKKK energy operations ena NNNUMMM NNNUMMM UUUNKKK UUUNKKK UUUNKKK UUUNKKK UUUNKKK energy operations ena NNNUMMM NNNUMMM UUUNKKK keiser enron north america corp. from : andrea richards @ enron UUUNKKK UUUNKKK am to : darron c UUUNKKK @ ect cc : lisa UUUNKKK @ enron subject : first year analyst darron , per our telephone conversation this morning , please confirm that you will take the following analysts in your group for their first rotation . p. ryan UUUNKKK UUUNKKK roy UUUNKKK , jr. UUUNKKK UUUNKKK please provide the following information for all listed above . location : department : company name : company number : cost center : reviewing supervisor : thanks ! andrea UUUNKKK </s>\n",
      "------------------------------------\n",
      "==== b'<31239363.1075860200348.JavaMail.evans@thyme>' ====\n",
      "Predicted label: REPLY. True label: REPLY\n",
      "<s> the enron center garage will be opening very soon . employees who work for business units that are scheduled to move to the new building and currently park in the allen center or met UUUNKKK are being offered a parking space in the new enron center garage . this is the only offer you will receive during the initial migration to the new garage . spaces will be filled on a first come first served basis . the cost for the new garage will be the same as allen center garage which is currently $ UUUNKKK per month , less the company subsidy , leaving a monthly employee cost of $ UUUNKKK . if you choose not to accept this offer at this time , you may add your name to the enron center garage waiting list at a later day and offers will be made as spaces become available . the UUUNKKK ring that UUUNKKK the garage and both buildings will not be opened until summer NNNUMMM . all initial UUUNKKK will have to use the street level UUUNKKK to enron center north until UUUNKKK ring access is available . garage UUUNKKK next to the elevator UUUNKKK at each floor may be used as an exit in the event of elevator trouble . if you are interested in accepting this offer , please reply via email to parking and transportation as soon as you reach a decision . following your email , arrangements will be made for you to turn in your old parking card and receive a parking UUUNKKK along with a new information packet for the new garage . the parking and transportation desk may be reached via email at parking and UUUNKKK or UUUNKKK with any questions . ( you must enter & exit </s>\n",
      "------------------------------------\n",
      "==== b'<17490425.1075843988760.JavaMail.evans@thyme>' ====\n",
      "Predicted label: REPLY. True label: NORESPONSE\n",
      "<s> jeff , i like the memo and i 'll keep my UUUNKKK open for feedback . your presence is needed more than i thought . my gut told me that they really needed your help but its more than that . taking UUUNKKK of that p & l is the highest return of your time and talent for egm and for enron , UUUNKKK for this quarter . they will learn or they will be out . mike </s>\n",
      "------------------------------------\n",
      "==== b'<3309455.1075845864116.JavaMail.evans@thyme>' ====\n",
      "Predicted label: NORESPONSE. True label: REPLY\n",
      "<s> anytime which works for you is fine , as this is more important than my other meeting . from : ben UUUNKKK @ enronxgate on UUUNKKK UUUNKKK pm to : kay UUUNKKK @ enron cc : subject : conference call w/ UUUNKKK kay : my afternoon tomorrow looks full - do you have any time before NNNUMMM pm to discuss the UUUNKKK mou and have a call with them ? i will check their schedules as well ... </s>\n",
      "------------------------------------\n",
      "==== b'<26405113.1075841711870.JavaMail.evans@thyme>' ====\n",
      "Predicted label: REPLY. True label: NORESPONSE\n",
      "<s> good morning , over the last couple of weeks , we 've made several recent additions to the portland it applications team . we hope that with this new UUUNKKK of talent we will continue to `` raise the bar '' for it support of enron 's trading activities in portland . richard UUUNKKK is our new senior applications specialist . he comes to enron through UUUNKKK consulting where he contracted at enron for the last NNNUMMM months and has now converted to full-time . richard has several years of UUUNKKK basic and UUUNKKK UUUNKKK experience . he has been living in the portland , oregon area for the past NNNUMMM years and is originally from california . his current projects include migration of the california UUUNKKK application to the intranet as well as building strong middle tier architecture to support the new UUUNKKK development . michael UUUNKKK is our new lead trading floor support analyst . he recently moved from oklahoma where he was the lead help desk support for electronic storage corporation . mike 's wife is due with their second baby in january . outside of work , mike love 's to UUUNKKK UUUNKKK . mike is currently working for UUUNKKK and hopes to eventually convert to full-time . mike is replacing UUUNKKK UUUNKKK who recently moved back to UUUNKKK to be closer to family . dan maxwell is a new contract developer from UUUNKKK consulting working on the california UUUNKKK application . dan currently lives in boise , idaho and UUUNKKK to portland during the week . dan spent the previous year UUUNKKK to washington dc developing software for UUUNKKK insurance company . he is originally from miami , florida where the beach is the place to be but counting is a lost art </s>\n",
      "------------------------------------\n",
      "==== b'<7059367.1075845357930.JavaMail.evans@thyme>' ====\n",
      "Predicted label: NORESPONSE. True label: REPLY\n",
      "<s> to : department : ena legal from : mark taylor date : may NNNUMMM , NNNUMMM vice president and general counsel subject : enron north america corp. nymex hedge exemption applications we are in the process of preparing applications for position limit exemptions for ena 's nymex energy commodities futures trading . these applications require that ena represent whether its officers , employees , owners , or agents have a power of attorney , control or have a financial interest in any related commodity future ( s ) account either individually or acting with another person pursuant to express or implied agreement . please direct any responses to my paralegal , tana jones , via intercompany email or call her at ( NNNUMMM ) UUUNKKK by the end of business on june NNNUMMM , NNNUMMM if you have any power of attorney , control or have a financial interest in any commodity futures account ( other than an ena or other trading affiliate account ) . if you do not have a commodity futures account , you do not need to respond to this request . </s>\n",
      "------------------------------------\n",
      "==== b'<7011337.1075855891535.JavaMail.evans@thyme>' ====\n",
      "Predicted label: REPLY. True label: NORESPONSE\n",
      "<s> i have been requested to submit potential reviewers for the mid-year process . since i have worked with you on various projects , i plan to submit your name as a potential UUUNKKK . my supervisor , tim o ' UUUNKKK will be contacting you soon . i appreciate your consideration and input on my review . if you have any questions , please call me at UUUNKKK . thank you . </s>\n",
      "------------------------------------\n",
      "==== b'<17610009.1075855071687.JavaMail.evans@thyme>' ====\n",
      "Predicted label: REPLY. True label: NORESPONSE\n",
      "<s> this report relates to a message you sent with the following UUUNKKK fields : message-id : < UUUNKKK @ UUUNKKK > date : wed , NNNUMMM oct NNNUMMM UUUNKKK -0500 from : `` UUUNKKK , peter f. '' < UUUNKKK @ enron.com > to : `` UUUNKKK ( e-mail ) '' < UUUNKKK @ dowjones.com > , `` UUUNKKK ( e-mail ) '' < UUUNKKK @ dowjones.com > , `` gas daily ( e-mail ) '' < UUUNKKK @ UUUNKKK > , `` UUUNKKK ( e-mail ) '' < UUUNKKK @ UUUNKKK > , `` UUUNKKK ( e-mail ) '' < UUUNKKK @ UUUNKKK > , `` UUUNKKK ( e-mail ) '' < prices @ UUUNKKK > your message has been successfully delivered to the following recipients : recipient address : UUUNKKK @ UUUNKKK reason : message accepted by the message store - UUUNKKK UUUNKKK : UUUNKKK @ enron.com UUUNKKK : `` UUUNKKK , peter f. '' < UUUNKKK @ enron.com > UUUNKKK : `` UUUNKKK , peter f. '' < UUUNKKK @ enron.com > received : from UUUNKKK by UUUNKKK ( sun internet mail server UUUNKKK ) id < UUUNKKK @ UUUNKKK > ; wed , NNNUMMM oct NNNUMMM UUUNKKK -0500 ( cdt ) received : from UUUNKKK ( UUUNKKK ) by UUUNKKK ( sun internet mail server UUUNKKK ) with esmtp id < UUUNKKK @ UUUNKKK > for UUUNKKK @ UUUNKKK ; wed , NNNUMMM oct NNNUMMM UUUNKKK -0500 ( cdt ) received : from UUUNKKK ( [ UUUNKKK ] ) by UUUNKKK ( sun internet mail server UUUNKKK ) with esmtp id < UUUNKKK @ UUUNKKK > for UUUNKKK @ UUUNKKK ; wed , NNNUMMM oct NNNUMMM UUUNKKK -0500 ( cdt ) received : from UUUNKKK ( UUUNKKK [ UUUNKKK ] ) by UUUNKKK ( </s>\n",
      "------------------------------------\n",
      "==== b'<30281100.1075845000829.JavaMail.evans@thyme>' ====\n",
      "Predicted label: NORESPONSE. True label: NORESPONSE\n",
      "<s> mark , here are the cas for UUUNKKK and pope & UUUNKKK that you want to store on your h : UUUNKKK . </s>\n",
      "------------------------------------\n",
      "==== b'<20200535.1075844331841.JavaMail.evans@thyme>' ====\n",
      "Predicted label: NORESPONSE. True label: REPLY\n",
      "<s> pat , we have submitted a proposal to UUUNKKK as you will see in the UUUNKKK attached . we pay UUUNKKK r $ NNNUMMM million to them , and receive for NNNUMMM year ( minus a certain amount of days ) NNNUMMM mw per hour and sell them back up power , up to NNNUMMM mw per hour , for a maximum of NNNUMMM days . please let us know if there is a lot to do to update the credit review for UUUNKKK . we 'll find out this week whether we have won this deal . i 'll keep you posted . feel free to call me if you have any further question . remi </s>\n",
      "------------------------------------\n",
      "==== b'<10833202.1075841359083.JavaMail.evans@thyme>' ====\n",
      "Predicted label: REPLY. True label: NORESPONSE\n",
      "<s> ( see attached file : UUUNKKK ) ( see attached file : UUUNKKK ) this message and any attachments ( the `` message '' ) is intended solely for the UUUNKKK and is confidential . if you receive this message in error , please delete it and immediately notify the sender . any use not in accord with its purpose , any dissemination or disclosure , either whole or partial , is prohibited except formal approval . the internet can not guarantee the integrity of this message . UUUNKKK UUUNKKK ( and its subsidiaries ) shall ( will ) not therefore be liable for the message if modified . -- -- -- -- -- -- -- -- -- -- -- -- -- -- -- -- -- -- -- -- -- -- - ce message et UUUNKKK les pieces UUUNKKK ( UUUNKKK le '' message '' ) UUUNKKK UUUNKKK a UUUNKKK exclusive de UUUNKKK UUUNKKK et UUUNKKK UUUNKKK . UUUNKKK UUUNKKK UUUNKKK ce message UUUNKKK UUUNKKK , UUUNKKK de le UUUNKKK et UUUNKKK UUUNKKK UUUNKKK UUUNKKK . UUUNKKK UUUNKKK de ce message non UUUNKKK a sa destination , UUUNKKK UUUNKKK ou UUUNKKK publication , UUUNKKK ou UUUNKKK , est UUUNKKK , UUUNKKK UUUNKKK UUUNKKK . UUUNKKK ne UUUNKKK pas UUUNKKK UUUNKKK de ce message , UUUNKKK UUUNKKK ( et UUUNKKK UUUNKKK ) decline ( nt ) UUUNKKK UUUNKKK UUUNKKK UUUNKKK de ce message , UUUNKKK UUUNKKK ou il UUUNKKK UUUNKKK UUUNKKK . </s>\n",
      "------------------------------------\n",
      "==== b'<13464731.1075853124489.JavaMail.evans@thyme>' ====\n",
      "Predicted label: REPLY. True label: REPLY\n",
      "<s> michelle , discussed the latest draft separation agreement with joe today . he has just a couple more questions . NNNUMMM . article UUUNKKK was adjusted to add the first sentence , which references articles of the employment agreement . he wants to know the intent of this addition . also , article UUUNKKK is referenced and there is no UUUNKKK in the employment agreement . NNNUMMM . article UUUNKKK - he is still concerned about the situation where enron is acquired by a company where he was employed . i explained to him that such a situation would not fall under `` UUUNKKK '' by enron . however , he would like the last sentence to read , `` this provision would not apply if employee is employed by an entity that may be acquired by or UUUNKKK a company after the effective date of this agreement . '' these are all the items for you . i 'm still UUUNKKK with him over home leave and timing on UUUNKKK of goods . let me know your thoughts on the above and i think i can get him to agree to some terms that we can finalize . regards , timothy j. UUUNKKK director , global employee services enron corp NNNUMMM clay street , suite NNNUMMM houston , texas NNNUMMM telephone : UUUNKKK fax : UUUNKKK </s>\n",
      "------------------------------------\n",
      "==== b'<33355498.1075842045819.JavaMail.evans@thyme>' ====\n",
      "Predicted label: NORESPONSE. True label: NORESPONSE\n",
      "<s> attached is the enron global markets UUUNKKK trading violation memo for net open position for june NNNUMMM , NNNUMMM . the office of the chairman for enron global markets is responsible for printing out a hard copy of this memo , signing it and returning the hard copy to chris abel at UUUNKKK , who will forward it to rac to obtain their signature . thank you </s>\n",
      "------------------------------------\n",
      "==== b'<17351329.1075841881603.JavaMail.evans@thyme>' ====\n",
      "Predicted label: REPLY. True label: NORESPONSE\n",
      "<s> that sounds like a good one , mom . like i 've said before , i think it 's a great idea and would be perfect for you . now i think you should start taking steps to make it happen . i know you could get your house sold , no problem . and you should think seriously about putting it on the market soon , as i 'm starting to get the feeling it can take quite a while to actually sell a house . let me know how i can help - for example , brian has some friends who rent out a great UUUNKKK in UUUNKKK for $ NNNUMMM a week . he can also get really good deals on rental cars . if you start shopping around for a cheap ticket now , you could take a UUUNKKK trip this spring and make plans to move by the following winter - just in time for UUUNKKK . just do it ! </s>\n",
      "------------------------------------\n",
      "==== b'<27402023.1075846270669.JavaMail.evans@thyme>' ====\n",
      "Predicted label: REPLY. True label: NORESPONSE\n",
      "<s> UUUNKKK UUUNKKK UUUNKKK & ryan , UUUNKKK . announces class action lawsuit against azurix corp. UUUNKKK business wire ( copyright ( c ) NNNUMMM , business wire ) philadelphia -- ( business wire ) -- oct. NNNUMMM , NNNUMMM -- UUUNKKK UUUNKKK UUUNKKK & ryan , UUUNKKK . hereby gives notice that a class action complaint was filed in the united states district court , southern district of texas on behalf of a class of persons who purchased the common stock of azurix corp. ( nyse : UUUNKKK ) ( `` azurix '' or the `` company '' ) at artificially inflated prices during the period june NNNUMMM , NNNUMMM through august NNNUMMM , NNNUMMM and UUUNKKK to azurix 's initial public offering ( `` class period '' ) and who were damaged thereby . if you are a member of the proposed class , you should contact this firm at the telephone number or address below . if you wish to be appointed lead plaintiff in this action you must file a motion with the court no later december NNNUMMM , NNNUMMM . class members must meet certain legal requirements to serve as a lead plaintiff . if you purchased azurix common stock during the class period or have questions or information regarding this action or your rights , you may call or write barbara a. UUUNKKK , adam UUUNKKK or UUUNKKK c. UUUNKKK , of UUUNKKK UUUNKKK UUUNKKK & ryan . UUUNKKK . at UUUNKKK or via e-mail at UUUNKKK @ UUUNKKK . the complaint charges azurix and certain of its senior officers and directors with violations of sections NNNUMMM , NNNUMMM ( a ) ( NNNUMMM ) and NNNUMMM of the securities act of NNNUMMM ( `` securities act '' ) and sections NNNUMMM ( </s>\n",
      "------------------------------------\n",
      "==== b'<32930634.1075855072716.JavaMail.evans@thyme>' ====\n",
      "Predicted label: NORESPONSE. True label: NORESPONSE\n",
      "<s> you 're invited to join community and national experts as they discuss your most pressing concerns about september 11th and the ongoing issues we face as a nation . operation hope : UUUNKKK our future one step at a time a cooperative community effort to provide a free evening of information , for the entire family ( UUUNKKK NNNUMMM and up ) an evening of hope and UUUNKKK and a UUUNKKK on how to UUUNKKK to these challenging times ! sponsored by enron date : thursday , october NNNUMMM , NNNUMMM time : registration from UUUNKKK pm - UUUNKKK pm program from 7:00 pm - 9:00 pm place : UUUNKKK UUUNKKK across from the UUUNKKK on UUUNKKK UUUNKKK is free , but by rsvp only because of limited space to rsvp and for more information , please call UUUNKKK or log on to UUUNKKK </s>\n",
      "------------------------------------\n",
      "==== b'<6747392.1075849428894.JavaMail.evans@thyme>' ====\n",
      "Predicted label: NORESPONSE. True label: REPLY\n",
      "<s> jennifer UUUNKKK of the cec just called to tell me that they filed UUUNKKK tariffs on the rate stabilization case ( UUUNKKK ) and the interruptible case ( UUUNKKK ) . there is a UUUNKKK on the UUUNKKK agenda for the interruptible case . </s>\n",
      "------------------------------------\n",
      "==== b'<22365205.1075843844155.JavaMail.evans@thyme>' ====\n",
      "Predicted label: NORESPONSE. True label: REPLY\n",
      "<s> could you please make sure that everyone in the office has this call-in number . it 's a daily call to discuss california 's electricity crisis . thanks very much . call-in : UUUNKKK code : NNNUMMM </s>\n",
      "------------------------------------\n",
      "==== b'<2978020.1075860466150.JavaMail.evans@thyme>' ====\n",
      "Predicted label: NORESPONSE. True label: NORESPONSE\n",
      "<s> UUUNKKK : here is the current status of the providers you want UUUNKKK . the ones listed as `` not located '' are still being worked on . UUUNKKK shows up as a control area and not a transmission provider , but rather , a control area . please let me know if there are others . long name short name status UUUNKKK corp. UUUNKKK fixed arizona public service company UUUNKKK fixed b.c . hydro & power authority UUUNKKK fixed basin electric power cooperative UUUNKKK fixed bonneville power administration UUUNKKK fixed colorado springs utility csu fixed el paso electric UUUNKKK fixed imperial irrigation district UUUNKKK not located idaho power company UUUNKKK not located los angeles department of water and power UUUNKKK fixed montana power company UUUNKKK fixed nevada power company UUUNKKK fixed pacificorp pac not located portland general electric pge fixed public service company of new mexico UUUNKKK fixed pacificorp UUUNKKK fixed UUUNKKK river power authority UUUNKKK fixed public service company of colorado ca & UUUNKKK UUUNKKK fixed UUUNKKK sound energy transmission UUUNKKK fixed seattle city light UUUNKKK control area sacramento municipal utility district smud fixed sierra pacific power company spp fixed UUUNKKK public service company UUUNKKK fixed salt river project UUUNKKK fixed UUUNKKK electric power company UUUNKKK fixed UUUNKKK mexico power co. - control area UUUNKKK not located UUUNKKK generation and transmission association , UUUNKKK fixed western area power administration UUUNKKK not located western area power administration UUUNKKK not located regards , bill UUUNKKK </s>\n",
      "------------------------------------\n",
      "==== b'<21637594.1075844822310.JavaMail.evans@thyme>' ====\n",
      "Predicted label: NORESPONSE. True label: REPLY\n",
      "<s> if you do not have access yet to the financial trading agreement database , this link should get you access . hopefully when you open up your computer tomorrow you will now have an icon to get in . credit people , if you do not have edit capability let me know and i will get you access . link -- > </s>\n",
      "------------------------------------\n",
      "==== b'<9733672.1075853678327.JavaMail.evans@thyme>' ====\n",
      "Predicted label: REPLY. True label: NORESPONSE\n",
      "<s> s jersey sold UUUNKKK day UUUNKKK for oct , non UUUNKKK at $ UUUNKKK , variable = $ UUUNKKK , its about $ UUUNKKK in the money . </s>\n",
      "------------------------------------\n",
      "==== b'<19807487.1075854585566.JavaMail.evans@thyme>' ====\n",
      "Predicted label: REPLY. True label: NORESPONSE\n",
      "<s> for some election fun , click on the web site below ! UUUNKKK http : UUUNKKK </s>\n",
      "------------------------------------\n",
      "==== b'<15365230.1075858147797.JavaMail.evans@thyme>' ====\n",
      "Predicted label: NORESPONSE. True label: REPLY\n",
      "<s> the best moment of your life </s>\n",
      "------------------------------------\n",
      "==== b'<12325489.1075853996769.JavaMail.evans@thyme>' ====\n",
      "Predicted label: NORESPONSE. True label: NORESPONSE\n",
      "<s> july NNNUMMM UUUNKKK tap UUUNKKK enron UUUNKKK hpl UUUNKKK UUUNKKK hpl UUUNKKK UUUNKKK enron july NNNUMMM UUUNKKK tap UUUNKKK UUUNKKK hpl UUUNKKK UUUNKKK hpl UUUNKKK UUUNKKK july NNNUMMM UUUNKKK tap UUUNKKK UUUNKKK hpl UUUNKKK UUUNKKK hpl UUUNKKK UUUNKKK </s>\n",
      "------------------------------------\n"
     ]
    }
   ],
   "source": [
    "batch_preds, inputs, lens, batch_outputs, email_ids = model.predict()\n",
    "print_examples(preds, outputs, inputs, lens, email_ids)"
   ]
  },
  {
   "cell_type": "code",
   "execution_count": null,
   "metadata": {},
   "outputs": [],
   "source": []
  }
 ],
 "metadata": {
  "kernelspec": {
   "display_name": "Python 3",
   "language": "python",
   "name": "python3"
  },
  "language_info": {
   "codemirror_mode": {
    "name": "ipython",
    "version": 3
   },
   "file_extension": ".py",
   "mimetype": "text/x-python",
   "name": "python",
   "nbconvert_exporter": "python",
   "pygments_lexer": "ipython3",
   "version": "3.5.2"
  }
 },
 "nbformat": 4,
 "nbformat_minor": 2
}
