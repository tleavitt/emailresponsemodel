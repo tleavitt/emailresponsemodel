{
 "cells": [
  {
   "cell_type": "code",
   "execution_count": 15,
   "metadata": {},
   "outputs": [],
   "source": [
    "import pickle\n",
    "import gzip"
   ]
  },
  {
   "cell_type": "code",
   "execution_count": 16,
   "metadata": {},
   "outputs": [],
   "source": [
    "from util import read_records"
   ]
  },
  {
   "cell_type": "code",
   "execution_count": 17,
   "metadata": {},
   "outputs": [],
   "source": [
    "r = read_records('../processed-data/records0_train.pkl.gz')"
   ]
  },
  {
   "cell_type": "code",
   "execution_count": 18,
   "metadata": {},
   "outputs": [
    {
     "data": {
      "text/plain": [
       "defaultdict(str,\n",
       "            {'Id': '<23386406.1075846165848.JavaMail.evans@thyme>',\n",
       "             'From': 'gavin.dillingham@enron.com',\n",
       "             'To': 'filuntz@aol.com',\n",
       "             'Date': 'Thu, 10 Aug 2000 08:25:00',\n",
       "             'Subject': 'CA power problem effecting other parts of the nation',\n",
       "             'Body': 'Attached is an article of how the CA power problem is effecting North \\nCarolina in its decision to regulate its power market.',\n",
       "             'Length': 125,\n",
       "             'Label': 0})"
      ]
     },
     "execution_count": 18,
     "metadata": {},
     "output_type": "execute_result"
    }
   ],
   "source": [
    "r[0]"
   ]
  },
  {
   "cell_type": "code",
   "execution_count": 19,
   "metadata": {},
   "outputs": [
    {
     "data": {
      "text/plain": [
       "defaultdict(str,\n",
       "            {'Id': '<25185023.1075846139785.JavaMail.evans@thyme>',\n",
       "             'From': 'shelley.corman@enron.com',\n",
       "             'To': 'steven.kean@enron.com',\n",
       "             'Date': '08/22/2000 11:34 AM',\n",
       "             'Subject': 'DRAFT PRESS RELEASE: NBP Announces Intent to Purchase ENA Assets in',\n",
       "             'Body': \"Powder River and Wind River Basins\\n\\nAttached is a draft press release regarding NBP's intent to purchase ENA's \\nassets in the Powder River and Wind River Basins.  Please return all comments \\nto me via e-mail by 5:00 pm on Tuesday, August 22.  If you have any \\nquestions, please call me at ext. 3-9053.\\n\\nThanks.\\n\\nEric\",\n",
       "             'Length': 316,\n",
       "             'Label': 1})"
      ]
     },
     "execution_count": 19,
     "metadata": {},
     "output_type": "execute_result"
    }
   ],
   "source": [
    "r[10]"
   ]
  },
  {
   "cell_type": "code",
   "execution_count": 21,
   "metadata": {},
   "outputs": [
    {
     "data": {
      "text/plain": [
       "[]"
      ]
     },
     "execution_count": 21,
     "metadata": {},
     "output_type": "execute_result"
    }
   ],
   "source": [
    "[rec['Label'] for rec in r if rec['From'] == None]"
   ]
  },
  {
   "cell_type": "code",
   "execution_count": 12,
   "metadata": {},
   "outputs": [
    {
     "data": {
      "text/plain": [
       "79"
      ]
     },
     "execution_count": 12,
     "metadata": {},
     "output_type": "execute_result"
    }
   ],
   "source": [
    "len(r)"
   ]
  },
  {
   "cell_type": "code",
   "execution_count": 30,
   "metadata": {},
   "outputs": [],
   "source": [
    "import collections\n",
    "import itertools\n",
    "import random"
   ]
  },
  {
   "cell_type": "code",
   "execution_count": 54,
   "metadata": {},
   "outputs": [],
   "source": [
    "def shuffle_generator(gen, shuffle_len=1000):\n",
    "\n",
    "    buf = collections.deque(itertools.islice(gen, shuffle_len))\n",
    "    while (len(buf) > 0):\n",
    "        # shuffle the buffer, by shifting elements a random amount\n",
    "        k = random.randint(-len(buf)//2, len(buf)//2) \n",
    "        buf.rotate(k)\n",
    "\n",
    "        cur = buf.popleft()\n",
    "        nxt = next(gen, None)\n",
    "        if nxt is not None:\n",
    "            buf.append(nxt);\n",
    "        yield cur"
   ]
  },
  {
   "cell_type": "code",
   "execution_count": 55,
   "metadata": {},
   "outputs": [],
   "source": [
    "def test_shuffle_gen(n=1000):\n",
    "    g = (i for i in range(n))\n",
    "    for i in shuffle_generator(g):\n",
    "        pass\n",
    "def test_gen(n=1000):\n",
    "    g = (i for i in range(n))\n",
    "    for i in g:\n",
    "        pass"
   ]
  },
  {
   "cell_type": "code",
   "execution_count": 56,
   "metadata": {},
   "outputs": [
    {
     "name": "stdout",
     "output_type": "stream",
     "text": [
      "24.1 ms ± 285 µs per loop (mean ± std. dev. of 7 runs, 10 loops each)\n"
     ]
    }
   ],
   "source": [
    "%timeit test_shuffle_gen(10000)"
   ]
  },
  {
   "cell_type": "code",
   "execution_count": 50,
   "metadata": {},
   "outputs": [
    {
     "name": "stdout",
     "output_type": "stream",
     "text": [
      "733 µs ± 5.07 µs per loop (mean ± std. dev. of 7 runs, 1000 loops each)\n"
     ]
    }
   ],
   "source": [
    "%timeit test_gen(10000)"
   ]
  },
  {
   "cell_type": "code",
   "execution_count": null,
   "metadata": {},
   "outputs": [],
   "source": []
  }
 ],
 "metadata": {
  "kernelspec": {
   "display_name": "Python 3",
   "language": "python",
   "name": "python3"
  },
  "language_info": {
   "codemirror_mode": {
    "name": "ipython",
    "version": 3
   },
   "file_extension": ".py",
   "mimetype": "text/x-python",
   "name": "python",
   "nbconvert_exporter": "python",
   "pygments_lexer": "ipython3",
   "version": "3.6.3"
  }
 },
 "nbformat": 4,
 "nbformat_minor": 2
}
