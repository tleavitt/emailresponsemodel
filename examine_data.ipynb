{
 "cells": [
  {
   "cell_type": "code",
   "execution_count": 1,
   "metadata": {},
   "outputs": [],
   "source": [
    "import pickle\n",
    "import gzip"
   ]
  },
  {
   "cell_type": "code",
   "execution_count": 2,
   "metadata": {},
   "outputs": [],
   "source": [
    "%load_ext autoreload\n",
    "%autoreload 2"
   ]
  },
  {
   "cell_type": "code",
   "execution_count": 3,
   "metadata": {},
   "outputs": [],
   "source": [
    "from util import read_records"
   ]
  },
  {
   "cell_type": "code",
   "execution_count": 4,
   "metadata": {},
   "outputs": [],
   "source": [
    "r = read_records('../processed-data/records0_train.pkl.gz')"
   ]
  },
  {
   "cell_type": "code",
   "execution_count": 5,
   "metadata": {},
   "outputs": [
    {
     "data": {
      "text/plain": [
       "31633"
      ]
     },
     "execution_count": 5,
     "metadata": {},
     "output_type": "execute_result"
    }
   ],
   "source": [
    "len(r)"
   ]
  },
  {
   "cell_type": "code",
   "execution_count": 6,
   "metadata": {},
   "outputs": [
    {
     "data": {
      "text/plain": [
       "defaultdict(str,\n",
       "            {'Id': '<21247412.1075859936765.JavaMail.evans@thyme>',\n",
       "             'From': 'greg.johnston@enron.com',\n",
       "             'To': 'dianne.seib@enron.com',\n",
       "             'Date': 'Tue, 27 Jun 2000 09:22:00',\n",
       "             'Subject': 'Outstanding Duke EnronOnline Transactions',\n",
       "             'Body': 'Dianne, further to our conversation this morning, this e-mail will confirm \\nthe following:\\n\\n1.  The current form of Master Physical Gas Agreement with Duke is an older \\nmaster which indicates that transactions must be confirmed in writing and \\narguably provides that such confirms are not binding until executed by both \\nparties.  However, the EnronOnline Electronic Trading Agreement indicates \\nthat, where a confirm is issued, it is deemed accepted unless objected to \\nwithin three business days.  There is no indication in the EOL Electronic \\nTrading Agreement how a conflict between the provisions of that agreement and \\nany master agreement will be resolved, but I think that for the purposes of \\nthe EnronOnline transactions, we can rely on the terms of the Electronic \\nTrading Agreement and, if Duke has not objected to the terms set forth in the \\nEOL confirm within three business days, determine that such confirms are \\nvalid and binding upon the counterparty.\\n\\n2.  However, with respect to any physical gas transactions entered into with \\nDuke under the Master but not through EnronOnline, we still need them to \\nexecute and return the confirm.\\n\\n3.  Regarding financial deals entered into through EnronOnline and made \\npursuant to the electronic form of GTC, the terms of the Electronic Trading \\nAgreement will govern and, unless Duke objects to the terms of the confirm \\nwithin three business days, the confirm is deemed to be valid and binding on \\nDuke.\\n\\n4.  Notwithstanding the above, I think we should still try to maintain our \\npractice with other counterparties of obtaining executed confirms back from \\nsuch counterparties.\\n\\nMark, if you have any concerns with these conclusions, can you please let me \\nknow at your earliest convenience.  Duke currently has approximately 350 \\noutstanding confirms entered into with ECC through the facilities of \\nEnronOnline that they have not executed and returned and they have told us \\nthat they are relying on the Electronic Trading Agreement as providing there \\nis no requirement to execute and return these confirms.\\n\\nThanks\\n\\nGreg',\n",
       "             'Length': 2087,\n",
       "             'Label': 0})"
      ]
     },
     "execution_count": 6,
     "metadata": {},
     "output_type": "execute_result"
    }
   ],
   "source": [
    "r[10]"
   ]
  },
  {
   "cell_type": "code",
   "execution_count": 7,
   "metadata": {},
   "outputs": [
    {
     "data": {
      "text/plain": [
       "[]"
      ]
     },
     "execution_count": 7,
     "metadata": {},
     "output_type": "execute_result"
    }
   ],
   "source": [
    "[rec['Label'] for rec in r if rec['From'] == None]"
   ]
  },
  {
   "cell_type": "code",
   "execution_count": 8,
   "metadata": {},
   "outputs": [
    {
     "data": {
      "text/plain": [
       "31633"
      ]
     },
     "execution_count": 8,
     "metadata": {},
     "output_type": "execute_result"
    }
   ],
   "source": [
    "len(r)"
   ]
  },
  {
   "cell_type": "code",
   "execution_count": 9,
   "metadata": {},
   "outputs": [],
   "source": [
    "import collections\n",
    "import itertools\n",
    "import random"
   ]
  },
  {
   "cell_type": "code",
   "execution_count": 10,
   "metadata": {},
   "outputs": [],
   "source": [
    "def shuffle_generator(gen, shuffle_len=1000):\n",
    "\n",
    "    buf = collections.deque(itertools.islice(gen, shuffle_len))\n",
    "    while (len(buf) > 0):\n",
    "        # shuffle the buffer, by shifting elements a random amount\n",
    "        k = random.randint(-len(buf)//2, len(buf)//2) \n",
    "        buf.rotate(k)\n",
    "\n",
    "        cur = buf.popleft()\n",
    "        nxt = next(gen, None)\n",
    "        if nxt is not None:\n",
    "            buf.append(nxt);\n",
    "        yield cur"
   ]
  },
  {
   "cell_type": "code",
   "execution_count": 11,
   "metadata": {},
   "outputs": [],
   "source": [
    "def test_shuffle_gen(n=1000):\n",
    "    g = (i for i in range(n))\n",
    "    for i in shuffle_generator(g):\n",
    "        pass\n",
    "def test_gen(n=1000):\n",
    "    g = (i for i in range(n))\n",
    "    for i in g:\n",
    "        pass"
   ]
  },
  {
   "cell_type": "code",
   "execution_count": 59,
   "metadata": {},
   "outputs": [
    {
     "name": "stdout",
     "output_type": "stream",
     "text": [
      "28.2 ms ± 448 µs per loop (mean ± std. dev. of 7 runs, 10 loops each)\n"
     ]
    }
   ],
   "source": [
    "%timeit test_shuffle_gen(10000)"
   ]
  },
  {
   "cell_type": "code",
   "execution_count": 50,
   "metadata": {},
   "outputs": [
    {
     "name": "stdout",
     "output_type": "stream",
     "text": [
      "733 µs ± 5.07 µs per loop (mean ± std. dev. of 7 runs, 1000 loops each)\n"
     ]
    }
   ],
   "source": [
    "%timeit test_gen(10000)"
   ]
  },
  {
   "cell_type": "code",
   "execution_count": 17,
   "metadata": {},
   "outputs": [],
   "source": [
    "import numpy as np\n",
    "import tensorflow as tf\n",
    "import os\n",
    "DIRECTORY = os.path.abspath('../processed-data/tfrecords-2')\n",
    "from tfdata_helpers import *"
   ]
  },
  {
   "cell_type": "code",
   "execution_count": 23,
   "metadata": {},
   "outputs": [],
   "source": [
    "from collections import Counter"
   ]
  },
  {
   "cell_type": "code",
   "execution_count": 27,
   "metadata": {},
   "outputs": [
    {
     "name": "stdout",
     "output_type": "stream",
     "text": [
      "Counter({0: 580, 1: 420})\n"
     ]
    }
   ],
   "source": [
    "filenames = ['{}/dev0.tfrecords'.format(DIRECTORY)]\n",
    "dataset = tf.data.TFRecordDataset(filenames)\n",
    "dataset = dataset.map(parse_tfrecord)\n",
    "\n",
    "iterator = dataset.make_one_shot_iterator()\n",
    "next_element = iterator.get_next()\n",
    "\n",
    "counts = Counter()\n",
    "with tf.Session() as sess:\n",
    "    for i in range(1000):\n",
    "        body, length, label, id_ = sess.run(next_element)\n",
    "        counts[label] += 1\n",
    "print(counts)"
   ]
  },
  {
   "cell_type": "code",
   "execution_count": 24,
   "metadata": {},
   "outputs": [],
   "source": []
  },
  {
   "cell_type": "code",
   "execution_count": 25,
   "metadata": {},
   "outputs": [
    {
     "data": {
      "text/plain": [
       "10007"
      ]
     },
     "execution_count": 25,
     "metadata": {},
     "output_type": "execute_result"
    }
   ],
   "source": []
  },
  {
   "cell_type": "code",
   "execution_count": 34,
   "metadata": {},
   "outputs": [],
   "source": []
  },
  {
   "cell_type": "code",
   "execution_count": null,
   "metadata": {},
   "outputs": [],
   "source": []
  }
 ],
 "metadata": {
  "kernelspec": {
   "display_name": "Python 3",
   "language": "python",
   "name": "python3"
  },
  "language_info": {
   "codemirror_mode": {
    "name": "ipython",
    "version": 3
   },
   "file_extension": ".py",
   "mimetype": "text/x-python",
   "name": "python",
   "nbconvert_exporter": "python",
   "pygments_lexer": "ipython3",
   "version": "3.6.3"
  }
 },
 "nbformat": 4,
 "nbformat_minor": 2
}
