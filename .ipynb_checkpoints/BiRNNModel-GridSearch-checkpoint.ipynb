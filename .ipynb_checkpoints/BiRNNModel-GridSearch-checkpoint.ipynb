{
 "cells": [
  {
   "cell_type": "code",
   "execution_count": 35,
   "metadata": {},
   "outputs": [],
   "source": [
    "from data_util import load_embeddings, DMConfig, tfConfig\n",
    "try:\n",
    "    import _pickle as cPickle\n",
    "except ImportError:\n",
    "    import cPickle\n",
    "import gzip\n",
    "import os\n",
    "import numpy as np\n",
    "from sklearn import metrics\n",
    "from defs import LBLS\n",
    "import matplotlib\n",
    "%matplotlib inline\n",
    "import matplotlib.pyplot as plt\n",
    "import random\n",
    "import itertools"
   ]
  },
  {
   "cell_type": "code",
   "execution_count": 7,
   "metadata": {},
   "outputs": [
    {
     "name": "stdout",
     "output_type": "stream",
     "text": [
      "The autoreload extension is already loaded. To reload it, use:\n",
      "  %reload_ext autoreload\n"
     ]
    }
   ],
   "source": [
    "%load_ext autoreload\n",
    "%autoreload 2"
   ]
  },
  {
   "cell_type": "code",
   "execution_count": 26,
   "metadata": {},
   "outputs": [],
   "source": [
    "config = DMConfig()\n",
    "if os.path.exists('/home/tuckerleavitt/data/tok2id.pkl.gz'):\n",
    "    with gzip.open('/home/tuckerleavitt/data/tok2id.pkl.gz') as f:\n",
    "        tok2id = cPickle.load(f)\n",
    "if os.path.exists('/home/tuckerleavitt/data/id2tok.pkl.gz'):\n",
    "    with gzip.open('/home/tuckerleavitt/data/id2tok.pkl.gz') as f:\n",
    "        id2tok = cPickle.load(f)"
   ]
  },
  {
   "cell_type": "code",
   "execution_count": 27,
   "metadata": {},
   "outputs": [
    {
     "data": {
      "text/plain": [
       "'/home/tuckerleavitt/data/id2tok_20k.pkl.gz'"
      ]
     },
     "execution_count": 27,
     "metadata": {},
     "output_type": "execute_result"
    }
   ],
   "source": [
    "config = DMConfig()\n",
    "config.id2tok_path"
   ]
  },
  {
   "cell_type": "code",
   "execution_count": 28,
   "metadata": {},
   "outputs": [
    {
     "name": "stderr",
     "output_type": "stream",
     "text": [
      "INFO:Initialized embeddings.\n"
     ]
    }
   ],
   "source": [
    "embeddings = load_embeddings(config, tok2id)"
   ]
  },
  {
   "cell_type": "code",
   "execution_count": 29,
   "metadata": {},
   "outputs": [
    {
     "data": {
      "text/plain": [
       "10007"
      ]
     },
     "execution_count": 29,
     "metadata": {},
     "output_type": "execute_result"
    }
   ],
   "source": [
    "len(tok2id)"
   ]
  },
  {
   "cell_type": "markdown",
   "metadata": {},
   "source": [
    "## Training"
   ]
  },
  {
   "cell_type": "code",
   "execution_count": 13,
   "metadata": {},
   "outputs": [],
   "source": [
    "from tf_birnn_classifier import TfBiRNNClassifier\n",
    "from defs import PROJECT_DIR"
   ]
  },
  {
   "cell_type": "code",
   "execution_count": 40,
   "metadata": {},
   "outputs": [],
   "source": [
    "def format_param(v):\n",
    "    if type(v) == float:\n",
    "        return \"{:.5f}\".format(v)\n",
    "    else:\n",
    "        return str(v)\n",
    "\n",
    "def run_cv(model_factory, batch_lim, params):\n",
    "    cv_vals = []\n",
    "    for param_name, vals in params.items():\n",
    "        cv_vals.append([(param_name, val) for val in vals])\n",
    "        \n",
    "    for param_vals in itertools.product(*cv_vals):\n",
    "        print(\"--Training model for {} iterations with the following params:\".format(batch_lim))\n",
    "        id_str = '-'.join((str(p) + format_param(v) for p, v in param_vals))\n",
    "        model = model_factory()\n",
    "        model.ckpts_prefix = '{}/checkpoints/birnn_model_{}/birnn-model'.format(PROJECT_DIR, id_str)\n",
    "        model.summaries_dir = '{}/summaries-birnn_{}/'.format(PROJECT_DIR, id_str)\n",
    "        for p, v in param_vals:\n",
    "            print(p, v)\n",
    "            setattr(model, p, v)\n",
    "            \n",
    "        model.fit(tfConfig, use_20k=False, restore_weights=False, batches_to_eval=250, batch_lim=batch_lim, max_iter=1, test_at_end=False)\n",
    "        "
   ]
  },
  {
   "cell_type": "code",
   "execution_count": 41,
   "metadata": {},
   "outputs": [],
   "source": [
    "model_factory = lambda: TfBiRNNClassifier(embedding=embeddings, eta=0.001, use_attn = True)\n",
    "params = {\n",
    "        'eta': random.sample(list(np.power(10, np.arange(-3.5, -1.9, 0.1))), 3),\n",
    "        'hidden_dim': random.sample(range(50, 200, 10), 3)\n",
    "}"
   ]
  },
  {
   "cell_type": "code",
   "execution_count": 42,
   "metadata": {},
   "outputs": [
    {
     "name": "stderr",
     "output_type": "stream",
     "text": [
      "INFO:Initializing data manager...\n",
      "INFO:took 0 s\n",
      "INFO:Building model...\n"
     ]
    },
    {
     "name": "stdout",
     "output_type": "stream",
     "text": [
      "--Training model for 10 iterations with the following params:\n",
      "hidden_dim 80\n",
      "eta 0.0007943282347242822\n"
     ]
    },
    {
     "name": "stderr",
     "output_type": "stream",
     "text": [
      "INFO:took 0 s\n"
     ]
    },
    {
     "name": "stdout",
     "output_type": "stream",
     "text": [
      "fw outputs:  (?, 300, 80)\n",
      "bw outputs:  (?, 300, 80)\n",
      "all outputs:  (?, 300, 160)\n",
      "all states:  (?, 160)\n",
      "W_attn: (160, 25)\n"
     ]
    },
    {
     "name": "stderr",
     "output_type": "stream",
     "text": [
      "INFO:-- Initializing new model\n",
      "INFO:Starting epoch 1\n",
      "INFO: = batch 10\n",
      "INFO:Finished epoch 1, ran 10 batches\n",
      "INFO:Building model...\n"
     ]
    },
    {
     "name": "stdout",
     "output_type": "stream",
     "text": [
      "--Training model for 10 iterations with the following params:\n",
      "hidden_dim 80\n",
      "eta 0.005011872336272735\n"
     ]
    },
    {
     "ename": "ValueError",
     "evalue": "Tensor(\"strided_slice_4:0\", shape=(?, 300), dtype=int64) must be from the same graph as Tensor(\"embeddings:0\", shape=(10008, 50), dtype=float32_ref).",
     "output_type": "error",
     "traceback": [
      "\u001b[0;31m---------------------------------------------------------------------------\u001b[0m",
      "\u001b[0;31mValueError\u001b[0m                                Traceback (most recent call last)",
      "\u001b[0;32m<ipython-input-42-3a287f3130c6>\u001b[0m in \u001b[0;36m<module>\u001b[0;34m()\u001b[0m\n\u001b[0;32m----> 1\u001b[0;31m \u001b[0mrun_cv\u001b[0m\u001b[0;34m(\u001b[0m\u001b[0mmodel\u001b[0m\u001b[0;34m,\u001b[0m \u001b[0;36m10\u001b[0m\u001b[0;34m,\u001b[0m \u001b[0mparams\u001b[0m\u001b[0;34m)\u001b[0m\u001b[0;34m\u001b[0m\u001b[0m\n\u001b[0m",
      "\u001b[0;32m<ipython-input-40-8ead74d2ccca>\u001b[0m in \u001b[0;36mrun_cv\u001b[0;34m(model, batch_lim, params)\u001b[0m\n\u001b[1;32m     19\u001b[0m             \u001b[0msetattr\u001b[0m\u001b[0;34m(\u001b[0m\u001b[0mmodel\u001b[0m\u001b[0;34m,\u001b[0m \u001b[0mp\u001b[0m\u001b[0;34m,\u001b[0m \u001b[0mv\u001b[0m\u001b[0;34m)\u001b[0m\u001b[0;34m\u001b[0m\u001b[0m\n\u001b[1;32m     20\u001b[0m \u001b[0;34m\u001b[0m\u001b[0m\n\u001b[0;32m---> 21\u001b[0;31m         \u001b[0mmodel\u001b[0m\u001b[0;34m.\u001b[0m\u001b[0mfit\u001b[0m\u001b[0;34m(\u001b[0m\u001b[0mtfConfig\u001b[0m\u001b[0;34m,\u001b[0m \u001b[0muse_20k\u001b[0m\u001b[0;34m=\u001b[0m\u001b[0;32mFalse\u001b[0m\u001b[0;34m,\u001b[0m \u001b[0mrestore_weights\u001b[0m\u001b[0;34m=\u001b[0m\u001b[0;32mFalse\u001b[0m\u001b[0;34m,\u001b[0m \u001b[0mbatches_to_eval\u001b[0m\u001b[0;34m=\u001b[0m\u001b[0;36m250\u001b[0m\u001b[0;34m,\u001b[0m \u001b[0mbatch_lim\u001b[0m\u001b[0;34m=\u001b[0m\u001b[0mbatch_lim\u001b[0m\u001b[0;34m,\u001b[0m \u001b[0mmax_iter\u001b[0m\u001b[0;34m=\u001b[0m\u001b[0;36m1\u001b[0m\u001b[0;34m,\u001b[0m \u001b[0mtest_at_end\u001b[0m\u001b[0;34m=\u001b[0m\u001b[0;32mFalse\u001b[0m\u001b[0;34m)\u001b[0m\u001b[0;34m\u001b[0m\u001b[0m\n\u001b[0m\u001b[1;32m     22\u001b[0m \u001b[0;34m\u001b[0m\u001b[0m\n",
      "\u001b[0;32m~/src/tf_model_base.py\u001b[0m in \u001b[0;36mfit\u001b[0;34m(self, tfconfig, use_20k, restore_weights, batch_lim, batches_to_eval, batches_to_train_write, max_iter, n_val_batches, test_at_end)\u001b[0m\n\u001b[1;32m    135\u001b[0m         \u001b[0mlogger\u001b[0m\u001b[0;34m.\u001b[0m\u001b[0minfo\u001b[0m\u001b[0;34m(\u001b[0m\u001b[0;34m\"Building model...\"\u001b[0m\u001b[0;34m,\u001b[0m\u001b[0;34m)\u001b[0m\u001b[0;34m\u001b[0m\u001b[0m\n\u001b[1;32m    136\u001b[0m         \u001b[0mstart\u001b[0m \u001b[0;34m=\u001b[0m \u001b[0mtime\u001b[0m\u001b[0;34m.\u001b[0m\u001b[0mtime\u001b[0m\u001b[0;34m(\u001b[0m\u001b[0;34m)\u001b[0m\u001b[0;34m\u001b[0m\u001b[0m\n\u001b[0;32m--> 137\u001b[0;31m         \u001b[0mself\u001b[0m\u001b[0;34m.\u001b[0m\u001b[0mbuild_graph\u001b[0m\u001b[0;34m(\u001b[0m\u001b[0;34m)\u001b[0m\u001b[0;34m\u001b[0m\u001b[0m\n\u001b[0m\u001b[1;32m    138\u001b[0m         \u001b[0mlogger\u001b[0m\u001b[0;34m.\u001b[0m\u001b[0minfo\u001b[0m\u001b[0;34m(\u001b[0m\u001b[0;34m\"took %d s\"\u001b[0m\u001b[0;34m,\u001b[0m \u001b[0mtime\u001b[0m\u001b[0;34m.\u001b[0m\u001b[0mtime\u001b[0m\u001b[0;34m(\u001b[0m\u001b[0;34m)\u001b[0m \u001b[0;34m-\u001b[0m \u001b[0mstart\u001b[0m\u001b[0;34m)\u001b[0m\u001b[0;34m\u001b[0m\u001b[0m\n\u001b[1;32m    139\u001b[0m \u001b[0;34m\u001b[0m\u001b[0m\n",
      "\u001b[0;32m~/src/tf_birnn_classifier.py\u001b[0m in \u001b[0;36mbuild_graph\u001b[0;34m(self)\u001b[0m\n\u001b[1;32m    286\u001b[0m         \u001b[0mself\u001b[0m\u001b[0;34m.\u001b[0m\u001b[0mdefine_embedding\u001b[0m\u001b[0;34m(\u001b[0m\u001b[0;34m)\u001b[0m\u001b[0;34m\u001b[0m\u001b[0m\n\u001b[1;32m    287\u001b[0m         \u001b[0mself\u001b[0m\u001b[0;34m.\u001b[0m\u001b[0madd_placeholders\u001b[0m\u001b[0;34m(\u001b[0m\u001b[0;34m)\u001b[0m\u001b[0;34m\u001b[0m\u001b[0m\n\u001b[0;32m--> 288\u001b[0;31m         \u001b[0mself\u001b[0m\u001b[0;34m.\u001b[0m\u001b[0mmodel\u001b[0m \u001b[0;34m=\u001b[0m \u001b[0mself\u001b[0m\u001b[0;34m.\u001b[0m\u001b[0madd_prediction_op\u001b[0m\u001b[0;34m(\u001b[0m\u001b[0;34m)\u001b[0m\u001b[0;34m\u001b[0m\u001b[0m\n\u001b[0m\u001b[1;32m    289\u001b[0m \u001b[0;34m\u001b[0m\u001b[0m\n\u001b[1;32m    290\u001b[0m \u001b[0;34m\u001b[0m\u001b[0m\n",
      "\u001b[0;32m~/src/tf_birnn_classifier.py\u001b[0m in \u001b[0;36madd_prediction_op\u001b[0;34m(self)\u001b[0m\n\u001b[1;32m    157\u001b[0m     \u001b[0;32mdef\u001b[0m \u001b[0madd_prediction_op\u001b[0m\u001b[0;34m(\u001b[0m\u001b[0mself\u001b[0m\u001b[0;34m)\u001b[0m\u001b[0;34m:\u001b[0m\u001b[0;34m\u001b[0m\u001b[0m\n\u001b[1;32m    158\u001b[0m         \u001b[0mself\u001b[0m\u001b[0;34m.\u001b[0m\u001b[0mn_word_features\u001b[0m \u001b[0;34m=\u001b[0m \u001b[0mself\u001b[0m\u001b[0;34m.\u001b[0m\u001b[0membed_dim\u001b[0m \u001b[0;34m+\u001b[0m \u001b[0mN_CASES\u001b[0m\u001b[0;34m\u001b[0m\u001b[0m\n\u001b[0;32m--> 159\u001b[0;31m         \u001b[0mx\u001b[0m \u001b[0;34m=\u001b[0m \u001b[0mself\u001b[0m\u001b[0;34m.\u001b[0m\u001b[0mget_features\u001b[0m\u001b[0;34m(\u001b[0m\u001b[0;34m)\u001b[0m\u001b[0;34m\u001b[0m\u001b[0m\n\u001b[0m\u001b[1;32m    160\u001b[0m         \u001b[0;31m# x_static = self.parse_case_features(self.add_static_embedding())\u001b[0m\u001b[0;34m\u001b[0m\u001b[0;34m\u001b[0m\u001b[0m\n\u001b[1;32m    161\u001b[0m         \u001b[0;31m# x = tf.stack([x_var, x_static], axis=-1) # concatenate the inputs on the last axis\u001b[0m\u001b[0;34m\u001b[0m\u001b[0;34m\u001b[0m\u001b[0m\n",
      "\u001b[0;32m~/src/tf_birnn_classifier.py\u001b[0m in \u001b[0;36mget_features\u001b[0;34m(self)\u001b[0m\n\u001b[1;32m    151\u001b[0m     \u001b[0;32mdef\u001b[0m \u001b[0mget_features\u001b[0m\u001b[0;34m(\u001b[0m\u001b[0mself\u001b[0m\u001b[0;34m)\u001b[0m\u001b[0;34m:\u001b[0m\u001b[0;34m\u001b[0m\u001b[0m\n\u001b[1;32m    152\u001b[0m         return tf.concat(\n\u001b[0;32m--> 153\u001b[0;31m             \u001b[0;34m[\u001b[0m\u001b[0mself\u001b[0m\u001b[0;34m.\u001b[0m\u001b[0madd_wordvec_features\u001b[0m\u001b[0;34m(\u001b[0m\u001b[0;34m)\u001b[0m\u001b[0;34m,\u001b[0m \u001b[0mself\u001b[0m\u001b[0;34m.\u001b[0m\u001b[0madd_case_features\u001b[0m\u001b[0;34m(\u001b[0m\u001b[0;34m)\u001b[0m\u001b[0;34m]\u001b[0m\u001b[0;34m,\u001b[0m\u001b[0;34m\u001b[0m\u001b[0m\n\u001b[0m\u001b[1;32m    154\u001b[0m             \u001b[0maxis\u001b[0m\u001b[0;34m=\u001b[0m\u001b[0;36m2\u001b[0m\u001b[0;34m\u001b[0m\u001b[0m\n\u001b[1;32m    155\u001b[0m         )\n",
      "\u001b[0;32m~/src/tf_birnn_classifier.py\u001b[0m in \u001b[0;36madd_wordvec_features\u001b[0;34m(self)\u001b[0m\n\u001b[1;32m    139\u001b[0m         input_embeddings = tf.nn.embedding_lookup(\n\u001b[1;32m    140\u001b[0m             \u001b[0mparams\u001b[0m\u001b[0;34m=\u001b[0m\u001b[0mall_embeddings\u001b[0m\u001b[0;34m,\u001b[0m\u001b[0;34m\u001b[0m\u001b[0m\n\u001b[0;32m--> 141\u001b[0;31m             \u001b[0mids\u001b[0m\u001b[0;34m=\u001b[0m\u001b[0mself\u001b[0m\u001b[0;34m.\u001b[0m\u001b[0mword_ids\u001b[0m\u001b[0;34m\u001b[0m\u001b[0m\n\u001b[0m\u001b[1;32m    142\u001b[0m         )                                                                                                          \n\u001b[1;32m    143\u001b[0m         embeddings = tf.reshape(input_embeddings, \n",
      "\u001b[0;32m~/env/lib/python3.5/site-packages/tensorflow/python/ops/embedding_ops.py\u001b[0m in \u001b[0;36membedding_lookup\u001b[0;34m(params, ids, partition_strategy, name, validate_indices, max_norm)\u001b[0m\n\u001b[1;32m    325\u001b[0m       \u001b[0mname\u001b[0m\u001b[0;34m=\u001b[0m\u001b[0mname\u001b[0m\u001b[0;34m,\u001b[0m\u001b[0;34m\u001b[0m\u001b[0m\n\u001b[1;32m    326\u001b[0m       \u001b[0mmax_norm\u001b[0m\u001b[0;34m=\u001b[0m\u001b[0mmax_norm\u001b[0m\u001b[0;34m,\u001b[0m\u001b[0;34m\u001b[0m\u001b[0m\n\u001b[0;32m--> 327\u001b[0;31m       transform_fn=None)\n\u001b[0m\u001b[1;32m    328\u001b[0m \u001b[0;34m\u001b[0m\u001b[0m\n\u001b[1;32m    329\u001b[0m \u001b[0;34m\u001b[0m\u001b[0m\n",
      "\u001b[0;32m~/env/lib/python3.5/site-packages/tensorflow/python/ops/embedding_ops.py\u001b[0m in \u001b[0;36m_embedding_lookup_and_transform\u001b[0;34m(params, ids, partition_strategy, name, max_norm, transform_fn)\u001b[0m\n\u001b[1;32m    140\u001b[0m     \u001b[0mparams\u001b[0m \u001b[0;34m=\u001b[0m \u001b[0;34m[\u001b[0m\u001b[0mparams\u001b[0m\u001b[0;34m]\u001b[0m\u001b[0;34m\u001b[0m\u001b[0m\n\u001b[1;32m    141\u001b[0m \u001b[0;34m\u001b[0m\u001b[0m\n\u001b[0;32m--> 142\u001b[0;31m   \u001b[0;32mwith\u001b[0m \u001b[0mops\u001b[0m\u001b[0;34m.\u001b[0m\u001b[0mname_scope\u001b[0m\u001b[0;34m(\u001b[0m\u001b[0mname\u001b[0m\u001b[0;34m,\u001b[0m \u001b[0;34m\"embedding_lookup\"\u001b[0m\u001b[0;34m,\u001b[0m \u001b[0mparams\u001b[0m \u001b[0;34m+\u001b[0m \u001b[0;34m[\u001b[0m\u001b[0mids\u001b[0m\u001b[0;34m]\u001b[0m\u001b[0;34m)\u001b[0m \u001b[0;32mas\u001b[0m \u001b[0mname\u001b[0m\u001b[0;34m:\u001b[0m\u001b[0;34m\u001b[0m\u001b[0m\n\u001b[0m\u001b[1;32m    143\u001b[0m     \u001b[0mnp\u001b[0m \u001b[0;34m=\u001b[0m \u001b[0mlen\u001b[0m\u001b[0;34m(\u001b[0m\u001b[0mparams\u001b[0m\u001b[0;34m)\u001b[0m  \u001b[0;31m# Number of partitions\u001b[0m\u001b[0;34m\u001b[0m\u001b[0m\n\u001b[1;32m    144\u001b[0m     \u001b[0;31m# Preserve the resource variable status to avoid accidental dense reads.\u001b[0m\u001b[0;34m\u001b[0m\u001b[0;34m\u001b[0m\u001b[0m\n",
      "\u001b[0;32m~/env/lib/python3.5/site-packages/tensorflow/python/framework/ops.py\u001b[0m in \u001b[0;36m__enter__\u001b[0;34m(self)\u001b[0m\n\u001b[1;32m   5768\u001b[0m       \u001b[0;32mif\u001b[0m \u001b[0mself\u001b[0m\u001b[0;34m.\u001b[0m\u001b[0m_values\u001b[0m \u001b[0;32mis\u001b[0m \u001b[0;32mNone\u001b[0m\u001b[0;34m:\u001b[0m\u001b[0;34m\u001b[0m\u001b[0m\n\u001b[1;32m   5769\u001b[0m         \u001b[0mself\u001b[0m\u001b[0;34m.\u001b[0m\u001b[0m_values\u001b[0m \u001b[0;34m=\u001b[0m \u001b[0;34m[\u001b[0m\u001b[0;34m]\u001b[0m\u001b[0;34m\u001b[0m\u001b[0m\n\u001b[0;32m-> 5770\u001b[0;31m       \u001b[0mg\u001b[0m \u001b[0;34m=\u001b[0m \u001b[0m_get_graph_from_inputs\u001b[0m\u001b[0;34m(\u001b[0m\u001b[0mself\u001b[0m\u001b[0;34m.\u001b[0m\u001b[0m_values\u001b[0m\u001b[0;34m)\u001b[0m\u001b[0;34m\u001b[0m\u001b[0m\n\u001b[0m\u001b[1;32m   5771\u001b[0m       \u001b[0mself\u001b[0m\u001b[0;34m.\u001b[0m\u001b[0m_g_manager\u001b[0m \u001b[0;34m=\u001b[0m \u001b[0mg\u001b[0m\u001b[0;34m.\u001b[0m\u001b[0mas_default\u001b[0m\u001b[0;34m(\u001b[0m\u001b[0;34m)\u001b[0m\u001b[0;34m\u001b[0m\u001b[0m\n\u001b[1;32m   5772\u001b[0m       \u001b[0mself\u001b[0m\u001b[0;34m.\u001b[0m\u001b[0m_g_manager\u001b[0m\u001b[0;34m.\u001b[0m\u001b[0m__enter__\u001b[0m\u001b[0;34m(\u001b[0m\u001b[0;34m)\u001b[0m\u001b[0;34m\u001b[0m\u001b[0m\n",
      "\u001b[0;32m~/env/lib/python3.5/site-packages/tensorflow/python/framework/ops.py\u001b[0m in \u001b[0;36m_get_graph_from_inputs\u001b[0;34m(op_input_list, graph)\u001b[0m\n\u001b[1;32m   5428\u001b[0m         \u001b[0mgraph\u001b[0m \u001b[0;34m=\u001b[0m \u001b[0mgraph_element\u001b[0m\u001b[0;34m.\u001b[0m\u001b[0mgraph\u001b[0m\u001b[0;34m\u001b[0m\u001b[0m\n\u001b[1;32m   5429\u001b[0m       \u001b[0;32melif\u001b[0m \u001b[0moriginal_graph_element\u001b[0m \u001b[0;32mis\u001b[0m \u001b[0;32mnot\u001b[0m \u001b[0;32mNone\u001b[0m\u001b[0;34m:\u001b[0m\u001b[0;34m\u001b[0m\u001b[0m\n\u001b[0;32m-> 5430\u001b[0;31m         \u001b[0m_assert_same_graph\u001b[0m\u001b[0;34m(\u001b[0m\u001b[0moriginal_graph_element\u001b[0m\u001b[0;34m,\u001b[0m \u001b[0mgraph_element\u001b[0m\u001b[0;34m)\u001b[0m\u001b[0;34m\u001b[0m\u001b[0m\n\u001b[0m\u001b[1;32m   5431\u001b[0m       \u001b[0;32melif\u001b[0m \u001b[0mgraph_element\u001b[0m\u001b[0;34m.\u001b[0m\u001b[0mgraph\u001b[0m \u001b[0;32mis\u001b[0m \u001b[0;32mnot\u001b[0m \u001b[0mgraph\u001b[0m\u001b[0;34m:\u001b[0m\u001b[0;34m\u001b[0m\u001b[0m\n\u001b[1;32m   5432\u001b[0m         \u001b[0;32mraise\u001b[0m \u001b[0mValueError\u001b[0m\u001b[0;34m(\u001b[0m\u001b[0;34m\"%s is not from the passed-in graph.\"\u001b[0m \u001b[0;34m%\u001b[0m \u001b[0mgraph_element\u001b[0m\u001b[0;34m)\u001b[0m\u001b[0;34m\u001b[0m\u001b[0m\n",
      "\u001b[0;32m~/env/lib/python3.5/site-packages/tensorflow/python/framework/ops.py\u001b[0m in \u001b[0;36m_assert_same_graph\u001b[0;34m(original_item, item)\u001b[0m\n\u001b[1;32m   5364\u001b[0m   \u001b[0;32mif\u001b[0m \u001b[0moriginal_item\u001b[0m\u001b[0;34m.\u001b[0m\u001b[0mgraph\u001b[0m \u001b[0;32mis\u001b[0m \u001b[0;32mnot\u001b[0m \u001b[0mitem\u001b[0m\u001b[0;34m.\u001b[0m\u001b[0mgraph\u001b[0m\u001b[0;34m:\u001b[0m\u001b[0;34m\u001b[0m\u001b[0m\n\u001b[1;32m   5365\u001b[0m     raise ValueError(\"%s must be from the same graph as %s.\" % (item,\n\u001b[0;32m-> 5366\u001b[0;31m                                                                 original_item))\n\u001b[0m\u001b[1;32m   5367\u001b[0m \u001b[0;34m\u001b[0m\u001b[0m\n\u001b[1;32m   5368\u001b[0m \u001b[0;34m\u001b[0m\u001b[0m\n",
      "\u001b[0;31mValueError\u001b[0m: Tensor(\"strided_slice_4:0\", shape=(?, 300), dtype=int64) must be from the same graph as Tensor(\"embeddings:0\", shape=(10008, 50), dtype=float32_ref)."
     ]
    }
   ],
   "source": [
    "run_cv(model, 10, params)"
   ]
  },
  {
   "cell_type": "code",
   "execution_count": 55,
   "metadata": {},
   "outputs": [
    {
     "data": {
      "text/plain": [
       "{'eta': [0.0007943282347242829, 0.0015848931924611173, 0.00015848931924611142],\n",
       " 'hidden_dim': [90, 180, 120]}"
      ]
     },
     "execution_count": 55,
     "metadata": {},
     "output_type": "execute_result"
    }
   ],
   "source": [
    "params"
   ]
  },
  {
   "cell_type": "code",
   "execution_count": 31,
   "metadata": {
    "scrolled": true
   },
   "outputs": [
    {
     "name": "stderr",
     "output_type": "stream",
     "text": [
      "INFO:Initializing data manager...\n",
      "INFO:took 0 s\n",
      "INFO:Building model...\n",
      "INFO:took 0 s\n"
     ]
    },
    {
     "name": "stdout",
     "output_type": "stream",
     "text": [
      "fw outputs:  (?, 300, 50)\n",
      "bw outputs:  (?, 300, 50)\n",
      "all outputs:  (?, 300, 100)\n",
      "all states:  (?, 100)\n",
      "W_attn: (100, 25)\n",
      "INFO:tensorflow:Restoring parameters from /home/tuckerleavitt/checkpoints/birnn_model/birnn-model-50000\n"
     ]
    },
    {
     "name": "stderr",
     "output_type": "stream",
     "text": [
      "INFO:Restoring parameters from /home/tuckerleavitt/checkpoints/birnn_model/birnn-model-50000\n",
      "INFO:-- Restored model\n"
     ]
    },
    {
     "data": {
      "text/plain": [
       "<tf_birnn_classifier.TfBiRNNClassifier at 0x7fa4943473c8>"
      ]
     },
     "execution_count": 31,
     "metadata": {},
     "output_type": "execute_result"
    }
   ],
   "source": [
    "model = TfBiRNNClassifier(embedding=embeddings, eta=0.001, use_attn = True,\n",
    "                           ckpts_prefix='{}/checkpoints/birnn_model/birnn-model'.format(PROJECT_DIR),\n",
    "                           summaries_dir='{}/summaries-birnn/'.format(PROJECT_DIR)\n",
    "                          )\n",
    "model.fit(tfConfig, use_20k=False, restore_weights=True, batches_to_eval=250, max_iter=0, test_at_end=False)"
   ]
  },
  {
   "cell_type": "code",
   "execution_count": 22,
   "metadata": {},
   "outputs": [
    {
     "data": {
      "text/plain": [
       "50"
      ]
     },
     "execution_count": 22,
     "metadata": {},
     "output_type": "execute_result"
    }
   ],
   "source": [
    "setattr(model, 'hidden_dim', 50)\n",
    "getattr(model, 'hidden_dim')"
   ]
  },
  {
   "cell_type": "markdown",
   "metadata": {},
   "source": [
    "## Evaluation"
   ]
  },
  {
   "cell_type": "code",
   "execution_count": 9,
   "metadata": {},
   "outputs": [],
   "source": [
    "def print_example(pred, label, feats, length, email_id):\n",
    "    ids_ = feats[:length][:, 0]\n",
    "    print(\"==== {} ====\".format(email_id))\n",
    "    print(\"Predicted label: {}. True label: {}\".format(LBLS[pred], LBLS[label]))\n",
    "    print( \" \".join((id2tok[i] for i in ids_)) )\n",
    "    print(\"------------------------------------\")\n",
    "\n",
    "def print_examples(preds, outputs, inputs, lens, email_ids):\n",
    "    for p, o, i, l, d in zip(preds, outputs, inputs, lens, email_ids):\n",
    "        print_example(p, o, i, l, d)"
   ]
  },
  {
   "cell_type": "code",
   "execution_count": 10,
   "metadata": {},
   "outputs": [
    {
     "name": "stderr",
     "output_type": "stream",
     "text": [
      "INFO:Ran 100 batches\n"
     ]
    },
    {
     "name": "stdout",
     "output_type": "stream",
     "text": [
      " Predicted 2419 of 3200 examples correctly\n",
      " Precision: 0.756, Recall: 0.756, F1: 0.756\n"
     ]
    }
   ],
   "source": [
    "outputs, preds, word_ids, email_ids = model.evaluate_tfdata(model.sess, model.dev_dict(), batch_lim=100, writer=None)\n",
    "\n",
    "preds = np.asarray(preds); outputs = np.array(outputs)    \n",
    "correct = preds == outputs\n",
    "prec, rec, f1, _ = metrics.precision_recall_fscore_support(outputs, preds, average='micro')\n",
    "\n",
    "print(\" Predicted {} of {} examples correctly\".format(np.sum(correct), correct.shape[0]) )\n",
    "print(\" Precision: {:1.3f}, Recall: {:1.3f}, F1: {:1.3f}\".format(prec, rec, f1) )"
   ]
  },
  {
   "cell_type": "code",
   "execution_count": 124,
   "metadata": {},
   "outputs": [
    {
     "name": "stdout",
     "output_type": "stream",
     "text": [
      "==== b'<29993130.1075844385451.JavaMail.evans@thyme>' ====\n",
      "Predicted label: NORESPONSE. True label: NORESPONSE\n",
      "<s> hello , justin and jon , this is bob bruce with the enron north america legal department in houston . sara and i were wondering about a few things ; perhaps david UUUNKKK or someone else is already addressing these issues -- ( NNNUMMM ) given mg london 's status as a licensed fcm and cta , did enron 's acquisition of mg require any cftc filing ? if so , sara and i would like to get a copy of the filing . ( NNNUMMM ) sara and i were also curious as to whether , or to what extent , cftc UUUNKKK requirements may apply `` upward '' to any enron entities or their officers . please let us know if you can shed any light on these areas , or if there is someone else we should be checking with on these matters . thanks -- bob </s>\n",
      "------------------------------------\n",
      "==== b'<25255988.1075854372035.JavaMail.evans@thyme>' ====\n",
      "Predicted label: NORESPONSE. True label: NORESPONSE\n",
      "<s> i will be there . thanks . dg UUUNKKK </s>\n",
      "------------------------------------\n",
      "==== b'<13393388.1075856891862.JavaMail.evans@thyme>' ====\n",
      "Predicted label: NORESPONSE. True label: NORESPONSE\n",
      "<s> dear mr. UUUNKKK , this e-mail is in reference to our telephone conversation on december NNNUMMM , regarding possible opening at enron research ( i was referred to you by UUUNKKK UUUNKKK ) . briefly , i am a UUUNKKK with enron global exploration and production ( egep ) . enron corp. recently decided to divest all of the egep 's oil and gas assets and exit the upstream industry . as a result , i am UUUNKKK for a new position within enron . having done some research on the activities of various groups at enron , i think that my science background , experience and skills may be best suitable for the enron research group . i would appreciate your review of my resume ( attached ) and your comments about any job opportunity within enron research . please feel free to call me at ext . NNNUMMM if you have any questions . sincerely , UUUNKKK UUUNKKK </s>\n",
      "------------------------------------\n",
      "==== b'<17199135.1075861678158.JavaMail.evans@thyme>' ====\n",
      "Predicted label: NORESPONSE. True label: NORESPONSE\n",
      "<s> an initial statement for trade day UUUNKKK was due to be posted on the ercot portal today along with a UUUNKKK statement for trade day UUUNKKK due to UUUNKKK disputes . these statements will not be posted today due to problems with the UUUNKKK process . it is expected that these settlement statements will be posted on monday UUUNKKK . we apologize for the inconvenience . please contact your ercot client service representative if you have further questions . - UUUNKKK </s>\n",
      "------------------------------------\n",
      "==== b'<19030702.1075847359265.JavaMail.evans@thyme>' ====\n",
      "Predicted label: NORESPONSE. True label: NORESPONSE\n",
      "<s> thank you kay , i really appreciate all your help ! kay young UUUNKKK UUUNKKK pm to : tana jones/hou/ect @ ect cc : subject : offline form the UUUNKKK clause is one way ( rest is bilateral ) so if it is included you have to remember to fill in its UUUNKKK . ( you probably would remember this anyway ! ) kay c. young legal specialist enron north america corp. UUUNKKK phone 713-646-3393 fax UUUNKKK @ enron.com </s>\n",
      "------------------------------------\n",
      "==== b'<10750150.1075842321373.JavaMail.evans@thyme>' ====\n",
      "Predicted label: REPLY. True label: REPLY\n",
      "<s> subject : please note the previous UUUNKKK sent to you UUUNKKK had enron north america as the contract party . please see attached . ( see attached file : UUUNKKK UUUNKKK ) debra UUUNKKK enron north america corp. NNNUMMM smith street , eb NNNUMMM houston , texas NNNUMMM UUUNKKK @ enron.com phone UUUNKKK fax 713-646-3490 < < file : mac word 3.0 > > </s>\n",
      "------------------------------------\n",
      "==== b'<23562294.1075845751186.JavaMail.evans@thyme>' ====\n",
      "Predicted label: REPLY. True label: NORESPONSE\n",
      "<s> randy : as i indicated in my voicemail , coral has requested that UUUNKKK ( or its designated project affiliate - UUUNKKK energy l.p. ) be the counterparty that UUUNKKK with enron . based on current information , the structure of the transaction has not materially changed from the coral deal structure described in the UUUNKKK dash . UUUNKKK is holding a board meeting this afternoon and the proposed transaction is on the agenda for approval . with regard to the timing of the funding , it is my understanding that once the letter agreement has been executed ( target date : UUUNKKK ) and associated documents accepted by UUUNKKK , enron will notify UUUNKKK of its intention to assign the equipment to UUUNKKK ( target notice date : UUUNKKK ) . once the assignment documents are ready for execution , UUUNKKK will fund the transaction and enron will execute the assignment documents immediately after receiving written confirmation that enron has received the transaction proceeds . there is a desire by east origination to , if possible , book the earnings from this transaction in fiscal year NNNUMMM . rebecca walker ( ena development ) is planning to run a d & b report on UUUNKKK energy l.p. tomorrow once she receives the state and headquarters information necessary . i traded UUUNKKK with ben glisan today on this counterparty change . he asked that i work with rac deal UUUNKKK on this matter . based upon your voicemail it appears that we do not need to amend the dash based upon this change in counterparty . let me know if any of the above information changes your opinion . call me if you wish to discuss this information . thanks , fred UUUNKKK UUUNKKK </s>\n",
      "------------------------------------\n",
      "==== b'<5898487.1075856639329.JavaMail.evans@thyme>' ====\n",
      "Predicted label: NORESPONSE. True label: REPLY\n",
      "<s> gordon , this is the information about our recruiting program . vince - UUUNKKK </s>\n",
      "------------------------------------\n",
      "==== b'<4324503.1075847300001.JavaMail.evans@thyme>' ====\n",
      "Predicted label: NORESPONSE. True label: NORESPONSE\n",
      "<s> when do you think you could reply by , so i can get sheri an eta ? shari stack UUUNKKK UUUNKKK pm to : tana jones/hou/ect @ ect cc : subject : re : tradespark , l.p. website i will try - but can not promise . i have some very urgent things on my UUUNKKK right now . tana jones UUUNKKK UUUNKKK pm to : mark taylor/hou/ect @ ect , mark UUUNKKK @ enron , stacy e UUUNKKK @ ect , jeffrey t hodge/hou/ect @ ect , shari UUUNKKK @ ect , wayne UUUNKKK @ ect , brent hendry/na/enron @ enron , john viverito/corp/enron @ enron cc : subject : tradespark , l.p. website i just got a call from sheri thomas with enrononline checking on the status of your reviews . when each of you has completed the review of your products can you let me know , so we can sign off on that product . sheri is being pressured by our traders to get this up and is also getting daily calls from the president of tradespark . she would like to have everyone 's sign off by friday if possible . can you let me know whether this will present any problem . thanks ! </s>\n",
      "------------------------------------\n",
      "==== b'<30559561.1075858044681.JavaMail.evans@thyme>' ====\n",
      "Predicted label: NORESPONSE. True label: NORESPONSE\n",
      "<s> texans news may NNNUMMM , NNNUMMM UUUNKKK ready for UUUNKKK texans owner bob UUUNKKK 's UUUNKKK is listed as a UUUNKKK shot to win UUUNKKK UUUNKKK running of the kentucky UUUNKKK . can UUUNKKK capture the first UUUNKKK of the triple crown ? we 're live in UUUNKKK to find out : http : UUUNKKK ? UUUNKKK & UUUNKKK first UUUNKKK the texans will pick NNNUMMM players in february 's expansion draft , but history shows the best way to build a team is through the college draft . we take a look at how the past nine expansion UUUNKKK have UUUNKKK in their first five drafts : http : UUUNKKK ? UUUNKKK & UUUNKKK calling all kids UUUNKKK has taken up shop in the kids zone . click below to find him : http : UUUNKKK ? UUUNKKK & UUUNKKK moving on up check out our latest construction shots of reliant stadium : http : UUUNKKK ? UUUNKKK & UUUNKKK going fast texans UUUNKKK and UUUNKKK season tickets are going fast . click below to order now or call UUUNKKK : http : UUUNKKK show your pride cool off with this official texans UUUNKKK UUUNKKK UUUNKKK . this UUUNKKK features the team name and UUUNKKK UUUNKKK . http : UUUNKKK ? UUUNKKK & UUUNKKK UUUNKKK email you wear your texans pride like a badge of honor , now you can get your own texans e-mail address ( UUUNKKK @ UUUNKKK ) , courtesy of the texans and UUUNKKK . sign up for the texans internet service today ! http : UUUNKKK -- - you are currently subscribed to UUUNKKK as : UUUNKKK @ enron.com to unsubscribe send a blank email to UUUNKKK @ UUUNKKK </s>\n",
      "------------------------------------\n",
      "==== b'<14725590.1075840234596.JavaMail.evans@thyme>' ====\n",
      "Predicted label: NORESPONSE. True label: NORESPONSE\n",
      "<s> attached you will find the ene friday report . please open as read only and do not update link . investor relations </s>\n",
      "------------------------------------\n",
      "==== b'<11235685.1075839984207.JavaMail.evans@thyme>' ====\n",
      "Predicted label: NORESPONSE. True label: NORESPONSE\n",
      "<s> start date : UUUNKKK ; UUUNKKK hour : NNNUMMM ; no ancillary schedules awarded . no variances UUUNKKK . log messages : UUUNKKK file -- > > o : UUUNKKK UUUNKKK final UUUNKKK # # # can not locate a preferred or UUUNKKK schedule that matches the final individual UUUNKKK schedule . unable to assign deal number . # # # can not locate a preferred or UUUNKKK schedule that matches the final individual UUUNKKK schedule . unable to assign deal number . # # # can not locate a preferred or UUUNKKK schedule that matches the final individual UUUNKKK schedule . unable to assign deal number . </s>\n",
      "------------------------------------\n",
      "==== b'<13538737.1075862164918.JavaMail.evans@thyme>' ====\n",
      "Predicted label: REPLY. True label: REPLY\n",
      "<s> UUUNKKK , thank you for UUUNKKK in to the issue of deferred UUUNKKK stock units . it is clear that the payment will be made in shares . however , i still do n't understand which date will be used to determine the value and calculate how many shares . the plan document under vii . amount of benefit payments reads `` the value of the shares , and resulting payment amount will be based on the closing price of enron corp. common stock on the january NNNUMMM before the date of payment , and such payment shall be made in shares of enron corp. common stock . '' can you help me UUUNKKK this statement and work through the numbers on my account . thank you , phillip allen </s>\n",
      "------------------------------------\n",
      "==== b'<5369377.1075847617181.JavaMail.evans@thyme>' ====\n",
      "Predicted label: REPLY. True label: REPLY\n",
      "<s> you are invited to a meeting next thursday ( UUUNKKK ) afternoon at 2:00 to discuss energy commodity and renewable energy credits for the enron building , center and stadium . there are a few efforts that are going on simultaneously and i thought it would be a good idea for all of us to meet and get on the same page . as many of you might know , enron wind ( michael payne ) and ena ( mike curry ) have a great proposal to retire renewable energy credits from our enron wind facility to match the consumption of the building and stadium ( details attached below ) . if this proposal goes forward , enron would be the 1st fortune NNNUMMM company to `` go green '' in its headquarters building . couple this w/ our energy star award , and we have great environmental messaging . we 'd like to highlight this announcement on earth day ( april 22nd ) . the facilities folks are interested in switching from reliant to ees for actual commodity . it makes sense to work UUUNKKK together on UUUNKKK proposal that will not only make sense economically , but that we can use in our messaging . the focus of the meeting is to discuss the various proposals , and steps for moving forward . the meeting will be in UUUNKKK from UUUNKKK . please let me know if you or someone from your group can attend . stacey bolton environmental strategies enron corp UUUNKKK </s>\n",
      "------------------------------------\n",
      "==== b'<28199796.1075854387488.JavaMail.evans@thyme>' ====\n",
      "Predicted label: NORESPONSE. True label: NORESPONSE\n",
      "<s> i need directions and phone numbers . call me at home tonight . UUUNKKK . thanks . dg </s>\n",
      "------------------------------------\n",
      "==== b'<26766656.1075851693466.JavaMail.evans@thyme>' ====\n",
      "Predicted label: REPLY. True label: REPLY\n",
      "<s> this was sent to me by dave UUUNKKK of the UUUNKKK UUUNKKK . what a UUUNKKK ! mike UUUNKKK UUUNKKK this UUUNKKK ( NNNUMMM points ) on november NNNUMMM in UUUNKKK county , ohio . could be a new world record . enjoy $ ( see attached file : world record UUUNKKK ) - world record UUUNKKK </s>\n",
      "------------------------------------\n",
      "==== b'<28165234.1075860985334.JavaMail.evans@thyme>' ====\n",
      "Predicted label: NORESPONSE. True label: NORESPONSE\n",
      "<s> dear UUUNKKK friends ... now that the holiday season has passed , please look into your heart to help those in need . enron executives in our very own country are living at or just below the UUUNKKK salary level ... right here in the land of plenty . and , as if that were n't bad enough , they will be UUUNKKK of it as a result of the bankruptcy and current sec investigation . but now , you can help ! for only $ UUUNKKK a month , about $ UUUNKKK a day ( that 's less than the cost of a large screen projection tv ) you can help an enron executive remain economically viable during his time of need . this contribution by no means UUUNKKK the problem , as it barely covers their per UUUNKKK , ... but it 's a start ! almost $ NNNUMMM may not seem like a lot of money to you , but to an enron exec it could mean the difference between a vacation spent -- -- -- - in dc , UUUNKKK in florida or a UUUNKKK cruise . for you , seven hundred dollars is nothing more than rent , a car note or mortgage payments . but to an enron exec $ NNNUMMM will almost replace his per UUUNKKK . your commitment of less than $ NNNUMMM a day will enable an enron exec to buy that home entertainment center , trade in the UUUNKKK UUUNKKK for a new UUUNKKK , or enjoy a weekend in rio . how will i know i 'm helping ? each month , you will receive a complete financial report on the exec you sponsor . detailed information about his stocks , bonds , NNNUMMM ( k ) </s>\n",
      "------------------------------------\n",
      "==== b'<22482108.1075849334592.JavaMail.evans@thyme>' ====\n",
      "Predicted label: NORESPONSE. True label: NORESPONSE\n",
      "<s> summary of the activities since friday : overall , it 's UUUNKKK or better that the legislature will finish up the budget and recess until august 20th , without having passed some form of an `` edison mou . '' will have a better view of the chances of getting an mou agreed to and passed through both houses by cob monday . in the senate : the `` edison mou '' : as previously reported , on friday , sb NNNUMMM -- UUUNKKK senate 's version of the edison mou -- passed out of the full senate and was sent to the full senate . the bill UUUNKKK NNNUMMM % of suppliers ' debts with edison 's shareholders but pays qfs and other creditors . the authors believe that suppliers ca n't force edison into bankruptcy because the claims are with the px , not edison , which in their view means that the suppliers ca n't reach edison . our lawyers need to assess whether the UUUNKKK is strong from a legal perspective . the bill creates an option to buy the transmission system , but rejects the UUUNKKK 's mou , which buys it outright . though there 's some uncertainty , the bill appears to end direct access . information we have indicates that the assembly does not support and will not pass sb NNNUMMM in its current form . enron ( and the UUUNKKK of market participants ) opposes NNNUMMM . the `` dunn investigation '' : dunn released his report regarding contempt charges against enron on saturday . the report recommends that the senate fine us , beginning with $ 1,000 the first day , and doubling everyday thereafter until enron `` UUUNKKK . '' dunn announced on saturday that he would </s>\n",
      "------------------------------------\n",
      "==== b'<1343267.1075854284847.JavaMail.evans@thyme>' ====\n",
      "Predicted label: REPLY. True label: NORESPONSE\n",
      "<s> to all : the proposed sale of hpl to american electric power ( aep ) has been signed and the conditions for the acquisition should be completed within the coming months . over the next few days , i will be forwarding more details about the transition process . these details will outline the employment opportunities and transfer process to aep . aep is eager to complete these arrangements , as the pipeline is only as valuable as the people who operate it . during the transition period , it is important that we keep the pipe line operating at our historical level of reliability in order to meet the energy needs of our customers . regards , brian </s>\n",
      "------------------------------------\n",
      "==== b'<20232519.1075853550246.JavaMail.evans@thyme>' ====\n",
      "Predicted label: REPLY. True label: NORESPONSE\n",
      "<s> we have san francisco tickets : wed aug NNNUMMM - UUUNKKK a.m. ( arrive 11:30 a.m. ) iah to UUUNKKK seats NNNUMMM a , b , d - flight NNNUMMM mon aug NNNUMMM - noon ( arrive UUUNKKK p.m. ) UUUNKKK to iah seats NNNUMMM a , b , e - flight NNNUMMM </s>\n",
      "------------------------------------\n",
      "==== b'<13144872.1075855401621.JavaMail.evans@thyme>' ====\n",
      "Predicted label: NORESPONSE. True label: NORESPONSE\n",
      "<s> please check on : UUUNKKK energy , inc . the energy authority inc. also , can you verify that the following are current on financial payments : UUUNKKK UUUNKKK energy marketing inc. energy production corp . rising star energy llc thanks and have a great holiday ! carol st. clair eb NNNUMMM 713-853-3989 ( phone ) 713-646-3393 ( fax ) UUUNKKK ( cell phone ) NNNUMMM ( pager ) UUUNKKK ( home fax ) carol.st.clair @ enron.com </s>\n",
      "------------------------------------\n",
      "==== b'<1928429.1075854639491.JavaMail.evans@thyme>' ====\n",
      "Predicted label: NORESPONSE. True label: NORESPONSE\n",
      "<s> [ image ] UUUNKKK UUUNKKK is here ... and it 's free ! join a league or create your own . it 's a UUUNKKK UUUNKKK ! http : UUUNKKK run your UUUNKKK UUUNKKK league for free with our UUUNKKK league management service ! http : UUUNKKK the tab for UUUNKKK 's free UUUNKKK football is being picked up by miller UUUNKKK , our favorite beer around here . check them out offline at your local bar or online with us . grab a miller UUUNKKK . it 's miller time ! half is better than nothing . because nothing is probably illegal . shop UUUNKKK for half price or better on all your favorite music , books , UUUNKKK & games . win the UUUNKKK football trip of a UUUNKKK ! love to UUUNKKK the UUUNKKK site ? you could win a UUUNKKK weekend in florida to attend UUUNKKK carter 's fast program in florida ! click here to get started now ! brought to you by sponsorship bar you are receiving these UUUNKKK because you have signed up for cbs UUUNKKK UUUNKKK football . to UUUNKKK , reschedule , or turn off these reports please click here player updates ? UUUNKKK reports ? latest UUUNKKK player news jeff garcia , UUUNKKK sf - martin UUUNKKK updated UUUNKKK while completing NNNUMMM of NNNUMMM passes , garcia threw for NNNUMMM yards with no UUUNKKK , and ran for a pair of short UUUNKKK . in a fine performance against a talented chiefs defense , garcia showed a new UUUNKKK as a scrambling threat near the goal line . if UUUNKKK try to pressure him into making mistakes , garcia can burn them with his UUUNKKK in the red zone . UUUNKKK anderson , UUUNKKK UUUNKKK - the UUUNKKK </s>\n",
      "------------------------------------\n",
      "==== b'<722112.1075843187935.JavaMail.evans@thyme>' ====\n",
      "Predicted label: NORESPONSE. True label: NORESPONSE\n",
      "<s> will do . drew UUUNKKK @ enron UUUNKKK UUUNKKK pm to : UUUNKKK UUUNKKK & s/enron @ enron cc : jeff UUUNKKK @ ees , kathy UUUNKKK & s/enron @ enron subject : re : so cal edison claims withholding of pipeline capacity jeff and jeff -- pls keep me and kathy UUUNKKK posted on whatever you find . thanks . UUUNKKK UUUNKKK UUUNKKK UUUNKKK UUUNKKK pm to : jeff UUUNKKK @ ees cc : drew UUUNKKK & s/enron @ enron subject : so cal edison claims withholding of pipeline capacity jeff , is it possible for tw to get a copy of the edison filing at the cpuc ? while the article [ shown below ] does n't provide any details , i suspect edison 's complaint UUUNKKK earlier allegations against el paso regarding their sale of the 1.2 UUUNKKK block of capacity to their affiliate . i do n't think transwestern and/or enron affiliate marketing companies are UUUNKKK in this deal at all . can you confirm this is an `` el paso only '' problem and not something enron is being drawn into ? i really appreciate your help here . from : drew UUUNKKK UUUNKKK UUUNKKK pm to : UUUNKKK UUUNKKK & s/enron @ enron cc : steven UUUNKKK & s/enron @ enron , UUUNKKK UUUNKKK & s/enron @ enron , UUUNKKK UUUNKKK & s/enron @ enron , kevin UUUNKKK & s/enron @ enron , christine UUUNKKK & s/enron @ enron , UUUNKKK UUUNKKK & s/enron @ enron , michelle UUUNKKK & s/enron @ enron , UUUNKKK UUUNKKK & s/enron @ enron , lee UUUNKKK & s/enron @ enron , susan UUUNKKK & s/enron @ enron , shelley UUUNKKK & s/enron @ enron , UUUNKKK UUUNKKK & s/enron @ enron , maria UUUNKKK & </s>\n",
      "------------------------------------\n",
      "==== b'<23296183.1075847371937.JavaMail.evans@thyme>' ====\n",
      "Predicted label: NORESPONSE. True label: NORESPONSE\n",
      "<s> ian , the confidentiality provisions contained in this agreement do not allow us to provide the agreement to affiliates . i will need some direction from the counterparty either via email or phone before i can send you a copy of the agreement . sorry ... ian UUUNKKK @ enron UUUNKKK UUUNKKK am to : tana jones/hou/ect @ ect cc : subject : alcoa inc isda hello tana , i was wondering if you could provide me with a copy of the isda in place with alcoa inc. today . it would be greatly appreciated if you could send this document either by email , or to me by fax at NNNUMMM NNNUMMM NNNUMMM . sorry about the rush on this . thanks in advance , ian </s>\n",
      "------------------------------------\n",
      "==== b'<21116165.1075855153100.JavaMail.evans@thyme>' ====\n",
      "Predicted label: NORESPONSE. True label: NORESPONSE\n",
      "<s> sap system outage notification -- -- -- -- -- -- -- -- -- -- -- -- -- -- -- -- -- -- -- -- -- -- -- -- -- -- -- -- -- -- - system outage notification -- -- -- -- -- -- -- -- -- -- -- -- -- -- -- -- -- -- -- -- -- -- -- -- -- -- -- -- -- -- - for : UUUNKKK - UUUNKKK 2.0 production date & time of outage : outage UUUNKKK : november NNNUMMM , NNNUMMM at UUUNKKK pm cst outage ends : december NNNUMMM , NNNUMMM at UUUNKKK pm cst outage UUUNKKK : system will be unavailable for production build activities outage description : system will be unavailable for production build activities outage UUUNKKK : no access during outage contact : UUUNKKK contact : contact information : basis on-call UUUNKKK isc customer care UUUNKKK -- -- -- -- -- -- -- -- -- -- -- -- -- -- -- -- -- -- -- -- -- -- -- -- -- -- -- -- -- -- - system outage notification -- -- -- -- -- -- -- -- -- -- -- -- -- -- -- -- -- -- -- -- -- -- -- -- -- -- -- -- -- -- - for : UUUNKKK - hr production date & time of outage : outage UUUNKKK : november NNNUMMM , NNNUMMM at UUUNKKK pm cst outage ends : december NNNUMMM , NNNUMMM at UUUNKKK pm cst outage UUUNKKK : system will be unavailable for production build activities outage description : system will be unavailable for production build activities outage UUUNKKK : no access during outage contact : UUUNKKK contact : contact information : basis on-call UUUNKKK isc customer care UUUNKKK -- -- -- -- -- -- -- </s>\n",
      "------------------------------------\n",
      "==== b'<11407392.1075859843609.JavaMail.evans@thyme>' ====\n",
      "Predicted label: NORESPONSE. True label: NORESPONSE\n",
      "<s> UUUNKKK , what cost centers are included in the consolidated report attached ? also , we would like to see separate o & m reports for all cost centers in ews legal . the cost centers are NNNUMMM , NNNUMMM , NNNUMMM , NNNUMMM , NNNUMMM , NNNUMMM , NNNUMMM , NNNUMMM , and NNNUMMM . what about our year-end o & m reports for these same cost centers ? thanks , deb deb UUUNKKK ews legal dept . NNNUMMM smith street , room NNNUMMM houston , tx NNNUMMM phone : UUUNKKK fax : 713-646-3393 UUUNKKK UUUNKKK @ enronxgate UUUNKKK UUUNKKK am to : mark e haedicke/hou/ect @ ect cc : deb UUUNKKK @ ect subject : o & m report UUUNKKK mark , please let me know if you have any questions . thank you , UUUNKKK UUUNKKK </s>\n",
      "------------------------------------\n",
      "==== b'<15560757.1075845660543.JavaMail.evans@thyme>' ====\n",
      "Predicted label: NORESPONSE. True label: NORESPONSE\n",
      "<s> please email the letter to me before ben signs it . thanks . from : rebecca walker UUUNKKK UUUNKKK am to : UUUNKKK UUUNKKK @ enron cc : kay UUUNKKK @ enron , ben UUUNKKK @ ect subject : UUUNKKK NNNUMMM UUUNKKK rose ben UUUNKKK has asked me to follow up with you on the ge UUUNKKK NNNUMMM UUUNKKK . i have been in contact with ge , asking them to UUUNKKK the UUUNKKK generation UUUNKKK in the names of the appropriate project companies . in order to do this , ge requested that we send them the original UUUNKKK . upon receipt of the UUUNKKK , ge also requested a letter from UUUNKKK generation UUUNKKK the original UUUNKKK . after discussing the matter with catherine clark in global finance , she and lisa bills advised me that the best way to do this was to write a letter from ena as agent for UUUNKKK generation , UUUNKKK the original UUUNKKK . i have UUUNKKK this letter , and i am waiting for ben UUUNKKK to UUUNKKK it before i send it to ge . once ge receives the letter , they will have chase UUUNKKK the UUUNKKK , which will then be sent directly to the new UUUNKKK , UUUNKKK valley power , l.l.c . and ca development i and ii , l.l.c . kay i need the appropriate address , contact name , and phone number for ca development i and ii . ben i left the letter mentioned above on your desk on friday . have you had a chance to look at it ? if not , i can send it to you electronically . feel free to call me at UUUNKKK to discuss . regards , rebecca </s>\n",
      "------------------------------------\n",
      "==== b'<13171487.1075862240929.JavaMail.evans@thyme>' ====\n",
      "Predicted label: NORESPONSE. True label: REPLY\n",
      "<s> in the UUUNKKK of rto week and following up on rick 's successful UUUNKKK , we should be out UUUNKKK on the back end as well . perhaps sarah , meredith and i can come up with some thoughts on message points and send them around for comment . sound ok ? </s>\n",
      "------------------------------------\n",
      "==== b'<10396306.1075862118600.JavaMail.evans@thyme>' ====\n",
      "Predicted label: REPLY. True label: NORESPONSE\n",
      "<s> hi sean , i need a modified confirmation to be prepared asap for UUUNKKK . the terms are : price : $ UUUNKKK per mmbtu term : november UUUNKKK , NNNUMMM delivery point : interconnection between UUUNKKK gas transmission and UUUNKKK gas pipeline ( meter mo . NNNUMMM ) volume : november UUUNKKK , NNNUMMM will be NNNUMMM UUUNKKK november UUUNKKK , NNNUMMM will be NNNUMMM UUUNKKK november UUUNKKK , NNNUMMM will be NNNUMMM UUUNKKK special provisions : ena agrees to purchase the excess volume ( above actual consumption ) on a daily basis at the `` daily midpoint '' price set forth in gas daily platts , a division of the mcgraw-hill companies , in the column `` daily price survey '' under the listing UUUNKKK , large UUUNKKK for the relevant gas day . UUUNKKK agrees to purchase UUUNKKK volumes ( above actual nomination ) on a daily basis at the `` daily midpoint '' price set forth in gas daily platts , a division of the mcgraw-hill companies , in the column `` daily price survey '' under the listing UUUNKKK , large UUUNKKK for the relevant gas day . the contact at UUUNKKK is pat UUUNKKK phone # is UUUNKKK ext . NNNUMMM fax # is UUUNKKK i would like to see this confirmation before it is actually sent to UUUNKKK . thanks for your help . </s>\n",
      "------------------------------------\n",
      "==== b'<20024050.1075851697769.JavaMail.evans@thyme>' ====\n",
      "Predicted label: NORESPONSE. True label: REPLY\n",
      "<s> as tax season rapidly approaches , we are pleased to announce a new UUUNKKK employee service . if you plan to file your personal income taxes UUUNKKK =20 turbotax NNNUMMM ( UUUNKKK 's personal tax filing software ) you will be able to= =20 automatically download your UUUNKKK information into the appropriate UUUNKKK =20 forms directly over the internet for free . =20 enron has chosen to provide this service to help speed the processing UUUNKKK =20 and accuracy of your return while supporting UUUNKKK processing . more information regarding this service is listed below or UUUNKKK UUUNKKK to find out more about the turbotax software and= =20 web-based filing service . employee fact sheet : UUUNKKK UUUNKKK service q . what is the automated tax return ( UUUNKKK ) service ? a. UUUNKKK inc. , makers of the popular UUUNKKK turbotax tax preparation and= =20 filing software , have launched a new automated tax return ( UUUNKKK ) service to= =20 UUUNKKK tax preparation for turbotax users . UUUNKKK allows users of turbotax t= UUUNKKK preparation and filing software to import tax information from UUUNKKK sources such as employers , brokerage houses , and mutual fund UUUNKKK directly into the correct turbotax forms over the internet . since our=20 payroll tax provider , UUUNKKK , has UUUNKKK with UUUNKKK to provide thi= s=20 service , you will be able to electronically download your individual UUUNKKK UUUNKKK UUUNKKK from UUUNKKK directly into turbotax through the internet for free . also= , =20 as part of this program , you can receive a NNNUMMM % discount on all turbotax and= =20 UUUNKKK products including shipping and handling ( go to=20 UUUNKKK for more information ) . q . so how does it work ? a. embedded in each version </s>\n",
      "------------------------------------\n",
      "==== b'<3653950.1075851841115.JavaMail.evans@thyme>' ====\n",
      "Predicted label: NORESPONSE. True label: NORESPONSE\n",
      "<s> may you all be blessed with wonderful things this christmas season . but above all else , remember UUUNKKK is the reason for the season . UUUNKKK wishes you all the best today and everyday . god UUUNKKK you ! ! UUUNKKK silent night http : UUUNKKK what shall i give him ? http : UUUNKKK hundred 's of you have taken advantage of the free download available for the work from home folks . if you have n't checked it out yet ... you should ! ! http : UUUNKKK your UUUNKKK is running ... and you will need UUUNKKK ! ! ! check out the great prices at UUUNKKK ! ! i sure use more UUUNKKK than i like to think about , and these folks keep me UUUNKKK up . they are reliable , honest , and best of all least expensive ! ! check UUUNKKK out http : UUUNKKK < < < > > > < < < > > > < < < > > > < < < > > > < < < > > > < < < > > > < < < > > > < < < > > > < < < > > > < < < > > > * to remove yourself from this mailing list , point your browser to : http : UUUNKKK ? UUUNKKK * enter your email address ( UUUNKKK @ enron.com ) in the field provided and click `` unsubscribe '' . the mailing list id is `` UUUNKKK '' . or ... * reply to this message with the word `` remove '' in the subject line . this message was sent to address UUUNKKK @ enron.com UUUNKKK : UUUNKKK @ enron.com < < < > > </s>\n",
      "------------------------------------\n",
      "==== b'<12783805.1075846051076.JavaMail.evans@thyme>' ====\n",
      "Predicted label: NORESPONSE. True label: NORESPONSE\n",
      "<s> i heard pat UUUNKKK is leaving , and you know bob carter is leaving , right ? </s>\n",
      "------------------------------------\n"
     ]
    }
   ],
   "source": [
    "preds, inputs, lens, outputs, email_ids, attns = model.predict(init_dm=False)\n",
    "print_examples(preds, outputs, inputs, lens, email_ids)"
   ]
  },
  {
   "cell_type": "code",
   "execution_count": 127,
   "metadata": {},
   "outputs": [],
   "source": [
    "short_emails = [tup for tup in zip(preds, inputs, lens, outputs, email_ids, attns) if tup[2] < 20]\n",
    "pred, inp, ln, output, email_id, attn = random.choice(short_emails)"
   ]
  },
  {
   "cell_type": "code",
   "execution_count": 128,
   "metadata": {},
   "outputs": [
    {
     "data": {
      "image/png": "[encoded data removed]",
      "text/plain": [
       "<matplotlib.figure.Figure at 0x7fa5281f47b8>"
      ]
     },
     "metadata": {},
     "output_type": "display_data"
    }
   ],
   "source": [
    "fig, ax = plt.subplots(); width=0.8\n",
    "rects = ax.bar(np.arange(ln), attn[:ln], width=width)\n",
    "words = [id2tok[i] for i in inp[:ln][:, 0]]\n",
    "ax.set_title(\"predicted: {}, actual: {}\".format(LBLS[pred], LBLS[output]))\n",
    "ax.set_ylabel(\"Attention score\")\n",
    "ax.set_xticks(range(ln))\n",
    "_ = ax.set_xticklabels(words, rotation=70)"
   ]
  },
  {
   "cell_type": "code",
   "execution_count": null,
   "metadata": {},
   "outputs": [],
   "source": []
  }
 ],
 "metadata": {
  "kernelspec": {
   "display_name": "Python 3",
   "language": "python",
   "name": "python3"
  },
  "language_info": {
   "codemirror_mode": {
    "name": "ipython",
    "version": 3
   },
   "file_extension": ".py",
   "mimetype": "text/x-python",
   "name": "python",
   "nbconvert_exporter": "python",
   "pygments_lexer": "ipython3",
   "version": "3.5.2"
  }
 },
 "nbformat": 4,
 "nbformat_minor": 2
}
