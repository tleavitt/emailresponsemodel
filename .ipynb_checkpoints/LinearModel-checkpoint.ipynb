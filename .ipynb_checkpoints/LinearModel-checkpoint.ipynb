{
 "cells": [
  {
   "cell_type": "code",
   "execution_count": 77,
   "metadata": {},
   "outputs": [],
   "source": [
    "from data_util import load_embeddings, DMConfig, tfConfig\n",
    "try:\n",
    "    import _pickle as cPickle\n",
    "except ImportError:\n",
    "    import cPickle\n",
    "import gzip\n",
    "import os\n",
    "import numpy as np\n",
    "from defs import LBLS"
   ]
  },
  {
   "cell_type": "code",
   "execution_count": 16,
   "metadata": {},
   "outputs": [
    {
     "name": "stdout",
     "output_type": "stream",
     "text": [
      "The autoreload extension is already loaded. To reload it, use:\n",
      "  %reload_ext autoreload\n"
     ]
    }
   ],
   "source": [
    "%load_ext autoreload\n",
    "%autoreload 2"
   ]
  },
  {
   "cell_type": "code",
   "execution_count": 17,
   "metadata": {},
   "outputs": [],
   "source": [
    "config = DMConfig()\n",
    "if os.path.exists(config.tok2id_path):\n",
    "    with gzip.open(os.path.abspath(config.tok2id_path)) as f:\n",
    "        tok2id = cPickle.load(f)\n",
    "if os.path.exists(config.id2tok_path):\n",
    "    with gzip.open(os.path.abspath(config.id2tok_path)) as f:\n",
    "        id2tok = cPickle.load(f)"
   ]
  },
  {
   "cell_type": "code",
   "execution_count": 18,
   "metadata": {},
   "outputs": [
    {
     "name": "stderr",
     "output_type": "stream",
     "text": [
      "INFO:Initialized embeddings.\n"
     ]
    }
   ],
   "source": [
    "embeddings = load_embeddings(config, tok2id)"
   ]
  },
  {
   "cell_type": "code",
   "execution_count": 19,
   "metadata": {},
   "outputs": [
    {
     "data": {
      "text/plain": [
       "(10008, 50)"
      ]
     },
     "execution_count": 19,
     "metadata": {},
     "output_type": "execute_result"
    }
   ],
   "source": [
    "embeddings.shape"
   ]
  },
  {
   "cell_type": "markdown",
   "metadata": {},
   "source": [
    "## Training"
   ]
  },
  {
   "cell_type": "code",
   "execution_count": 20,
   "metadata": {},
   "outputs": [],
   "source": [
    "from tf_linear_classifier import TfLinearClassifier\n",
    "from defs import PROJECT_DIR"
   ]
  },
  {
   "cell_type": "code",
   "execution_count": 21,
   "metadata": {},
   "outputs": [
    {
     "name": "stderr",
     "output_type": "stream",
     "text": [
      "INFO:Initializing data manager...\n",
      "INFO:took 0 s\n",
      "INFO:Building model...\n",
      "INFO:took 0 s\n"
     ]
    },
    {
     "name": "stdout",
     "output_type": "stream",
     "text": [
      "INFO:tensorflow:Restoring parameters from /Users/tuckerleavitt/Documents/CS224U/project/checkpoints/linear_model/linear-model-3550\n"
     ]
    },
    {
     "name": "stderr",
     "output_type": "stream",
     "text": [
      "INFO:Restoring parameters from /Users/tuckerleavitt/Documents/CS224U/project/checkpoints/linear_model/linear-model-3550\n",
      "INFO:-- Restored model\n"
     ]
    },
    {
     "data": {
      "text/plain": [
       "<tf_linear_classifier.TfLinearClassifier at 0x11cf19da0>"
      ]
     },
     "execution_count": 21,
     "metadata": {},
     "output_type": "execute_result"
    }
   ],
   "source": [
    "model = TfLinearClassifier(embedding=embeddings, \n",
    "                           ckpts_prefix='{}/checkpoints/linear_model/linear-model'.format(PROJECT_DIR)\n",
    "                          )\n",
    "model.fit(tfConfig, restore_weights=True, batches_to_eval=50, max_iter=0)"
   ]
  },
  {
   "cell_type": "markdown",
   "metadata": {},
   "source": [
    "## Evaluation"
   ]
  },
  {
   "cell_type": "code",
   "execution_count": 85,
   "metadata": {},
   "outputs": [],
   "source": [
    "def print_example(pred, label, feats, length):\n",
    "    ids_ = feats[:length][:, 0]\n",
    "    print(\"====================================\")\n",
    "    print(\"Predicted label: {}. True label: {}\".format(LBLS[pred], LBLS[label]))\n",
    "    print( \" \".join((id2tok[i] for i in ids_)) )\n",
    "    print(\"------------------------------------\")\n",
    "\n",
    "    \n",
    "\n",
    "def print_examples(preds, outputs, inputs, lens):\n",
    "    for p, o, i, l in zip(preds, outputs, inputs, lens):\n",
    "        print_example(p, o, i, l)"
   ]
  },
  {
   "cell_type": "code",
   "execution_count": 90,
   "metadata": {},
   "outputs": [
    {
     "name": "stdout",
     "output_type": "stream",
     "text": [
      "Predicted 31 of 32 examples correctly (accuracy: 0.969)\n"
     ]
    }
   ],
   "source": [
    "preds, inputs, lens, outputs, email_ids = model.predict()\n",
    "correct = preds == outputs\n",
    "print(\"Predicted {} of {} examples correctly (accuracy: {:.3f})\".format(np.sum(correct), correct.shape[0], np.mean(correct)))"
   ]
  },
  {
   "cell_type": "code",
   "execution_count": 91,
   "metadata": {},
   "outputs": [
    {
     "name": "stdout",
     "output_type": "stream",
     "text": [
      "====================================\n",
      "Predicted label: REPLY. True label: REPLY\n",
      "<s> i have little that steve does not probably know by heart . but a few comments to steve 's point on siting new power plants . i assume `` senate energy committee '' is the federal senate , not the state senate . i have UUUNKKK my suggestions to things the feds can or should do . : the UUUNKKK : the continuing lack of leadership by the governor is causing serious concern for anyone looking for a stable environment in which to make the $ billions in investments required for new power plants . the UUUNKKK search for blame placing ( of exactly the guys that would make the investment ) , the lawsuits , the UUUNKKK , outright UUUNKKK of what happened and is happening , the threats of UUUNKKK , etc . are doing a good job of making the public very UUUNKKK and effectively UUUNKKK the '' market '' that resulted in the largest UUUNKKK of investment in power plants in the state 's history . to the point , the debt lenders are getting nervous ; the equity UUUNKKK are getting nervous . ( duke : `` i would have less third world risk developing a plant in brazil ... '' ) if the final result of all of this is a public power agency that basically controls the grid and the buying and selling of power , the UUUNKKK might UUUNKKK that we will have traded the accusations of greed of the present environment for a UUUNKKK to the old environment of UUUNKKK and UUUNKKK rate bases . in my opinion , there is no way that the governor 's present political initiatives will result in the number of power plants that are necessary to cover the demand . he may be </s>\n",
      "------------------------------------\n",
      "====================================\n",
      "Predicted label: NORESPONSE. True label: NORESPONSE\n",
      "<s> peoplefinder < peoplefinder @ enron.com > UUUNKKK UUUNKKK pm please respond to peoplefinder to : UUUNKKK @ UUUNKKK cc : subject : peoplefinder change confirmation # UUUNKKK this is a change ticket from the peoplefinder . the peoplefinder received these changes to your information from the change request page on UUUNKKK : change confirmation email preference to `` UUUNKKK '' change lotus notes to `` taylor , mark a '' change confirm external changes to `` yes '' if you want these changes made to your information , simply reply to this message . ( do n't change the subject line . ) if you do n't want these changes , throw this message away . we 're sorry , but cc : mail is not supported at this time . if you are reading this in cc : mail , your reply will not reach the peoplefinder . please set your confirmation email preference on the change page to internet until you have lotus notes installed on your pc . </s>\n",
      "------------------------------------\n",
      "====================================\n",
      "Predicted label: NORESPONSE. True label: NORESPONSE\n",
      "<s> hello folks : we know that you are UUUNKKK anticipating monday 's `` prc experience '' . enclosed is the latest and the greatest agenda and partnership list . you will note that the meeting does start at 7:30 in the morning -- UUUNKKK . our goal is to enable everyone to be UUUNKKK their turkey by 3:00 that afternoon . if you have any questions , please contact myself or kim UUUNKKK . we looking forward to seeing you there . regards , gerry UUUNKKK </s>\n",
      "------------------------------------\n",
      "====================================\n",
      "Predicted label: REPLY. True label: REPLY\n",
      "<s> as i mentioned in my UUUNKKK , this needs to go somewhere that users might actually see it - e.g . a news ticker story . simply adding it to the legal & privacy statement , while helpful , is not sufficient . enrononline is conducting a pilot program involving direct access connections ( such as a `` UUUNKKK '' line or other means of direct access ) to enrononline , as an alternative to internet access . direct access connections might enable users to access enrononline more quickly than is currently possible through internet access . </s>\n",
      "------------------------------------\n",
      "====================================\n",
      "Predicted label: NORESPONSE. True label: NORESPONSE\n",
      "<s> here is a set of disclaimers for your website . have you looked into getting the name UUUNKKK ? if not , let me know and i can try and move that along from here . </s>\n",
      "------------------------------------\n",
      "====================================\n",
      "Predicted label: NORESPONSE. True label: NORESPONSE\n",
      "<s> thanks for the update . i want to make sure we present the numbers in a mor= e=20 UUUNKKK fashion than just laying out the individual UUUNKKK . you and i have= =20 discussed this before ; my UUUNKKK is that we were going to break out a= s=20 follows : administrative services aviation building services new building ongoing government affairs americas UUUNKKK other budgets retained at business unit level ( explanation of shift in expenses from advocacy to transaction UUUNKKK =20 management UUUNKKK brand advertising internal comm other pr i may be UUUNKKK some of the UUUNKKK we talked about , but this is the= =20 general idea . UUUNKKK linnell UUUNKKK by : elizabeth linnell UUUNKKK 11:00 am UUUNKKK =09=09 to : steven j kean/na/enron @ enron =09=09 cc : =20 =09=09 subject : meeting with mark lindsay i wanted to update you on my conversation this morning with mark UUUNKKK regarding next UUUNKKK , s budget meeting . the format will be similar to last UUUNKKK , s . we=01 , ll be receiving from m= UUUNKKK , s=20 group a consolidated spreadsheet of all of our budgets , UUUNKKK them by=20 functionality and UUUNKKK NNNUMMM plan , NNNUMMM estimate , and NNNUMMM plan , and= =20 the variances between . we will be covering the UUUNKKK and aviation UUUNKKK =20 during the same meeting . UUUNKKK and i will get together on friday to compa= re=20 what the two of us have so far , and then we have a meeting set up for UUUNKKK y=20 morning with you , bill , UUUNKKK and me to go over everything in advance of= =20 UUUNKKK , s meeting . points that mark made ( no surprises here ) : - jeff has mentioned that he </s>\n",
      "------------------------------------\n",
      "====================================\n",
      "Predicted label: NORESPONSE. True label: NORESPONSE\n",
      "<s> it is obviously a very high priority to ensure that UUUNKKK do not make the agency presentation covering enrononline available on their website . UUUNKKK : can you please try to identify the appropriate UUUNKKK contact as a matter of priority this morning ? UUUNKKK : please advise as to how strong we can be in warning UUUNKKK not to publish the information on their website . thanks , dave from : kevin UUUNKKK UUUNKKK UUUNKKK am to : richard b sanders/hou/ect @ ect , david forster/lon/ect @ ect , jay UUUNKKK @ ect , philippe a UUUNKKK @ ect , mark taylor/hou/ect @ ect , louise kitchen/lon/ect @ ect cc : subject : agency.com presentation at UUUNKKK users conference here is the information regarding the presentation done by agency.com . the UUUNKKK users conference is being held in san francisco , ca UUUNKKK . the conference has over 2,000 registered users representing many types of companies . about the session and presentation on wednesday , february NNNUMMM at 11:00 an hour long session was to open to any registered conference UUUNKKK . around NNNUMMM ( very rough guess ) people attended the session . the session was UUUNKKK by scott UUUNKKK , UUUNKKK UUUNKKK server division and was described as UUUNKKK e-commerce solutions : using best of UUUNKKK technologies ' . the session included NNNUMMM panel members from UUUNKKK commerce ( an UUUNKKK ) , idea integration ( an UUUNKKK ) , UUUNKKK ( an UUUNKKK ) and agency.com . each of the NNNUMMM panel members gave a NNNUMMM minute presentation then the session was turned over for general questions and answers . joe UUUNKKK of agency.com went last and spoke about the web development marketplace : where it was and where it needed to head . </s>\n",
      "------------------------------------\n",
      "====================================\n",
      "Predicted label: NORESPONSE. True label: NORESPONSE\n",
      "<s> brent had to order doors for his home this morning and will be late getting in . ( the `` door store '' is only open during work hours . ) </s>\n",
      "------------------------------------\n",
      "====================================\n",
      "Predicted label: REPLY. True label: REPLY\n",
      "<s> looks fine - we need to get authorisation now . m dale neuner on UUUNKKK UUUNKKK pm to : david forster/lon/ect @ ect , marcello UUUNKKK @ ect cc : UUUNKKK UUUNKKK @ ect subject : proposed new index index : gas daily waha UUUNKKK : waha sort code : NNNUMMM the index for a calendar day shall be the average of the daily midpoint prices published for such calendar day under the heading `` daily price survey '' in the UUUNKKK basin area : UUUNKKK UUUNKKK , waha area section of gas daily , or if a calendar day is not a business day then the price for such calendar day will be the [ average of the common high and common low ] daily midpoint price published on the next UUUNKKK business day . should the word `` area '' after `` waha '' be UUUNKKK ? it 's not UUUNKKK in the gas daily publication - so to consistent with the publication i did not capitalize . on some gas daily products we are switching to the gas daily posted average - is this one of those ? bob bowen has been looking into this also . see above . </s>\n",
      "------------------------------------\n",
      "====================================\n",
      "Predicted label: REPLY. True label: REPLY\n",
      "<s> the following expense report is ready for approval : employee name : james steffes status last changed by : automated administrator expense report name : UUUNKKK report total : $ UUUNKKK amount due employee : $ UUUNKKK to approve this expense report , click on the following link for concur expense . http : //nahou-wwxms01p </s>\n",
      "------------------------------------\n",
      "====================================\n",
      "Predicted label: REPLY. True label: REPLY\n",
      "<s> sally , this includes most of the suggestions andy made ( all the UUUNKKK related ones , at least ) . the only one i have not made relates to our discussion about adding a slide that outlines the history behind the operations pricing desk and the various factors considered in building it . please let me know if you 're busy and want me to UUUNKKK the information from the slides you have UUUNKKK . lets talk about it in more detail tomorrow . if you need me at anytime , please feel free to contact me on my cell phone at UUUNKKK regards , rahil UUUNKKK </s>\n",
      "------------------------------------\n",
      "====================================\n",
      "Predicted label: REPLY. True label: REPLY\n",
      "<s> i received a call from paul UUUNKKK ( UUUNKKK ) with engage energy . he stated that he would like to discuss legal aspects of the password application and possible modifications of that form . could you please contact this individual . thanks , matt motsinger UUUNKKK enrononline call center </s>\n",
      "------------------------------------\n",
      "====================================\n",
      "Predicted label: REPLY. True label: REPLY\n",
      "<s> rosalee , i attach a draft list of meetings for mr lay for the UUUNKKK and NNNUMMM november . the purpose of sending you the list now is to give you a general idea as to the type of meetings we are considering . i also attach a brief background note on each meeting . i will be sending you a full briefing pack for mr lay prior to the visit . in the interim please let me know if you have any questions in relation to the attached . a couple of UUUNKKK questions : i understand that mr lay has an UUUNKKK to shell fish . is that restricted to UUUNKKK or does it extend to UUUNKKK - ie do we need to eliminate UUUNKKK from the UUUNKKK . in addition , we propose including UUUNKKK in the UUUNKKK . same question - would this pose a problem for mr lay ? what standard of hotel accommodation would be appropriate for mr lay . we have reserved a range of rooms for enron people at the hotel UUUNKKK ( part of the leading hotels of the world group ) , venue for the office opening and press conference . i look forward to hearing from you . kind regards </s>\n",
      "------------------------------------\n",
      "====================================\n",
      "Predicted label: NORESPONSE. True label: NORESPONSE\n",
      "<s> please ensure andy zipper is kept up to speed on this as andy is in charge of enrononline . i will not be able to review this until my return on jan 8th . louise from : andrew edison @ enron on UUUNKKK UUUNKKK am to : mark taylor/hou/ect @ ect , louise kitchen/hou/ect @ ect cc : subject : UUUNKKK inc. dispute attached is a draft letter i have prepared to send to UUUNKKK inc. 's general counsel . it responds to UUUNKKK inc. 's recent inquiries concerning enrononline 's policies and procedures when one party claims a trade has been made in error . i have intentionally made it as short and sweet as possible . let me know your thoughts . i would like to get the letter out the door by the end of the day , if possible . thanks . </s>\n",
      "------------------------------------\n",
      "====================================\n",
      "Predicted label: NORESPONSE. True label: NORESPONSE\n",
      "<s> if you read ray alvarez 's summary from yesterday evening , open the UUUNKKK =20 word document and read only the changes that we made to the summary since= =20 receiving the final order , which was issued this afternoon . alan comnes the full order is available at : http : UUUNKKK tm summary of UUUNKKK , s order establishing prospective mitigation and monitoring plan for the=20 california wholesale electric markets and establishing an investigation of= =20 public utility rates in wholesale western energy markets ( issued april NNNUMMM , NNNUMMM ) effective date -- price mitigation is effective may NNNUMMM , NNNUMMM . ( iso needs t= o=20 have its day-ahead proxy price ready on UUUNKKK ) physical withholding -- to prevent physical withholding , the plan will=20 require sellers with UUUNKKK 's to offer all their available power in real time = to=20 the extent not scheduled in bilateral trade . all california generators , UUUNKKK en=20 those not subject to ferc price regulation , will be required to sell into t= he=20 iso 's real time market as a condition of their use of the iso 's UUUNKKK =20 transmission lines . hydroelectric facilities will be exempted . ( this=20 requirement to provide power is for all hours ( UUUNKKK ) for UUUNKKK ) =20 price mitigation - the plan will establish a single market clearing price= =20 auction for the real time market . during stage NNNUMMM , NNNUMMM and NNNUMMM emergencies in t= he=20 iso 's real time market , each generator ( other than hydro ) with a=20 participating generator agreement is required to offer all available power= =20 and bid its marginal cost based on the generator 's heat curve , UUUNKKK rates , gas costs and emission costs , </s>\n",
      "------------------------------------\n",
      "====================================\n",
      "Predicted label: REPLY. True label: REPLY\n",
      "<s> UUUNKKK = http : UUUNKKK ? UUUNKKK UUUNKKK = UUUNKKK @ UUUNKKK submit = submit other = on from = UUUNKKK @ UUUNKKK subject = contact enron to = help @ UUUNKKK host = UUUNKKK = UUUNKKK = ( NNNUMMM ) UUUNKKK UUUNKKK = duke energy ( UUUNKKK ) comments = i would like to see , in writing , the penalties associated with failure by enron or the parties doing business on eol for particular gas trading points . i have heard verbally from the calgary office what they consider the penalties to be , however , i have n't seen anything in writing . i assume that unless parties have agreed to these stated UUUNKKK , the penalties would then fall under existing trade agreements . is this correct , and is enron working on specific penalty provisions for eol deals ? UUUNKKK = jim UUUNKKK UUUNKKK = on </s>\n",
      "------------------------------------\n",
      "====================================\n",
      "Predicted label: NORESPONSE. True label: NORESPONSE\n",
      "<s> please find attached a list of the contact information for the business and legal people who will be working on completing the transaction between enron and UUUNKKK . from UUUNKKK , i will be helping to coordinate our legal and due diligence efforts . please feel free to contact me if you have any questions or other issues related to the transaction . shortly , we will also be sending enron a due diligence request list related to enron 's technology and current UUUNKKK system . looking forward to working together to close this exciting transaction . UUUNKKK < < UUUNKKK distribution list UUUNKKK > > - UUUNKKK distribution list UUUNKKK </s>\n",
      "------------------------------------\n",
      "====================================\n",
      "Predicted label: NORESPONSE. True label: NORESPONSE\n",
      "<s> southern company spp </s>\n",
      "------------------------------------\n",
      "====================================\n",
      "Predicted label: NORESPONSE. True label: NORESPONSE\n",
      "<s> steve : ( NNNUMMM ) this is carlos ' email address : UUUNKKK @ UUUNKKK . ( NNNUMMM ) his resume has been circulated to mark schroeder and diane UUUNKKK , to date . ( NNNUMMM ) attached is his resume for your review . lora to : diane UUUNKKK @ azurix cc : joe hillings/corp/enron @ enron subject : resume of carlos UUUNKKK - enron UUUNKKK - resume UUUNKKK </s>\n",
      "------------------------------------\n",
      "====================================\n",
      "Predicted label: REPLY. True label: REPLY\n",
      "<s> our dpr shows a $ UUUNKKK million loss in other for the day . can we add notes onto this report so we can see what is happening here - i am not sure what this is . thanks ! john </s>\n",
      "------------------------------------\n",
      "====================================\n",
      "Predicted label: REPLY. True label: REPLY\n",
      "<s> < < UUUNKKK UUUNKKK > > - UUUNKKK UUUNKKK </s>\n",
      "------------------------------------\n",
      "====================================\n",
      "Predicted label: NORESPONSE. True label: NORESPONSE\n",
      "<s> attached is the latest version of the help guide . this is in good shape with most people having reviewed and commented on it a few times . only some sections may change very slightly due to UUUNKKK of screens from the application for those sections . awais </s>\n",
      "------------------------------------\n",
      "====================================\n",
      "Predicted label: NORESPONSE. True label: NORESPONSE\n",
      "<s> justin : i agree with the comments of both alan and mark regarding this issue . in particular , it would seem to be important to act on mark 's comments regarding the impact of the fcm status of enron trade services , inc. jeff justin boyd UUUNKKK UUUNKKK am to : alan aronowitz/hou/ect @ ect , jeffrey t hodge/hou/ect @ ect , mark taylor/hou/ect @ ect cc : janine juggins/lon/ect @ ect subject : enron metals gentlemen , i met with craig young ( mg us ) last week , who is keen to progress metals business with large us corporates ( e.g . UUUNKKK UUUNKKK ) , on the following basis : o assume ena and us corporate are existing parties to UUUNKKK support documents ( the `` master '' ) . o ena and us corporate would agree to expand range of otc products to include otc metal derivatives under the master . the principals to the metals trades would therefore be the us corporate and ena . these trades would however be '' arranged '' by mg london inc. ( an fcm ) as `` UUUNKKK '' in the us for ena . o enron metals limited ( eml ) from london would agree to provide metals prices to ena and/or mg london inc. in the us , and in return receive a commission from mg london inc. o ena would UUUNKKK otc metals derivatives with eml via an UUUNKKK isda master . look forward to your views . thanks . justin </s>\n",
      "------------------------------------\n",
      "====================================\n",
      "Predicted label: NORESPONSE. True label: NORESPONSE\n",
      "<s> congratulations - well done ! ! ! </s>\n",
      "------------------------------------\n",
      "====================================\n",
      "Predicted label: NORESPONSE. True label: NORESPONSE\n",
      "<s> dear derivatives week subscriber : catch the latest breaking news in this week 's issue by clicking here : http : UUUNKKK UUUNKKK UUUNKKK series UUUNKKK top UUUNKKK award . derivatives week 's coverage of the development of the telecom derivatives market has been recognized in a first place award by the national press club in washington , d.c. a series of articles , written by former staffer UUUNKKK UUUNKKK , were UUUNKKK to be the best analytical stories in the NNNUMMM newsletter UUUNKKK category . UUUNKKK top stories this week : UUUNKKK u.s. group does first weather trades louis UUUNKKK group has launched a weather derivatives trading desk , and recently closed its first trades . it 's looking to sell products to customers and to a lesser extent , make markets . indian oil co. planning to UUUNKKK into swaps market UUUNKKK petroleum corp. is planning to enter the interest rate derivatives market to swap fixed rate loans into floating to take advantage of an expected fall in interest rates . UUUNKKK eyes credit derivatives a massive utility based in spain is considering using credit derivatives to hedge latin american exposure . one idea it is considering is buying protection on a UUUNKKK of names . UUUNKKK use your user id and password to access the entire site . your user name and password are for your personal use only . they may not be shared with anyone and no one else should access the site with your user name and password . we welcome you to forward this email to any UUUNKKK or colleagues who would be interested in receiving a free trial subscription to derivatives week at http : UUUNKKK ? UUUNKKK if you have questions , comments or suggestions , please do not </s>\n",
      "------------------------------------\n",
      "====================================\n",
      "Predicted label: NORESPONSE. True label: NORESPONSE\n",
      "<s> according to our system records , you have not yet logged into the enron performance management system ( pep ) . as a result your temporary password for the pep system has UUUNKKK . your user id and new password are provided below . during the feedback phase you will need to access pep at http : UUUNKKK to suggest reviewers who can provide feedback on your performance . you may also be requested to provide feedback on fellow employees , but the system will only be open for feedback until november 17th ! UUUNKKK representatives will be available to answer questions throughout the process . you may contact the UUUNKKK at : houston : UUUNKKK , option NNNUMMM london : UUUNKKK , option NNNUMMM e-mail : UUUNKKK @ enron.com your user id and new pep password are : user id : NNNUMMM password : UUUNKKK </s>\n",
      "------------------------------------\n",
      "====================================\n",
      "Predicted label: NORESPONSE. True label: NORESPONSE\n",
      "<s> jane , thanks for the extremely well put together `` talking points '' for tom briggs . UUUNKKK jane wilson UUUNKKK UUUNKKK pm to : tom briggs @ ect , john UUUNKKK @ enron_development cc : UUUNKKK UUUNKKK @ enron_development , k UUUNKKK @ enron_development , amr UUUNKKK @ enron_development , UUUNKKK UUUNKKK @ enron_development , wade UUUNKKK @ enron_development , UUUNKKK UUUNKKK @ enron_development , jimmy UUUNKKK @ enron_development , UUUNKKK UUUNKKK @ enron_development , UUUNKKK UUUNKKK @ enron_development , UUUNKKK UUUNKKK @ enron_development , UUUNKKK UUUNKKK @ enron_development , paul UUUNKKK @ enron_development , UUUNKKK UUUNKKK @ enron_development , neil UUUNKKK @ enron_development , steven j kean/na/enron @ enron , mark palmer @ enron , john ambler/enron_development @ enron_development , robert UUUNKKK @ enron_development subject : talking points on dpc attached please find the talking points on dpc to support your efforts in washington , d.c . </s>\n",
      "------------------------------------\n",
      "====================================\n",
      "Predicted label: NORESPONSE. True label: REPLY\n",
      "<s> per your request . </s>\n",
      "------------------------------------\n",
      "====================================\n",
      "Predicted label: NORESPONSE. True label: NORESPONSE\n",
      "<s> in order to improve efficiency and UUUNKKK of duties within international global products , a new coordination team is being created in london to take on the control functions currently performed within the logistics team . this will allow the commercial logistics team to concentrate on improving the bottom line results by negotiations and arrangements with outside parties . the commercial logistics team ( europe ) headed by graham UUUNKKK will now report to chris mahoney . the coordination function has been set up by cindy horn , who will be UUUNKKK over the leadership to becky UUUNKKK on following the implementation of sap for global products . this team will handle all paperwork and UUUNKKK with regard to product movements of global products generated by the london and helsinki offices , and the further processing of this information to the systems and users downstream . the coordination function for houston and panama city will be headed by michelle bruce , with the logistics team headed by john harrison now reporting directly to john UUUNKKK . michelle will build her team during the third quarter . a similar UUUNKKK of roles in the far eastern offices will be announced in due course . please join us in congratulating graham and becky , michelle and john on their new responsibilities , and in UUUNKKK cindy for her hard work in making this happen . tani UUUNKKK & john UUUNKKK </s>\n",
      "------------------------------------\n",
      "====================================\n",
      "Predicted label: NORESPONSE. True label: NORESPONSE\n",
      "<s> dear ut team , good news and bad ... . i just received notice that UUUNKKK UUUNKKK will be declining our offer . although we offered more money , he has chosen to accept with UUUNKKK marcus in dallas . however , ali UUUNKKK will be accepting our offer ! he is expected to start once his practical training authorization becomes effective in february . please call and congratulate him ( UUUNKKK or UUUNKKK @ UUUNKKK ) . he will be out of the country tomorrow through january NNNUMMM . happy holidays ! lexi 3-4585 </s>\n",
      "------------------------------------\n",
      "====================================\n",
      "Predicted label: NORESPONSE. True label: NORESPONSE\n",
      "<s> attached is a draft of the enron in-house legal opinion in connection with the put option with project UUUNKKK . UUUNKKK l. curry vinson & elkins l.l.p . NNNUMMM first city tower NNNUMMM UUUNKKK street houston , texas UUUNKKK phone : UUUNKKK fax : UUUNKKK ( licensed in new york only ) +++++++++++++++++++++++ confidentiality notice +++++++++++++++++++++++ the information in this email may be confidential and/or privileged . this email is intended to be reviewed by only the individual or organization named above . if you are not the intended recipient or an authorized representative of the intended recipient , you are hereby notified that any review , dissemination or copying of this email and its attachments , if any , or the information contained herein is prohibited . if you have received this email in error , please immediately notify the sender by return email and delete this email from your system . thank you privileged and confidential : contains attorney-client communications and/or attorney work product . < < enron opinion for UUUNKKK put UUUNKKK > > - enron opinion for UUUNKKK put UUUNKKK </s>\n",
      "------------------------------------\n",
      "====================================\n",
      "Predicted label: NORESPONSE. True label: NORESPONSE\n",
      "<s> i suspect that you meant to include bob hall , the vp that reports to me , on this mailing list . his assistant ( heather choate ) is included in your mailing list . the `` robert l hall at et & s '' to whom this is addressed is not bob hall in networks who reports to me . you should address this to `` bob hall '' - if you do this the e : mail address should pop us as bob m hall/na/enron . thanks . -- sally from : lisa UUUNKKK @ enronxgate on 03/07/2001 UUUNKKK pm to : philippe a UUUNKKK @ enronxgate , greg UUUNKKK @ enronxgate , robert w UUUNKKK @ enronxgate , beth UUUNKKK @ enronxgate , robert l UUUNKKK & s/enron @ enron , jenny UUUNKKK @ enronxgate , david forster/corp/enron @ enron , john UUUNKKK @ enronxgate , dan UUUNKKK @ enronxgate , beth UUUNKKK @ enronxgate , jay UUUNKKK @ enronxgate , bill w UUUNKKK @ enronxgate , dave UUUNKKK @ enronxgate , mark s UUUNKKK @ enronxgate , andy UUUNKKK @ enronxgate , thomas d UUUNKKK @ enronxgate , sally beck/hou/ect @ ect , david UUUNKKK @ enronxgate , UUUNKKK UUUNKKK @ enronxgate , jay UUUNKKK @ ect , peggy UUUNKKK @ enronxgate , tina UUUNKKK @ enronxgate , lisa UUUNKKK @ enronxgate , UUUNKKK UUUNKKK @ enronxgate , heather UUUNKKK @ ect , susan UUUNKKK @ enronxgate , ali de UUUNKKK @ enronxgate , UUUNKKK UUUNKKK @ ect , UUUNKKK UUUNKKK @ enronxgate , sheri l UUUNKKK @ enronxgate , mary UUUNKKK @ enronxgate , UUUNKKK UUUNKKK @ enronxgate , rosie UUUNKKK @ enronxgate , UUUNKKK UUUNKKK @ enronxgate , brenda UUUNKKK @ enronxgate , patti thompson/hou/ect @ ect , UUUNKKK UUUNKKK @ enronxgate </s>\n",
      "------------------------------------\n"
     ]
    }
   ],
   "source": [
    "print_examples(preds, outputs, inputs, lens, email_ids)"
   ]
  },
  {
   "cell_type": "code",
   "execution_count": null,
   "metadata": {},
   "outputs": [],
   "source": []
  }
 ],
 "metadata": {
  "kernelspec": {
   "display_name": "Python 3",
   "language": "python",
   "name": "python3"
  },
  "language_info": {
   "codemirror_mode": {
    "name": "ipython",
    "version": 3
   },
   "file_extension": ".py",
   "mimetype": "text/x-python",
   "name": "python",
   "nbconvert_exporter": "python",
   "pygments_lexer": "ipython3",
   "version": "3.6.3"
  }
 },
 "nbformat": 4,
 "nbformat_minor": 2
}
