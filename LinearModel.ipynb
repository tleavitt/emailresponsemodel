{
 "cells": [
  {
   "cell_type": "code",
   "execution_count": 1,
   "metadata": {},
   "outputs": [],
   "source": [
    "from data_util import load_embeddings, DMConfig, tfConfig\n",
    "try:\n",
    "    import _pickle as cPickle\n",
    "except ImportError:\n",
    "    import cPickle\n",
    "import gzip\n",
    "import os\n",
    "import numpy as np\n",
    "from sklearn import metrics\n",
    "from defs import LBLS"
   ]
  },
  {
   "cell_type": "code",
   "execution_count": 2,
   "metadata": {},
   "outputs": [],
   "source": [
    "%load_ext autoreload\n",
    "%autoreload 2"
   ]
  },
  {
   "cell_type": "code",
   "execution_count": 3,
   "metadata": {},
   "outputs": [],
   "source": [
    "config = DMConfig()\n",
    "if os.path.exists(config.tok2id_path):\n",
    "    with gzip.open(os.path.abspath(config.tok2id_path)) as f:\n",
    "        tok2id = cPickle.load(f)\n",
    "if os.path.exists(config.id2tok_path):\n",
    "    with gzip.open(os.path.abspath(config.id2tok_path)) as f:\n",
    "        id2tok = cPickle.load(f)"
   ]
  },
  {
   "cell_type": "code",
   "execution_count": 4,
   "metadata": {},
   "outputs": [
    {
     "name": "stderr",
     "output_type": "stream",
     "text": [
      "INFO:Initialized embeddings.\n"
     ]
    }
   ],
   "source": [
    "embeddings = load_embeddings(config, tok2id)"
   ]
  },
  {
   "cell_type": "markdown",
   "metadata": {},
   "source": [
    "## Training"
   ]
  },
  {
   "cell_type": "code",
   "execution_count": 5,
   "metadata": {},
   "outputs": [],
   "source": [
    "from tf_linear_classifier import TfLinearClassifier\n",
    "from defs import PROJECT_DIR"
   ]
  },
  {
   "cell_type": "code",
   "execution_count": 6,
   "metadata": {},
   "outputs": [
    {
     "name": "stderr",
     "output_type": "stream",
     "text": [
      "INFO:Initializing data manager...\n",
      "INFO:took 0 s\n",
      "INFO:Building model...\n"
     ]
    },
    {
     "name": "stdout",
     "output_type": "stream",
     "text": [
      "WARNING:tensorflow:From /home/tuckerleavitt/env/lib/python3.5/site-packages/tensorflow/contrib/learn/python/learn/datasets/base.py:198: retry (from tensorflow.contrib.learn.python.learn.datasets.base) is deprecated and will be removed in a future version.\n",
      "Instructions for updating:\n",
      "Use the retry module or similar alternatives.\n"
     ]
    },
    {
     "name": "stderr",
     "output_type": "stream",
     "text": [
      "WARNING:From /home/tuckerleavitt/env/lib/python3.5/site-packages/tensorflow/contrib/learn/python/learn/datasets/base.py:198: retry (from tensorflow.contrib.learn.python.learn.datasets.base) is deprecated and will be removed in a future version.\n",
      "Instructions for updating:\n",
      "Use the retry module or similar alternatives.\n",
      "INFO:took 7 s\n"
     ]
    },
    {
     "name": "stdout",
     "output_type": "stream",
     "text": [
      "INFO:tensorflow:Restoring parameters from /home/tuckerleavitt/checkpoints/linear_model/linear-model-10000\n"
     ]
    },
    {
     "name": "stderr",
     "output_type": "stream",
     "text": [
      "INFO:Restoring parameters from /home/tuckerleavitt/checkpoints/linear_model/linear-model-10000\n",
      "INFO:-- Restored model\n"
     ]
    },
    {
     "data": {
      "text/plain": [
       "<tf_linear_classifier.TfLinearClassifier at 0x7f3c22e83b70>"
      ]
     },
     "execution_count": 6,
     "metadata": {},
     "output_type": "execute_result"
    }
   ],
   "source": [
    "model = TfLinearClassifier(embedding=embeddings, \n",
    "                           ckpts_prefix='{}/checkpoints/linear_model/linear-model'.format(PROJECT_DIR),\n",
    "                           summaries_dir='{}/summaries/'.format(PROJECT_DIR)\n",
    "                          )\n",
    "model.fit(tfConfig, restore_weights=True, batches_to_eval=100, max_iter=0)"
   ]
  },
  {
   "cell_type": "markdown",
   "metadata": {},
   "source": [
    "## Evaluation"
   ]
  },
  {
   "cell_type": "code",
   "execution_count": 7,
   "metadata": {},
   "outputs": [],
   "source": [
    "def print_example(pred, label, feats, length, email_id):\n",
    "    ids_ = feats[:length][:, 0]\n",
    "    print(\"==== {} ====\".format(email_id))\n",
    "    print(\"Predicted label: {}. True label: {}\".format(LBLS[pred], LBLS[label]))\n",
    "    print( \" \".join((id2tok[i] for i in ids_)) )\n",
    "    print(\"------------------------------------\")\n",
    "\n",
    "\n",
    "def print_examples(preds, outputs, inputs, lens, email_ids):\n",
    "    for p, o, i, l, d in zip(preds, outputs, inputs, lens, email_ids):\n",
    "        print_example(p, o, i, l, d)"
   ]
  },
  {
   "cell_type": "code",
   "execution_count": 9,
   "metadata": {},
   "outputs": [
    {
     "name": "stderr",
     "output_type": "stream",
     "text": [
      "INFO:Ran 100 batches\n"
     ]
    },
    {
     "name": "stdout",
     "output_type": "stream",
     "text": [
      " Predicted 2186 of 3200 examples correctly\n",
      " Precision: 0.535, Recall: 0.428, F1: 0.476\n"
     ]
    }
   ],
   "source": [
    "outputs, preds, word_ids, email_ids = model.evaluate_tfdata(model.sess, dataset_name='test', batch_lim=100, writer=None)\n",
    "\n",
    "preds = np.asarray(preds); outputs = np.array(outputs)    \n",
    "correct = preds == outputs\n",
    "prec, rec, f1, _ = metrics.precision_recall_fscore_support(outputs, preds, average='binary')\n",
    "\n",
    "print(\" Predicted {} of {} examples correctly\".format(np.sum(correct), correct.shape[0]) )\n",
    "print(\" Precision: {:1.3f}, Recall: {:1.3f}, F1: {:1.3f}\".format(prec, rec, f1) )"
   ]
  },
  {
   "cell_type": "code",
   "execution_count": 12,
   "metadata": {},
   "outputs": [
    {
     "name": "stdout",
     "output_type": "stream",
     "text": [
      "==== b'<4250772.1075857358369.JavaMail.evans@thyme>' ====\n",
      "Predicted label: NORESPONSE. True label: NORESPONSE\n",
      "<s> following discussions with you and doug , attached is a draft parking transaction agreement for your review and , if acceptable , for UUUNKKK to the counterparty . please call me with any questions . -- david </s>\n",
      "------------------------------------\n",
      "==== b'<25189453.1075851750174.JavaMail.evans@thyme>' ====\n",
      "Predicted label: NORESPONSE. True label: NORESPONSE\n",
      "<s> we have received an executed financial master agreement : type of contract : isda master agreement ( UUUNKKK border ) effective date : october NNNUMMM , NNNUMMM enron entity : enron canada corp. counterparty : UUUNKKK corporation limited , by and through its division , UUUNKKK paper company transactions covered : approved for all products with the exception of : foreign exchange confirming entity : enron canada corp. governing law : ontario copies will be distributed . stephanie UUUNKKK </s>\n",
      "------------------------------------\n",
      "==== b'<4949151.1075856258933.JavaMail.evans@thyme>' ====\n",
      "Predicted label: NORESPONSE. True label: REPLY\n",
      "<s> you have received this email because you are listed as an alternate data approver . please click http : //itcapps.corp.enron.com/srrs/auth/emaillink.asp ? UUUNKKK & page= approval to review and act upon this request . request id : NNNUMMM approver : UUUNKKK @ enron.com request create date : UUUNKKK UUUNKKK pm requested for : UUUNKKK @ enron.com resource name : UUUNKKK - [ UUUNKKK ] resource type : directory </s>\n",
      "------------------------------------\n",
      "==== b'<1200138.1075843716583.JavaMail.evans@thyme>' ====\n",
      "Predicted label: NORESPONSE. True label: NORESPONSE\n",
      "<s> some of the interconnection agreements that we are looking at , have metrics for performance . however , those metrics are specific to how the UUUNKKK UUUNKKK with regard to the UUUNKKK . i believe those metrics are confidential between the parties to the interconnection agreement . once we sign agreements , we will receive reports from the UUUNKKK on their performance relative to us , in a very limited way . we would not receive information relative to that UUUNKKK performance for any other carrier . sue UUUNKKK UUUNKKK UUUNKKK pm to : UUUNKKK UUUNKKK communications @ enron communications cc : barbara a UUUNKKK @ enron , UUUNKKK @ enron.net , jeff dasovich/na/enron @ enron , john UUUNKKK @ enron_development , lara UUUNKKK @ enron , linda robertson/na/enron @ enron , UUUNKKK UUUNKKK @ enron , UUUNKKK UUUNKKK @ enron , mona l UUUNKKK @ enron , ricardo UUUNKKK @ enron , richard shapiro/na/enron @ enron , scott UUUNKKK communications @ enron communications , stephen d UUUNKKK @ enron , susan m UUUNKKK @ enron , UUUNKKK @ enron.net , eric UUUNKKK @ enron , mike UUUNKKK @ enron_development , UUUNKKK UUUNKKK @ enron , UUUNKKK UUUNKKK @ enron_development , karen UUUNKKK communications @ enron communications , ginger dernehl/na/enron @ enron , maureen mcvicker/na/enron @ enron , elizabeth UUUNKKK @ enron subject : re : network performance and reliability hi UUUNKKK , i have n't seen anything with performance or reliability metrics . i 'll send this around to the other people in our group to see if they 've seen anything . sue UUUNKKK UUUNKKK @ enron communications UUUNKKK UUUNKKK pm to : sue UUUNKKK @ enron cc : subject : network performance and reliability sue , we 're looking at evaluating our network metrics vs. </s>\n",
      "------------------------------------\n",
      "==== b'<29747845.1075854323161.JavaMail.evans@thyme>' ====\n",
      "Predicted label: NORESPONSE. True label: NORESPONSE\n",
      "<s> the following seminar will be given several times this year . the UUUNKKK list of speakers is as follows : bryan hull UUUNKKK UUUNKKK tim UUUNKKK bob UUUNKKK a UUUNKKK appearance will be made by dr. UUUNKKK walters , esq . of course , this seminar will be UUUNKKK by yours truly . sign up early , since there were so many texas teams in bowl games , and therefore so many UUUNKKK , the seminars are sure to fill up , rapidly . p. love - i am sure it is little UUUNKKK , but at least you covered . p.s . jody you better get with us soon and then fly immediately to miami to give this UUUNKKK info to UUUNKKK UUUNKKK . </s>\n",
      "------------------------------------\n",
      "==== b'<26431709.1075852620044.JavaMail.evans@thyme>' ====\n",
      "Predicted label: NORESPONSE. True label: NORESPONSE\n",
      "<s> mark your lunch calendars now ! you are invited to attend the ews brown bag lunch series UUUNKKK : the map guys keith UUUNKKK and peter UUUNKKK topic : UUUNKKK your data and marketplace enhance your market analysis and UUUNKKK capabilities with our UUUNKKK geographic information and customized applications . thursday , october NNNUMMM , NNNUMMM 11:30 a.m. - 12:30 p.m. eb UUUNKKK you bring your lunch , rsvp email to we provide drinks and UUUNKKK . UUUNKKK UUUNKKK or call x UUUNKKK </s>\n",
      "------------------------------------\n",
      "==== b'<16721972.1075848205435.JavaMail.evans@thyme>' ====\n",
      "Predicted label: NORESPONSE. True label: NORESPONSE\n",
      "<s> steve , here is a summary and copy of the congressman barton 's electricity emergency relief bill per your request . the republicans on the house energy and air quality subcommittee , led by congressman barton , have drafted legislation containing short term , emergency measures to alleviate the crises in the western states UUUNKKK the western systems coordinating council . such measures include a mandatory connection policy for distributed generation , UUUNKKK the federal emergency management agency ( UUUNKKK ) and compelling the formation of a western region rto . barton plans introduce the bill at the end of april . the bill is intended as a political response to democrats and the state of california . little in the bill could be implemented by this summer and few of the provisions would have any beneficial impact on supply or demand . thus , there is an open question within the white house whether UUUNKKK of the barton bill is the correct political UUUNKKK . the belief among the industry is that it is going nowhere and it has already served its limited purpose of responding to democratic demands for action . although a final decision on its inclusion has not been made , enron has been initially successful in including its demand buy down proposal in the barton bill . - electricity emergency relief UUUNKKK - section by section UUUNKKK UUUNKKK UUUNKKK legislative coordinator enron corp. NNNUMMM eye st. nw , suite NNNUMMM washington , dc NNNUMMM UUUNKKK ( ph . ) UUUNKKK ( fax ) </s>\n",
      "------------------------------------\n",
      "==== b'<3762042.1075859396939.JavaMail.evans@thyme>' ====\n",
      "Predicted label: NORESPONSE. True label: NORESPONSE\n",
      "<s> ================================================================= southwest airlines ' click UUUNKKK save e-mail update january NNNUMMM , NNNUMMM ================================================================= the first day of NNNUMMM ! UUUNKKK are UUUNKKK . we 're making a UUUNKKK . to the greatest customers , coast to coast : here 's to a new year of UUUNKKK that comes from the heart we wish you UUUNKKK , on this brand new start . happy new year ! ================================================================= important travel information ================================================================= for updated travel information , please visit : http : UUUNKKK ================================================================= this week 's specials ================================================================= 1. UUUNKKK specials for purchase through january NNNUMMM , NNNUMMM NNNUMMM . subscriber information ================================================================= click UUUNKKK save specials ================================================================= albany , ny $ NNNUMMM one-way , to/from UUUNKKK , fl $ NNNUMMM one-way , to/from UUUNKKK , UUUNKKK UUUNKKK , nm $ NNNUMMM one-way , to/from kansas city , mo $ NNNUMMM one-way , to/from UUUNKKK , UUUNKKK UUUNKKK , tx $ NNNUMMM one-way , to/from new orleans , la $ NNNUMMM one-way , to/from san antonio , tx austin , tx $ NNNUMMM one-way , to/from UUUNKKK , tx $ NNNUMMM one-way , to/from phoenix , UUUNKKK baltimore washington UUUNKKK , md $ NNNUMMM one-way , to/from chicago midway , il $ NNNUMMM one-way , to/from cleveland , oh UUUNKKK , al $ NNNUMMM one-way , to/from chicago midway , il $ NNNUMMM one-way , to/from st. louis , mo boise , id $ NNNUMMM one-way , to/from UUUNKKK , nv $ NNNUMMM one-way , to/from UUUNKKK , wa UUUNKKK falls , ny $ NNNUMMM one-way , to/from UUUNKKK , UUUNKKK virginia $ NNNUMMM one-way , to/from tampa bay , fl UUUNKKK , ca $ NNNUMMM one-way , to/from las vegas , nv $ NNNUMMM one-way , to/from portland , or chicago midway , il $ NNNUMMM </s>\n",
      "------------------------------------\n",
      "==== b'<11756966.1075855246958.JavaMail.evans@thyme>' ====\n",
      "Predicted label: NORESPONSE. True label: NORESPONSE\n",
      "<s> NNNUMMM . `` ancillary services '' or `` as '' means those services required by entergy 's interconnection agreement with UUUNKKK or entergy 's tariff . or '' ancillary services '' or `` as '' means those services recognized by entergy 's interconnect agreement with UUUNKKK or entergy 's tariff . NNNUMMM . `` available energy '' means energy that is available for sale on any given day that is in excess of UUUNKKK 's native load . or '' available energy '' means energy that is available for sale on any given day that is in excess of ( i ) UUUNKKK 's native load , and ( ii ) the energy required to be sold under any existing transactions , up to the total amount of energy on any day that can be produced from the facilities . NNNUMMM . `` available energy '' means energy that is available for sale on any given day that is in excess of UUUNKKK 's native load . or '' available energy '' means energy that is available for sale on any given day that is in excess of ( i ) UUUNKKK 's native load , and ( ii ) the energy required to be sold under any existing transactions , up to the total amount of energy on any day that can be produced from the facilities . NNNUMMM . `` confirmation '' means a confirmation of a transaction or transactions . or '' confirmation '' means the document provided for under the UUUNKKK or the UUUNKKK and with the corresponding third party under a UUUNKKK transaction or with epmi which UUUNKKK the product being bought or sold , the duration of the transaction and the other terms , including price . a daily report of all </s>\n",
      "------------------------------------\n",
      "==== b'<30730860.1075840248074.JavaMail.evans@thyme>' ====\n",
      "Predicted label: NORESPONSE. True label: NORESPONSE\n",
      "<s> following please find the daily enrononline executive summary . enrononline executive summary for UUUNKKK transaction summary external transactions today UUUNKKK average daily external transactions ( NNNUMMM day trailing avg ) UUUNKKK total life to date transactions UUUNKKK enrononline daily % of entity 's total transactions for UUUNKKK trans percent enron north america UUUNKKK NNNUMMM % enron europe limited NNNUMMM NNNUMMM % global products NNNUMMM NNNUMMM % enron metals NNNUMMM NNNUMMM % enrononline percentage of total corporate transactions ( NNNUMMM day trailing avg ) NNNUMMM % gross notional value of enrononline transactions total today UUUNKKK mtd UUUNKKK ltd UUUNKKK average daily notional value ( NNNUMMM day trailing avg ) UUUNKKK notional revenue from physical flows to date UUUNKKK counterparties , users , and products offered counterparties having transacted to date NNNUMMM new counterparties transacting for the first time today NNNUMMM number of products offered today UUUNKKK total number of external users logged on today UUUNKKK average # of external users logged on ( NNNUMMM day trailing avg ) UUUNKKK </s>\n",
      "------------------------------------\n",
      "==== b'<8147033.1075855505395.JavaMail.evans@thyme>' ====\n",
      "Predicted label: NORESPONSE. True label: NORESPONSE\n",
      "<s> carolyn is taking UUUNKKK leave today for a dr. UUUNKKK . due to a UUUNKKK & UUUNKKK UUUNKKK . she hopes to be in tomorrow . please see mark with any questions that can not wait until her return . thanks , sandy </s>\n",
      "------------------------------------\n",
      "==== b'<12522293.1075852640073.JavaMail.evans@thyme>' ====\n",
      "Predicted label: NORESPONSE. True label: NORESPONSE\n",
      "<s> UUUNKKK : associated press ; photo : UUUNKKK is cutting nearly 5,000 jobs and = launching a new strategy . ; ; photographer : associated press ; photo : the UUUNKKK UUUNKKK airline industry is expecting its problems to UUUNKKK . ; ; photographer : = UUUNKKK UUUNKKK ; graphic : UUUNKKK power , los angeles times ; =20 copyright ? NNNUMMM dow jones & company , inc. all rights reserved . =09 business ralph UUUNKKK UUUNKKK energy makes building its own with major lease ralph UUUNKKK staff 10/28/2001 houston chronicle NNNUMMM star NNNUMMM ( copyright NNNUMMM ) houston is known as the `` energy capital of the world . '' and a UUUNKKK around = the downtown UUUNKKK UUUNKKK the UUUNKKK is appropriate . houston UUUNKKK s bearing the names of enron , chevron , exxon and shell make significant con= UUUNKKK to the UUUNKKK now another name is being added to the downtown mix , UUUNKKK the energy c= UUUNKKK image even further . the UUUNKKK two allen center has been UUUNKKK d= UUUNKKK energy tower . UUUNKKK energy has just signed a lease for UUUNKKK square feet of space , more= than doubling its presence in the building , and as part of the deal , UUUNKKK gets to put its name on the UUUNKKK the lease also gives oklahoma UUUNKKK UUUNKKK the right to take more UUUNKKK in the NNNUMMM UUUNKKK building , at NNNUMMM smith UUUNKKK UUUNKKK recently announced its plans to acquire mitchell energy & UUUNKKK , but it will maintain mitchell 's offices in the woodlands , said UUUNKKK UUUNKKK r , manager of office administration for UUUNKKK kevin UUUNKKK and tim UUUNKKK of UUUNKKK & UUUNKKK represented UUUNKKK in = the transaction . paul UUUNKKK and margaret UUUNKKK negotiated the </s>\n",
      "------------------------------------\n",
      "==== b'<29132378.1075842030638.JavaMail.evans@thyme>' ====\n",
      "Predicted label: REPLY. True label: REPLY\n",
      "<s> UUUNKKK attachment congratulations to UUUNKKK and dan UUUNKKK UUUNKKK on their new son ! peter UUUNKKK was born at UUUNKKK p.m. on sunday . he UUUNKKK NNNUMMM UUUNKKK NNNUMMM UUUNKKK and is NNNUMMM '' long . everyone is doing well . </s>\n",
      "------------------------------------\n",
      "==== b'<16212571.1075845778365.JavaMail.evans@thyme>' ====\n",
      "Predicted label: NORESPONSE. True label: REPLY\n",
      "<s> scott , attached are the foundation UUUNKKK we discussed . sorry you did not get them the first time i sent them . < < enron UUUNKKK > > - enron UUUNKKK </s>\n",
      "------------------------------------\n",
      "==== b'<1970554.1075852202157.JavaMail.evans@thyme>' ====\n",
      "Predicted label: NORESPONSE. True label: NORESPONSE\n",
      "<s> these troubled times mandate that enron take a fresh look at our contingency plans for conducting business away from the office . bob superty has asked me to put together a survey on processes and equipment that could be used if UUUNKKK could not get into the office and use normal business processes and resources . please forward this memo and ask your respective UUUNKKK to take a moment to fill in the requested data from your desk spreadsheets below . we would like to have all responses received before november 1st . please e-mail all responses to richard UUUNKKK with an updated excel spreadsheet attached . i will put together a master sheet from the individual replies . UUUNKKK richard UUUNKKK </s>\n",
      "------------------------------------\n",
      "==== b'<848152.1075854423023.JavaMail.evans@thyme>' ====\n",
      "Predicted label: NORESPONSE. True label: NORESPONSE\n",
      "<s> sharon , i have the support you requested . i am at UUUNKKK . dg UUUNKKK </s>\n",
      "------------------------------------\n",
      "==== b'<8283754.1075851828258.JavaMail.evans@thyme>' ====\n",
      "Predicted label: NORESPONSE. True label: NORESPONSE\n",
      "<s> i work for enron net UUUNKKK 'm not sure i understand either , but i know they did n't extend the invitation to our group ! jay has not mentioned the party , he 's not a big fan of them ... what ! ? ! ? ! you would have to think about a UUUNKKK with me ? ! ? call me # NNNUMMM ... i want to UUUNKKK you about something ! ! ! ! joe UUUNKKK @ ect UUUNKKK UUUNKKK pm to : teresa UUUNKKK @ enron @ ect cc : subject : re : hourly what are you part of ? i do n't understand ? ? ? i thought it was an all enron party . ( let me think about the UUUNKKK ... ... . ) i do n't want your UUUNKKK getting upset ! i 'm pretty cool like that ! teresa UUUNKKK @ enron UUUNKKK UUUNKKK pm to : joe UUUNKKK @ ect cc : subject : re : hourly i 'm not part of ena ... why ... UUUNKKK you going to UUUNKKK with me ? ! joe UUUNKKK @ ect UUUNKKK UUUNKKK pm to : teresa UUUNKKK @ enron @ ect cc : subject : re : hourly are you going to the enron christmas party ? teresa UUUNKKK @ enron UUUNKKK UUUNKKK am to : joe UUUNKKK @ ect cc : subject : re : hourly hello joseph , you are correct about who is the UUUNKKK ... UUUNKKK is you hands down ! ! i like it when there is an e-mail from you when i arrive in the morning : < ) i 'm waiting for the next big shock from you ... UUUNKKK your last story will be hard to top ... it was </s>\n",
      "------------------------------------\n",
      "==== b'<16910720.1075858157803.JavaMail.evans@thyme>' ====\n",
      "Predicted label: NORESPONSE. True label: NORESPONSE\n",
      "<s> done . see you there </s>\n",
      "------------------------------------\n",
      "==== b'<30676599.1075840198039.JavaMail.evans@thyme>' ====\n",
      "Predicted label: REPLY. True label: REPLY\n",
      "<s> suzanne , here is the spreadsheet that we discussed earlier today . the worksheet of concern is titled `` UUUNKKK '' . each deal is listed by group . that is to say that they are not listed by day , but the days in question are mentioned for each group . furthermore , the volumes on the left of each group are from coral 's data , whereas the right side contains ena data or my calculations . please prioritize these as you can with the expectation that i might be able to work on this upon my return from vacation on jan NNNUMMM . < < file : UUUNKKK > > thank you , scott UUUNKKK client services - settlements enron net works llc office : UUUNKKK fax : UUUNKKK email : UUUNKKK @ enron.com </s>\n",
      "------------------------------------\n",
      "==== b'<31282528.1075863389779.JavaMail.evans@thyme>' ====\n",
      "Predicted label: NORESPONSE. True label: NORESPONSE\n",
      "<s> rob , UUUNKKK is looking for strictly indicative levels for monthly power in zone g & j in ny for UUUNKKK NNNUMMM , UUUNKKK for UUUNKKK mw . they are going to send out an rfp in mid september , and are trying to determine the alternatives . the possible products are : NNNUMMM ) purchase monthly power in zone g & z on peak november through april , they would like to see our indicative offer on a monthly basis for both UUUNKKK . NNNUMMM ) purchase a UUUNKKK ( potentially zero cost ) whereby the cap price will be $ NNNUMMM above the underlying and the floor is approx . $ NNNUMMM below underlying . these would be daily options with automatic exercise for NNNUMMM mw . NNNUMMM ) the final alternative would be a UUUNKKK purchase of a daily call option with a strike $ NNNUMMM above the underlying and limit the # of times that they could exercise , e.g . first NNNUMMM times in a given month . this rfp will be out the second week of september , if you could give us an indication as to what the pricing may be , then they could better determine which is their best course of action . thanks . nick </s>\n",
      "------------------------------------\n",
      "==== b'<4597587.1075847090161.JavaMail.evans@thyme>' ====\n",
      "Predicted label: REPLY. True label: REPLY\n",
      "<s> is this only available to the legal group ? there are a few people in credit and global contracts that might find this helpful . please add me to the list . thanks ! sylvia UUUNKKK @ enron UUUNKKK UUUNKKK pm to : elizabeth UUUNKKK @ ees , stephanie UUUNKKK @ ees cc : ( bcc : tana jones/hou/ect ) subject : UUUNKKK luncheon - thursday , UUUNKKK at eb UUUNKKK NNNUMMM - 1:30 pm UUUNKKK has a new product - UUUNKKK out on market in competing with UUUNKKK ' company UUUNKKK on UUUNKKK UUUNKKK . you will have an opportunity to learn UUUNKKK from michael UUUNKKK , UUUNKKK attorney . the presentation on UUUNKKK will be held at conference room UUUNKKK on thursday , from 12:00 noon - 1:30 pm . lunch will be provided by UUUNKKK . please UUUNKKK . to sylvia UUUNKKK ( UUUNKKK ) or ( email ) by noon , UUUNKKK . UUUNKKK relationships between people and businesses by UUUNKKK UUUNKKK and public records on UUUNKKK . resources available include : company profiles / people UUUNKKK / asset UUUNKKK corporate and limited partnership records bankruptcy filings / UUUNKKK filings / lawsuit filings and more than 6,000 news and business publications , including the wall street journal . sylvia UUUNKKK corporate and law information services UUUNKKK </s>\n",
      "------------------------------------\n",
      "==== b'<1702607.1075857723330.JavaMail.evans@thyme>' ====\n",
      "Predicted label: REPLY. True label: REPLY\n",
      "<s> eric can you please forward this note to john lavorato , i was speaking with him this morning and i just wanted to pass my thoughts on through . i UUUNKKK ken UUUNKKK in our office for your UUUNKKK address . UUUNKKK ( transalta ) ppa 's - john , yes you are right the negative bids will not be paid out as a UUUNKKK sum ( credit issues ) , they will be paid out on a simple flat monthly basis ( i UUUNKKK you could use this cash flow to finance a purchase of positive bid plants , of course you would need to incorporate the appropriate UUUNKKK ) . even without the alternative of taking the money and running , you can still use the purchase of a negative value plant as a call option on the market - the premium is the NNNUMMM month penalty payment outlined in the auction process . the company , charles river associates , has helped develop this wonderful system ( maybe that 's why their stock price has dropped NNNUMMM % in the past week - actually its earnings related , but who really knows ) . the auction was also developed by a group going by the name `` auction design inc '' i think . with the NNNUMMM or so ppa 's and with a portion being negative we should have a very interesting auction in the first week of july . my understanding is that the minister has the UUUNKKK right to declare the auction a success or failure even if only NNNUMMM % of the plants are bid . to date there has been considerable thinking around the issue of what do you do if the plants do n't get UUUNKKK off , but </s>\n",
      "------------------------------------\n",
      "==== b'<5838298.1075853244305.JavaMail.evans@thyme>' ====\n",
      "Predicted label: NORESPONSE. True label: NORESPONSE\n",
      "<s> loretta lynch , president , california public utilities commission june NNNUMMM , NNNUMMM lynch was appointed march NNNUMMM , NNNUMMM . previously she was director of gov . gray davis ' office of planning and research . question : what is this summer going to be like in terms of blackouts ? what is the economic impact going to be ? answer : i do n't think anybody can predict . they are wild UUUNKKK or at least estimates based on assumptions that we do n't know . three factors influence the level of blackouts . one is how hot it 's going to be . the second is conservation and whether folks will really step up to the UUUNKKK , both business and UUUNKKK , and conserve their UUUNKKK out and load shift to UUUNKKK times . we reduced the load NNNUMMM to NNNUMMM percent in march and april and slightly more ( NNNUMMM percent ) in may . we 're going to have to do better than that to avoid blackouts . the third factor is making sure that the generation that can run does run and right now we 're doing an UUUNKKK job of that . we have record levels of unplanned outages at generating plants . this week 10,000 megawatts were out of UUUNKKK megawatts ( UUUNKKK megawatts including municipal utilities ) in state capacity . historically , there has only been 3,000 to 4,000 megawatts off at any one time . does the puc have no control over when utilities take a plant off line ? utilities yes , private generators no . since november the unplanned outages have been three , four times what history would show over a UUUNKKK period . exactly what explains that is the heart of one </s>\n",
      "------------------------------------\n",
      "==== b'<1932107.1075846932287.JavaMail.evans@thyme>' ====\n",
      "Predicted label: REPLY. True label: REPLY\n",
      "<s> NNNUMMM . barrett resources corporation NNNUMMM . UUUNKKK valley power association , inc. NNNUMMM . wisconsin public power inc. NNNUMMM and NNNUMMM are open for trading west and east power . barrett is not . </s>\n",
      "------------------------------------\n",
      "==== b'<110386.1075855439919.JavaMail.evans@thyme>' ====\n",
      "Predicted label: NORESPONSE. True label: NORESPONSE\n",
      "<s> win a caribbean cruise from UUUNKKK ! dear UUUNKKK customer , where can you find a UUUNKKK wall , a UUUNKKK golf course , an UUUNKKK UUUNKKK , fine dining and white sandy UUUNKKK - all in one place ? only on royal caribbean 's UUUNKKK of the UUUNKKK . it 's one of the world 's largest cruise ships and you could find yourself and a guest aboard free if you 're the winner of UUUNKKK 's caribbean cruise UUUNKKK . on a big boat like this , big fun is sure to follow -- so come aboard ! http : UUUNKKK ? UUUNKKK royal UUUNKKK international is the proud sponsor of the UUUNKKK caribbean cruise UUUNKKK . http : UUUNKKK ? UUUNKKK hurry , deadline for entry is midnight eastern time december NNNUMMM , NNNUMMM . for more details , see our official UUUNKKK rules . http : UUUNKKK ? UUUNKKK enter for your chance to win ! http : UUUNKKK ? UUUNKKK NNNUMMM day caribbean cruise for two . you and a guest will enjoy an UUUNKKK UUUNKKK aboard royal caribbean 's incredible UUUNKKK of the UUUNKKK . enjoy breakfast on your own private UUUNKKK ! UUUNKKK ports of call . your cruise will take you to the UUUNKKK UUUNKKK locations in the caribbean , including grand UUUNKKK , UUUNKKK and royal caribbean 's private island of UUUNKKK . air transportation for two to miami . UUUNKKK will get you from your home town to miami -- the home port for this UUUNKKK UUUNKKK . click here to enter ! http : UUUNKKK ? UUUNKKK questions ? if you have questions about these promotions or a previous UUUNKKK request , please click here . http : UUUNKKK ? UUUNKKK when you made your UUUNKKK request </s>\n",
      "------------------------------------\n",
      "==== b'<16584497.1075845261456.JavaMail.evans@thyme>' ====\n",
      "Predicted label: REPLY. True label: REPLY\n",
      "<s> per your request : average monthly temperature - basis normal : may NNNUMMM : UUUNKKK may NNNUMMM : UUUNKKK from a demand standpoint : - may NNNUMMM - heating demand : there were NNNUMMM days with a minimum temperature below NNNUMMM , NNNUMMM days below NNNUMMM and no days with a minimum below NNNUMMM . there was NNNUMMM day with a maximum temperature below NNNUMMM : may 19th featured a maximum temperature of NNNUMMM degrees . the lowest maximum temperature was NNNUMMM degrees on the 19th and the lowest minimum temperature was NNNUMMM set on the 14th . there were no periods during the month where the minimum temperature dropped below NNNUMMM degrees for NNNUMMM or more consecutive days . - may NNNUMMM - cooling demand : there were NNNUMMM days with a maximum temperature NNNUMMM or higher . NNNUMMM days reached maximum temperature NNNUMMM or higher . the UUUNKKK maximum temperature was NNNUMMM degrees on may 6th . there was one stretch of NNNUMMM consecutive days where temperatures were NNNUMMM or higher - may NNNUMMM , NNNUMMM , and NNNUMMM . - may NNNUMMM - heating demand : there were NNNUMMM days with a minimum temperature below NNNUMMM , NNNUMMM days below NNNUMMM , and NNNUMMM days below NNNUMMM . the lowest minimum temperature in the month was NNNUMMM on the 13th and lowest maximum temperature was NNNUMMM on the 12th and the 27th . there were two UUUNKKK of NNNUMMM or more consecutive days with minimum temperatures below NNNUMMM - may NNNUMMM , NNNUMMM , NNNUMMM , NNNUMMM and may NNNUMMM , NNNUMMM , NNNUMMM , NNNUMMM . - may NNNUMMM - cooling demand : there were NNNUMMM days with a maximum temperature of NNNUMMM or higher . NNNUMMM days reached a maximum temperature of NNNUMMM </s>\n",
      "------------------------------------\n",
      "==== b'<13168034.1075842196462.JavaMail.evans@thyme>' ====\n",
      "Predicted label: NORESPONSE. True label: NORESPONSE\n",
      "<s> suzanne : can you find out when UUUNKKK will be in UUUNKKK ? we will be there from UUUNKKK through UUUNKKK and i was hoping that she would be there at that time . can you check for her dates in ny or dc as well ? thanks . carol st. clair eb NNNUMMM 713-853-3989 ( phone ) 713-646-3393 ( fax ) carol.st.clair @ enron.com </s>\n",
      "------------------------------------\n",
      "==== b'<15559408.1075860368433.JavaMail.evans@thyme>' ====\n",
      "Predicted label: NORESPONSE. True label: NORESPONSE\n",
      "<s> UUUNKKK : UUUNKKK UUUNKKK : UUUNKKK UUUNKKK : UUUNKKK e-mail : UUUNKKK @ UUUNKKK UUUNKKK : UUUNKKK UUUNKKK : NNNUMMM UUUNKKK : on page NNNUMMM , lines UUUNKKK , reference is made to the use of revenue and price data provided in bpa 's documentation . however , no cite was provided . please provide the appropriate cite to bpa 's documentation . if the documentation is computer files provided by bpa in its response to a data request , please cite the appropriate data request . UUUNKKK : the information was provided in bpa 's response to UUUNKKK . the computer file is named : UUUNKKK $ UUUNKKK the following information is from the web server : NNNUMMM . logon : UUUNKKK NNNUMMM . remote host : UUUNKKK NNNUMMM . remote ip address : UUUNKKK NNNUMMM . form url : https : UUUNKKK NNNUMMM . browser client : UUUNKKK [ en ] UUUNKKK ( UUUNKKK ; u ) </s>\n",
      "------------------------------------\n",
      "==== b'<7685811.1075845229916.JavaMail.evans@thyme>' ====\n",
      "Predicted label: NORESPONSE. True label: NORESPONSE\n",
      "<s> f r i d a y e x t r e m e m a r k e t s a complimentary service from UUUNKKK ( http : UUUNKKK ) friday : the UUUNKKK index is up UUUNKKK points to UUUNKKK . the us dollar index moved higher by UUUNKKK points to UUUNKKK . the dow industrials UUUNKKK lower by UUUNKKK points , at UUUNKKK , while the s & p NNNUMMM UUUNKKK lower by UUUNKKK points , last seen at UUUNKKK . the nasdaq composite fell UUUNKKK points to UUUNKKK . ! ! ! free managed futures & UUUNKKK kit ! ! ! http : UUUNKKK UUUNKKK UUUNKKK market moves with UUUNKKK % accuracy UUUNKKK in his UUUNKKK manual , trading UUUNKKK joe UUUNKKK reveals ... http : UUUNKKK dear andrew : joe UUUNKKK has UUUNKKK a tremendous discovery relating to price , time and market movements . this discovery permits you to UUUNKKK to the day when a price trend will change direction ... ... allowing you to buy at the bottom and sell at the top . studies have shown these techniques to be accurate from UUUNKKK % to UUUNKKK % . in general , you should have NNNUMMM wins for every NNNUMMM losses ... $ UUUNKKK in profit for every $ 1,000 loss ... and an average profit of over $ NNNUMMM ! special limited time UUUNKKK ! learn more about this UUUNKKK discovery : http : UUUNKKK < a UUUNKKK '' http : UUUNKKK '' > UUUNKKK market moves ! < /a > order toll free UUUNKKK - UUUNKKK all claims on third-party products are made by the publisher and not by UUUNKKK . all products guaranteed . UUUNKKK e x t r e m e m a r k e t c </s>\n",
      "------------------------------------\n",
      "==== b'<14809964.1075840159030.JavaMail.evans@thyme>' ====\n",
      "Predicted label: NORESPONSE. True label: NORESPONSE\n",
      "<s> esource presents free dow jones interactive training introduction to dow jones interactive learn about the content available through dow jones interactive , and how to quickly put it to work for you . including setting up your own custom clips and monitoring topics of interest to you . june . NNNUMMM 9:00 - 10:00 am eb560 advanced learn how to be more efficient on dow jones interactive . put some power tools to work for you . learn how to employ codes , use search history , and UUUNKKK . hands on time is provided . june . NNNUMMM 10:00 - 11:00 am eb560 june . NNNUMMM 11:00 - 12:00 am eb560 seats fill up fast ! to reserve a seat , please call stephanie e. taylor at UUUNKKK ? no shows will be charged $ UUUNKKK check the esource training page at http : UUUNKKK for additional training sessions and vendor presentations http : UUUNKKK < embedded picture ( UUUNKKK ) > </s>\n",
      "------------------------------------\n",
      "==== b'<2457751.1075840374750.JavaMail.evans@thyme>' ====\n",
      "Predicted label: NORESPONSE. True label: NORESPONSE\n",
      "<s> ubs have organized an important meeting will be held tomorrow for all employees who : NNNUMMM ) have accepted offers or NNNUMMM ) intend to accept offers ( to the best of their knowledge ) but who have issues that are being resolved all employees in these categories should attend UUUNKKK will be provided for those who do not have their own transport and will pick up from the south side of the north building - please assemble in the UUUNKKK plaza area from UUUNKKK to UUUNKKK ( last bus leaves @ UUUNKKK am ) the meeting will last until approximately 1pm and will be presented by senior managers from ubs on the firm and it 's strategy . there will be breakfast available at the hotel from 9am to 10am and there will be UUUNKKK afterwards . if traveling independently please make sure you leave sufficient time to park ( it will be very busy ) and get to the grand ballroom employees need to bring their id 's or drivers license with them to gain access to the meeting i 'm sorry for the short notice on this - please call out to anyone who should be attending who will not get this message in time tammie UUUNKKK on behalf of ubs hr </s>\n",
      "------------------------------------\n",
      "==== b'<8611467.1075852793006.JavaMail.evans@thyme>' ====\n",
      "Predicted label: NORESPONSE. True label: NORESPONSE\n",
      "<s> trade press , recruiting firms and others recently have made numerous calls to enron employees seeking information about the company , its employees and other matters . in some cases , these UUUNKKK have used false UUUNKKK , as in , `` i 'm from the sec and i need you to provide me with ? '' if you receive a call from someone identifying themselves as part of a government organization , please refer the UUUNKKK to the legal department . please refer calls from the trade press and other media inquiries to the public relations group . and otherwise , please treat enron information as confidential . thank you . </s>\n",
      "------------------------------------\n"
     ]
    }
   ],
   "source": [
    "batch_preds, inputs, lens, batch_outputs, email_ids = model.predict()\n",
    "print_examples(preds, outputs, inputs, lens, email_ids)"
   ]
  },
  {
   "cell_type": "code",
   "execution_count": null,
   "metadata": {},
   "outputs": [],
   "source": []
  }
 ],
 "metadata": {
  "kernelspec": {
   "display_name": "Python 3",
   "language": "python",
   "name": "python3"
  },
  "language_info": {
   "codemirror_mode": {
    "name": "ipython",
    "version": 3
   },
   "file_extension": ".py",
   "mimetype": "text/x-python",
   "name": "python",
   "nbconvert_exporter": "python",
   "pygments_lexer": "ipython3",
   "version": "3.5.2"
  }
 },
 "nbformat": 4,
 "nbformat_minor": 2
}
