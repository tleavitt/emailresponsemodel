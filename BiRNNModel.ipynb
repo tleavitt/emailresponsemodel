{
 "cells": [
  {
   "cell_type": "code",
   "execution_count": 13,
   "metadata": {},
   "outputs": [],
   "source": [
    "from data_util import load_embeddings, DMConfig, tfConfig\n",
    "try:\n",
    "    import _pickle as cPickle\n",
    "except ImportError:\n",
    "    import cPickle\n",
    "import gzip\n",
    "import os\n",
    "import numpy as np\n",
    "from sklearn import metrics\n",
    "from defs import LBLS"
   ]
  },
  {
   "cell_type": "code",
   "execution_count": 14,
   "metadata": {},
   "outputs": [
    {
     "name": "stdout",
     "output_type": "stream",
     "text": [
      "The autoreload extension is already loaded. To reload it, use:\n",
      "  %reload_ext autoreload\n"
     ]
    }
   ],
   "source": [
    "%load_ext autoreload\n",
    "%autoreload 2"
   ]
  },
  {
   "cell_type": "code",
   "execution_count": 15,
   "metadata": {},
   "outputs": [],
   "source": [
    "config = DMConfig()\n",
    "if os.path.exists(config.tok2id_path):\n",
    "    with gzip.open(os.path.abspath(config.tok2id_path)) as f:\n",
    "        tok2id = cPickle.load(f)\n",
    "if os.path.exists(config.id2tok_path):\n",
    "    with gzip.open(os.path.abspath(config.id2tok_path)) as f:\n",
    "        id2tok = cPickle.load(f)"
   ]
  },
  {
   "cell_type": "code",
   "execution_count": 16,
   "metadata": {},
   "outputs": [
    {
     "name": "stderr",
     "output_type": "stream",
     "text": [
      "INFO:Initialized embeddings.\n"
     ]
    }
   ],
   "source": [
    "embeddings = load_embeddings(config, tok2id)"
   ]
  },
  {
   "cell_type": "markdown",
   "metadata": {},
   "source": [
    "## Training"
   ]
  },
  {
   "cell_type": "code",
   "execution_count": 25,
   "metadata": {},
   "outputs": [],
   "source": [
    "from tf_birnn_classifier import TfBiRNNClassifier\n",
    "from defs import PROJECT_DIR"
   ]
  },
  {
   "cell_type": "code",
   "execution_count": 26,
   "metadata": {},
   "outputs": [
    {
     "name": "stderr",
     "output_type": "stream",
     "text": [
      "INFO:Initializing data manager...\n",
      "INFO:took 0 s\n",
      "INFO:Building model...\n",
      "INFO:took 0 s\n"
     ]
    },
    {
     "name": "stdout",
     "output_type": "stream",
     "text": [
      "fw outputs:  (?, 300, 50)\n",
      "bw outputs:  (?, 300, 50)\n",
      "all outputs:  (?, 300, 100)\n",
      "all states:  (?, 100)\n",
      "W_attn: (100, 25)\n"
     ]
    },
    {
     "name": "stderr",
     "output_type": "stream",
     "text": [
      "INFO:-- Initializing new model\n",
      "INFO:Starting epoch 1\n",
      "INFO: == Evaluating on development data after batch 250\n",
      "INFO:Ran 40 batches\n",
      "INFO:== Results for 40 batches of size 32\n",
      "INFO:== Precision: 0.647, Recall: 0.026, F1: 0.049\n",
      "INFO:-- Saving model\n"
     ]
    },
    {
     "ename": "KeyboardInterrupt",
     "evalue": "",
     "output_type": "error",
     "traceback": [
      "\u001b[0;31m---------------------------------------------------------------------------\u001b[0m",
      "\u001b[0;31mKeyboardInterrupt\u001b[0m                         Traceback (most recent call last)",
      "\u001b[0;32m<ipython-input-26-92ff783e6c13>\u001b[0m in \u001b[0;36m<module>\u001b[0;34m()\u001b[0m\n\u001b[1;32m      3\u001b[0m                            \u001b[0msummaries_dir\u001b[0m\u001b[0;34m=\u001b[0m\u001b[0;34m'{}/summaries-birnn/'\u001b[0m\u001b[0;34m.\u001b[0m\u001b[0mformat\u001b[0m\u001b[0;34m(\u001b[0m\u001b[0mPROJECT_DIR\u001b[0m\u001b[0;34m)\u001b[0m\u001b[0;34m\u001b[0m\u001b[0m\n\u001b[1;32m      4\u001b[0m                           )\n\u001b[0;32m----> 5\u001b[0;31m \u001b[0mmodel\u001b[0m\u001b[0;34m.\u001b[0m\u001b[0mfit\u001b[0m\u001b[0;34m(\u001b[0m\u001b[0mtfConfig\u001b[0m\u001b[0;34m,\u001b[0m \u001b[0mrestore_weights\u001b[0m\u001b[0;34m=\u001b[0m\u001b[0;32mFalse\u001b[0m\u001b[0;34m,\u001b[0m \u001b[0mbatches_to_eval\u001b[0m\u001b[0;34m=\u001b[0m\u001b[0;36m250\u001b[0m\u001b[0;34m,\u001b[0m \u001b[0mmax_iter\u001b[0m\u001b[0;34m=\u001b[0m\u001b[0;36m10\u001b[0m\u001b[0;34m)\u001b[0m\u001b[0;34m\u001b[0m\u001b[0m\n\u001b[0m",
      "\u001b[0;32m~/src/tf_model_base.py\u001b[0m in \u001b[0;36mfit\u001b[0;34m(self, tfconfig, restore_weights, batches_to_eval, max_iter, n_val_batches, test_at_end)\u001b[0m\n\u001b[1;32m    189\u001b[0m                     _, summary, batch_loss = sess.run(\n\u001b[1;32m    190\u001b[0m                         \u001b[0;34m[\u001b[0m\u001b[0mself\u001b[0m\u001b[0;34m.\u001b[0m\u001b[0moptimizer\u001b[0m\u001b[0;34m,\u001b[0m \u001b[0mself\u001b[0m\u001b[0;34m.\u001b[0m\u001b[0msummary\u001b[0m\u001b[0;34m,\u001b[0m \u001b[0mself\u001b[0m\u001b[0;34m.\u001b[0m\u001b[0mcost\u001b[0m\u001b[0;34m]\u001b[0m\u001b[0;34m,\u001b[0m\u001b[0;34m\u001b[0m\u001b[0m\n\u001b[0;32m--> 191\u001b[0;31m                         \u001b[0mfeed_dict\u001b[0m\u001b[0;34m=\u001b[0m\u001b[0mself\u001b[0m\u001b[0;34m.\u001b[0m\u001b[0mtrain_dict\u001b[0m\u001b[0;34m(\u001b[0m\u001b[0;34m)\u001b[0m\u001b[0;34m\u001b[0m\u001b[0m\n\u001b[0m\u001b[1;32m    192\u001b[0m                     )\n\u001b[1;32m    193\u001b[0m \u001b[0;34m\u001b[0m\u001b[0m\n",
      "\u001b[0;32m~/env/lib/python3.5/site-packages/tensorflow/python/client/session.py\u001b[0m in \u001b[0;36mrun\u001b[0;34m(self, fetches, feed_dict, options, run_metadata)\u001b[0m\n\u001b[1;32m    903\u001b[0m     \u001b[0;32mtry\u001b[0m\u001b[0;34m:\u001b[0m\u001b[0;34m\u001b[0m\u001b[0m\n\u001b[1;32m    904\u001b[0m       result = self._run(None, fetches, feed_dict, options_ptr,\n\u001b[0;32m--> 905\u001b[0;31m                          run_metadata_ptr)\n\u001b[0m\u001b[1;32m    906\u001b[0m       \u001b[0;32mif\u001b[0m \u001b[0mrun_metadata\u001b[0m\u001b[0;34m:\u001b[0m\u001b[0;34m\u001b[0m\u001b[0m\n\u001b[1;32m    907\u001b[0m         \u001b[0mproto_data\u001b[0m \u001b[0;34m=\u001b[0m \u001b[0mtf_session\u001b[0m\u001b[0;34m.\u001b[0m\u001b[0mTF_GetBuffer\u001b[0m\u001b[0;34m(\u001b[0m\u001b[0mrun_metadata_ptr\u001b[0m\u001b[0;34m)\u001b[0m\u001b[0;34m\u001b[0m\u001b[0m\n",
      "\u001b[0;32m~/env/lib/python3.5/site-packages/tensorflow/python/client/session.py\u001b[0m in \u001b[0;36m_run\u001b[0;34m(self, handle, fetches, feed_dict, options, run_metadata)\u001b[0m\n\u001b[1;32m   1138\u001b[0m     \u001b[0;32mif\u001b[0m \u001b[0mfinal_fetches\u001b[0m \u001b[0;32mor\u001b[0m \u001b[0mfinal_targets\u001b[0m \u001b[0;32mor\u001b[0m \u001b[0;34m(\u001b[0m\u001b[0mhandle\u001b[0m \u001b[0;32mand\u001b[0m \u001b[0mfeed_dict_tensor\u001b[0m\u001b[0;34m)\u001b[0m\u001b[0;34m:\u001b[0m\u001b[0;34m\u001b[0m\u001b[0m\n\u001b[1;32m   1139\u001b[0m       results = self._do_run(handle, final_targets, final_fetches,\n\u001b[0;32m-> 1140\u001b[0;31m                              feed_dict_tensor, options, run_metadata)\n\u001b[0m\u001b[1;32m   1141\u001b[0m     \u001b[0;32melse\u001b[0m\u001b[0;34m:\u001b[0m\u001b[0;34m\u001b[0m\u001b[0m\n\u001b[1;32m   1142\u001b[0m       \u001b[0mresults\u001b[0m \u001b[0;34m=\u001b[0m \u001b[0;34m[\u001b[0m\u001b[0;34m]\u001b[0m\u001b[0;34m\u001b[0m\u001b[0m\n",
      "\u001b[0;32m~/env/lib/python3.5/site-packages/tensorflow/python/client/session.py\u001b[0m in \u001b[0;36m_do_run\u001b[0;34m(self, handle, target_list, fetch_list, feed_dict, options, run_metadata)\u001b[0m\n\u001b[1;32m   1319\u001b[0m     \u001b[0;32mif\u001b[0m \u001b[0mhandle\u001b[0m \u001b[0;32mis\u001b[0m \u001b[0;32mNone\u001b[0m\u001b[0;34m:\u001b[0m\u001b[0;34m\u001b[0m\u001b[0m\n\u001b[1;32m   1320\u001b[0m       return self._do_call(_run_fn, feeds, fetches, targets, options,\n\u001b[0;32m-> 1321\u001b[0;31m                            run_metadata)\n\u001b[0m\u001b[1;32m   1322\u001b[0m     \u001b[0;32melse\u001b[0m\u001b[0;34m:\u001b[0m\u001b[0;34m\u001b[0m\u001b[0m\n\u001b[1;32m   1323\u001b[0m       \u001b[0;32mreturn\u001b[0m \u001b[0mself\u001b[0m\u001b[0;34m.\u001b[0m\u001b[0m_do_call\u001b[0m\u001b[0;34m(\u001b[0m\u001b[0m_prun_fn\u001b[0m\u001b[0;34m,\u001b[0m \u001b[0mhandle\u001b[0m\u001b[0;34m,\u001b[0m \u001b[0mfeeds\u001b[0m\u001b[0;34m,\u001b[0m \u001b[0mfetches\u001b[0m\u001b[0;34m)\u001b[0m\u001b[0;34m\u001b[0m\u001b[0m\n",
      "\u001b[0;32m~/env/lib/python3.5/site-packages/tensorflow/python/client/session.py\u001b[0m in \u001b[0;36m_do_call\u001b[0;34m(self, fn, *args)\u001b[0m\n\u001b[1;32m   1325\u001b[0m   \u001b[0;32mdef\u001b[0m \u001b[0m_do_call\u001b[0m\u001b[0;34m(\u001b[0m\u001b[0mself\u001b[0m\u001b[0;34m,\u001b[0m \u001b[0mfn\u001b[0m\u001b[0;34m,\u001b[0m \u001b[0;34m*\u001b[0m\u001b[0margs\u001b[0m\u001b[0;34m)\u001b[0m\u001b[0;34m:\u001b[0m\u001b[0;34m\u001b[0m\u001b[0m\n\u001b[1;32m   1326\u001b[0m     \u001b[0;32mtry\u001b[0m\u001b[0;34m:\u001b[0m\u001b[0;34m\u001b[0m\u001b[0m\n\u001b[0;32m-> 1327\u001b[0;31m       \u001b[0;32mreturn\u001b[0m \u001b[0mfn\u001b[0m\u001b[0;34m(\u001b[0m\u001b[0;34m*\u001b[0m\u001b[0margs\u001b[0m\u001b[0;34m)\u001b[0m\u001b[0;34m\u001b[0m\u001b[0m\n\u001b[0m\u001b[1;32m   1328\u001b[0m     \u001b[0;32mexcept\u001b[0m \u001b[0merrors\u001b[0m\u001b[0;34m.\u001b[0m\u001b[0mOpError\u001b[0m \u001b[0;32mas\u001b[0m \u001b[0me\u001b[0m\u001b[0;34m:\u001b[0m\u001b[0;34m\u001b[0m\u001b[0m\n\u001b[1;32m   1329\u001b[0m       \u001b[0mmessage\u001b[0m \u001b[0;34m=\u001b[0m \u001b[0mcompat\u001b[0m\u001b[0;34m.\u001b[0m\u001b[0mas_text\u001b[0m\u001b[0;34m(\u001b[0m\u001b[0me\u001b[0m\u001b[0;34m.\u001b[0m\u001b[0mmessage\u001b[0m\u001b[0;34m)\u001b[0m\u001b[0;34m\u001b[0m\u001b[0m\n",
      "\u001b[0;32m~/env/lib/python3.5/site-packages/tensorflow/python/client/session.py\u001b[0m in \u001b[0;36m_run_fn\u001b[0;34m(feed_dict, fetch_list, target_list, options, run_metadata)\u001b[0m\n\u001b[1;32m   1310\u001b[0m       \u001b[0mself\u001b[0m\u001b[0;34m.\u001b[0m\u001b[0m_extend_graph\u001b[0m\u001b[0;34m(\u001b[0m\u001b[0;34m)\u001b[0m\u001b[0;34m\u001b[0m\u001b[0m\n\u001b[1;32m   1311\u001b[0m       return self._call_tf_sessionrun(\n\u001b[0;32m-> 1312\u001b[0;31m           options, feed_dict, fetch_list, target_list, run_metadata)\n\u001b[0m\u001b[1;32m   1313\u001b[0m \u001b[0;34m\u001b[0m\u001b[0m\n\u001b[1;32m   1314\u001b[0m     \u001b[0;32mdef\u001b[0m \u001b[0m_prun_fn\u001b[0m\u001b[0;34m(\u001b[0m\u001b[0mhandle\u001b[0m\u001b[0;34m,\u001b[0m \u001b[0mfeed_dict\u001b[0m\u001b[0;34m,\u001b[0m \u001b[0mfetch_list\u001b[0m\u001b[0;34m)\u001b[0m\u001b[0;34m:\u001b[0m\u001b[0;34m\u001b[0m\u001b[0m\n",
      "\u001b[0;32m~/env/lib/python3.5/site-packages/tensorflow/python/client/session.py\u001b[0m in \u001b[0;36m_call_tf_sessionrun\u001b[0;34m(self, options, feed_dict, fetch_list, target_list, run_metadata)\u001b[0m\n\u001b[1;32m   1418\u001b[0m         return tf_session.TF_Run(\n\u001b[1;32m   1419\u001b[0m             \u001b[0mself\u001b[0m\u001b[0;34m.\u001b[0m\u001b[0m_session\u001b[0m\u001b[0;34m,\u001b[0m \u001b[0moptions\u001b[0m\u001b[0;34m,\u001b[0m \u001b[0mfeed_dict\u001b[0m\u001b[0;34m,\u001b[0m \u001b[0mfetch_list\u001b[0m\u001b[0;34m,\u001b[0m \u001b[0mtarget_list\u001b[0m\u001b[0;34m,\u001b[0m\u001b[0;34m\u001b[0m\u001b[0m\n\u001b[0;32m-> 1420\u001b[0;31m             status, run_metadata)\n\u001b[0m\u001b[1;32m   1421\u001b[0m \u001b[0;34m\u001b[0m\u001b[0m\n\u001b[1;32m   1422\u001b[0m   \u001b[0;32mdef\u001b[0m \u001b[0m_call_tf_sessionprun\u001b[0m\u001b[0;34m(\u001b[0m\u001b[0mself\u001b[0m\u001b[0;34m,\u001b[0m \u001b[0mhandle\u001b[0m\u001b[0;34m,\u001b[0m \u001b[0mfeed_dict\u001b[0m\u001b[0;34m,\u001b[0m \u001b[0mfetch_list\u001b[0m\u001b[0;34m)\u001b[0m\u001b[0;34m:\u001b[0m\u001b[0;34m\u001b[0m\u001b[0m\n",
      "\u001b[0;31mKeyboardInterrupt\u001b[0m: "
     ]
    }
   ],
   "source": [
    "model = TfBiRNNClassifier(embedding=embeddings, eta=0.001, use_attn = True,\n",
    "                           ckpts_prefix='{}/checkpoints/birnn_model/birnn-model'.format(PROJECT_DIR),\n",
    "                           summaries_dir='{}/summaries-birnn/'.format(PROJECT_DIR)\n",
    "                          )\n",
    "model.fit(tfConfig, restore_weights=False, batches_to_eval=250, max_iter=10)"
   ]
  },
  {
   "cell_type": "markdown",
   "metadata": {},
   "source": [
    "## Evaluation"
   ]
  },
  {
   "cell_type": "code",
   "execution_count": 19,
   "metadata": {},
   "outputs": [],
   "source": [
    "def print_example(pred, label, feats, length, email_id):\n",
    "    ids_ = feats[:length][:, 0]\n",
    "    print(\"==== {} ====\".format(email_id))\n",
    "    print(\"Predicted label: {}. True label: {}\".format(LBLS[pred], LBLS[label]))\n",
    "    print( \" \".join((id2tok[i] for i in ids_)) )\n",
    "    print(\"------------------------------------\")\n",
    "\n",
    "def print_examples(preds, outputs, inputs, lens, email_ids):\n",
    "    for p, o, i, l, d in zip(preds, outputs, inputs, lens, email_ids):\n",
    "        print_example(p, o, i, l, d)"
   ]
  },
  {
   "cell_type": "code",
   "execution_count": 21,
   "metadata": {},
   "outputs": [
    {
     "name": "stderr",
     "output_type": "stream",
     "text": [
      "INFO:Ran 10 batches\n"
     ]
    },
    {
     "name": "stdout",
     "output_type": "stream",
     "text": [
      " Predicted 226 of 320 examples correctly\n",
      " Precision: 0.613, Recall: 0.496, F1: 0.548\n"
     ]
    }
   ],
   "source": [
    "outputs, preds, word_ids, email_ids = model.evaluate_tfdata(model.sess, dataset_name='dev', batch_lim=10, writer=None)\n",
    "\n",
    "preds = np.asarray(preds); outputs = np.array(outputs)    \n",
    "correct = preds == outputs\n",
    "prec, rec, f1, _ = metrics.precision_recall_fscore_support(outputs, preds, average='binary')\n",
    "\n",
    "print(\" Predicted {} of {} examples correctly\".format(np.sum(correct), correct.shape[0]) )\n",
    "print(\" Precision: {:1.3f}, Recall: {:1.3f}, F1: {:1.3f}\".format(prec, rec, f1) )"
   ]
  },
  {
   "cell_type": "code",
   "execution_count": 25,
   "metadata": {},
   "outputs": [
    {
     "name": "stdout",
     "output_type": "stream",
     "text": [
      "==== b'<26202349.1075849392470.JavaMail.evans@thyme>' ====\n",
      "Predicted label: NORESPONSE. True label: NORESPONSE\n",
      "<s> hey there ! how are you ? how 's your summer ? i 'm UUUNKKK the end of summer school and can not wait UUUNKKK it 's over . the class has been a new low point in terms of educational UUUNKKK UUUNKKK ! ... in fact , i 'm in class now . work is UUUNKKK UUUNKKK . UUUNKKK 'm thinking about taking advantage of sun 's flexible work deal and moving back up to the city . i do not like the south bay much . trying to get a happy hour together in august ... are you around ? let me know how you are ... UUUNKKK __________________________________________________ do you yahoo ! ? make international calls for as low as $ UUUNKKK with yahoo ! UUUNKKK http : UUUNKKK </s>\n",
      "------------------------------------\n",
      "==== b'<22146292.1075855935696.JavaMail.evans@thyme>' ====\n",
      "Predicted label: REPLY. True label: REPLY\n",
      "<s> services sally , this is the second of the two emails i am sending you . ? please review the resume of robert ( bob ) UUUNKKK . ? he is currently a consultant with a big NNNUMMM firm , loaded with gas energy experience . ? his qualifications are : * ? ? ? ? cpa ; UUUNKKK - accounting * ? ? ? ? e & y * ? ? ? ? NNNUMMM years UUUNKKK UUUNKKK experience and responsibilities * ? ? ? ? developed a business process risk model identifying process characteristics , business risks and associated best practices for the energy trading and marketing industry . * ? ? ? ? experienced and responsible for front , middle and back office accounting , risk management for energy trading and marketing firms . * ? ? ? ? directed all accounting policies & procedures , commodity and derivative accounting , reviewed and provided analysis on NNNUMMM accounting issues . * ? ? ? ? provided clients with infrastructure review and audits for global trading operations . * ? ? ? ? excellent communication skills . thanks , mike e. michael UUUNKKK , cpa , UUUNKKK UUUNKKK & r personnel solutions UUUNKKK ( cell ) ? ? UUUNKKK @ aol.com ( temp ) - UUUNKKK </s>\n",
      "------------------------------------\n",
      "==== b'<22721633.1075852352602.JavaMail.evans@thyme>' ====\n",
      "Predicted label: REPLY. True label: REPLY\n",
      "<s> please respond to hello greg . my accounting group in boston has informed me that the $ UUUNKKK consulting invoice dated april NNNUMMM remains outstanding . i 'd appreciate your following up to find out status . thanks in advance . neil . </s>\n",
      "------------------------------------\n",
      "==== b'<2479013.1075853653353.JavaMail.evans@thyme>' ====\n",
      "Predicted label: REPLY. True label: REPLY\n",
      "<s> michelle , per our conversation , attached is a draft of an amendment to the master firm UUUNKKK agreement between UUUNKKK energy solutions , inc. and enron north america corp. which changes the confirming party to ena . please call me at ( NNNUMMM ) UUUNKKK or e-mail me with your comments . stacy UUUNKKK ( see attached file : UUUNKKK to UUUNKKK UUUNKKK ) - UUUNKKK to UUUNKKK UUUNKKK </s>\n",
      "------------------------------------\n",
      "==== b'<15358234.1075845374973.JavaMail.evans@thyme>' ====\n",
      "Predicted label: REPLY. True label: REPLY\n",
      "<s> billy , our total group including dave ( not including billy ) from last trip was NNNUMMM , and greg said he was in this year . so i guess we 'd be looking at UUUNKKK total guys glenn glenn friend NNNUMMM glenn friend NNNUMMM glenn friend NNNUMMM me UUUNKKK jeff dan greg UUUNKKK message UUUNKKK UUUNKKK __________________________________________________ do you yahoo ! ? yahoo ! auctions - buy the things you want at great prices http : UUUNKKK </s>\n",
      "------------------------------------\n",
      "==== b'<17171471.1075858074596.JavaMail.evans@thyme>' ====\n",
      "Predicted label: NORESPONSE. True label: NORESPONSE\n",
      "<s> i do n't know who i 'm playing against ... but here 's my UUUNKKK . i 'm leaving for the weekend now . UUUNKKK UUUNKKK car UUUNKKK james UUUNKKK UUUNKKK smith UUUNKKK UUUNKKK robinson UUUNKKK UUUNKKK UUUNKKK UUUNKKK UUUNKKK UUUNKKK UUUNKKK k denver d UUUNKKK gary t . </s>\n",
      "------------------------------------\n",
      "==== b'<19220815.1075856793164.JavaMail.evans@thyme>' ====\n",
      "Predicted label: REPLY. True label: REPLY\n",
      "<s> thanks for your message regarding the model risk project . i think it 's a very important issue and really critical to enron . the model risk represents a very significant exposure to the company : a wrong model results in bad decisions and eventually leads to accounting errors and incorrect financial statements . here are my comments . NNNUMMM . reasons of model risk . the main source of model risk in enron is UUUNKKK in your list . i think it 's due to the fact that the responsibility for the final model approval and validation is UUUNKKK in the organization and there no single UUUNKKK that is vested with the authority to audit , approve and monitor valuation models . the popular perception is that this is done by the research group , but this could not be further form the truth . given the way the organization UUUNKKK over the last few years , we became a group of internal consultants , working on highly specialized , partial problems ( sometimes , we work on a project from a to z , but it 's an exception to the rule ) . it 's imperative that this is communicated to the senior management in a precise , UUUNKKK way . i think that this is the main source of potential problems and the first UUUNKKK of the UUUNKKK process to be corrected . NNNUMMM . i would expand point NNNUMMM in your draft ( inappropriate application of models ) and add two lower level points : a ) wrong inputs b ) incorrect model used for a given transaction . tva is an example of point a : a transaction in case of which the inputs have not been being updated for an extended </s>\n",
      "------------------------------------\n",
      "==== b'<1968045.1075854137191.JavaMail.evans@thyme>' ====\n",
      "Predicted label: REPLY. True label: REPLY\n",
      "<s> per your request . this list has been pulled from global contracts but has not been reviewed . please take a look at it and let me know if you need additional information . i will begin printing the attached points by contract . i 'll give you an update tomorrow a.m. jackie ext NNNUMMM </s>\n",
      "------------------------------------\n",
      "==== b'<2822846.1075856368208.JavaMail.evans@thyme>' ====\n",
      "Predicted label: NORESPONSE. True label: NORESPONSE\n",
      "<s> just a note to confirm that we will cease recruiting for the new technical writer position that was being considered . i will notify the candidates who have been interviewed , but please let me know if you would like us to do anything else . molly </s>\n",
      "------------------------------------\n",
      "==== b'<30172426.1075852882554.JavaMail.evans@thyme>' ====\n",
      "Predicted label: NORESPONSE. True label: NORESPONSE\n",
      "<s> the extension for steve thomas is NNNUMMM . attached is corrected copy . deb UUUNKKK northern natural gas company business development & marketing UUUNKKK fax : UUUNKKK e-mail : UUUNKKK @ enron.com </s>\n",
      "------------------------------------\n",
      "==== b'<10808795.1075841302749.JavaMail.evans@thyme>' ====\n",
      "Predicted label: NORESPONSE. True label: NORESPONSE\n",
      "<s> no ancillary schedules awarded . variances UUUNKKK . variances UUUNKKK in generation schedule . variances UUUNKKK in sc trades schedule . log messages : UUUNKKK file -- > > h : UUUNKKK UUUNKKK UUUNKKK -- -- generation schedule -- -- $ $ $ UUUNKKK found in table UUUNKKK . details : ( hour : NNNUMMM / preferred : NNNUMMM / final : 1.5 ) UUUNKKK : final UUUNKKK : UUUNKKK UUUNKKK : UUUNKKK NNNUMMM -- -- sc trades schedule -- -- $ $ $ UUUNKKK found in table UUUNKKK . details : ( hour : NNNUMMM / preferred : UUUNKKK error : field UUUNKKK not found ! / final : 3.5 ) UUUNKKK : final UUUNKKK : UUUNKKK UUUNKKK : UUUNKKK UUUNKKK : UUUNKKK UUUNKKK : UUUNKKK UUUNKKK : b $ $ $ UUUNKKK found in table UUUNKKK . details : ( hour : NNNUMMM / preferred : NNNUMMM / final : NNNUMMM ) UUUNKKK : final UUUNKKK : UUUNKKK UUUNKKK : UUUNKKK UUUNKKK : UUUNKKK UUUNKKK : UUUNKKK UUUNKKK : s $ $ $ UUUNKKK found in table UUUNKKK . details : ( hour : NNNUMMM / preferred : NNNUMMM / final : UUUNKKK ) UUUNKKK : final UUUNKKK : UUUNKKK UUUNKKK : UUUNKKK UUUNKKK : UUUNKKK UUUNKKK : UUUNKKK UUUNKKK : b $ $ $ UUUNKKK found in table UUUNKKK . details : ( hour : NNNUMMM / preferred : NNNUMMM / final : UUUNKKK ) UUUNKKK : final UUUNKKK : UUUNKKK UUUNKKK : UUUNKKK UUUNKKK : UUUNKKK UUUNKKK : UUUNKKK UUUNKKK : s </s>\n",
      "------------------------------------\n",
      "==== b'<7742121.1075855067292.JavaMail.evans@thyme>' ====\n",
      "Predicted label: NORESPONSE. True label: NORESPONSE\n",
      "<s> fran , please be advised that my UUUNKKK status has changed . i was UUUNKKK on march NNNUMMM , NNNUMMM . also , my id is UUUNKKK . thanks , paul </s>\n",
      "------------------------------------\n",
      "==== b'<8649843.1075840579290.JavaMail.evans@thyme>' ====\n",
      "Predicted label: NORESPONSE. True label: NORESPONSE\n",
      "<s> i think UUUNKKK has been UUUNKKK around the `` UUUNKKK volume '' guy to much . i think what he is trying to say is that you are calculating the historical UUUNKKK correctly but to compare this ( historical UUUNKKK ) to an implied UUUNKKK from either the marketplace or as calculated by yourself , there will be an underlying assumption of a calendar year as the basis for option maturity . therefore you would have to use the UUUNKKK of UUUNKKK in order to make a comparison to the historical UUUNKKK . </s>\n",
      "------------------------------------\n",
      "==== b'<1228963.1075859277017.JavaMail.evans@thyme>' ====\n",
      "Predicted label: NORESPONSE. True label: NORESPONSE\n",
      "<s> UUUNKKK receive the UUUNKKK market report in UUUNKKK - simply UUUNKKK and select `` UUUNKKK '' http : UUUNKKK ? UUUNKKK UUUNKKK the following data is best viewed in a fixed UUUNKKK font such as UUUNKKK . leading indexes ( as of UUUNKKK 11:00 hours et ) http : UUUNKKK quotes supplied by standard & poor 's UUUNKKK and delayed at least NNNUMMM minutes . data source : http : UUUNKKK name level change % change -- -- -- -- -- -- -- -- -- -- -- - -- -- -- - dow jones industrial average UUUNKKK UUUNKKK UUUNKKK % s & p NNNUMMM index UUUNKKK UUUNKKK UUUNKKK % nasdaq composite index UUUNKKK UUUNKKK UUUNKKK % UUUNKKK composite index UUUNKKK UUUNKKK UUUNKKK % russell NNNUMMM index UUUNKKK UUUNKKK UUUNKKK % to UUUNKKK this e-mail with your own investments , sign up to add your portfolio . http : UUUNKKK ** msn money community ** discuss the hot topic of the day on the message boards , chat with cnbc UUUNKKK and investing experts , or post a question for one of our other financial experts . http : UUUNKKK -- -- -- -- -- -- -- -- -- -- -- -- -- -- -- -- -- -- -- -- -- -- -- market summary ( as of UUUNKKK 11:00 hours et ) http : UUUNKKK quiet start for NNNUMMM UUUNKKK provided by msn money a quiet session UUUNKKK as investors complete the worst UUUNKKK year since the 1970s . the UUUNKKK to head home early seem to UUUNKKK any UUUNKKK to trade . exchanges closed for the day in japan and most of europe , the u.s. bond market UUUNKKK up at NNNUMMM p.m . et and tomorrow , of course , is the new year ? s </s>\n",
      "------------------------------------\n",
      "==== b'<5622536.1075854849548.JavaMail.evans@thyme>' ====\n",
      "Predicted label: NORESPONSE. True label: NORESPONSE\n",
      "<s> i forgot to mention that today 's curves will be down another NNNUMMM % , therefore , the prices in the spreadsheet are too high . </s>\n",
      "------------------------------------\n",
      "==== b'<24621415.1075856934168.JavaMail.evans@thyme>' ====\n",
      "Predicted label: NORESPONSE. True label: NORESPONSE\n",
      "<s> UUUNKKK , we shall have meeting with kim watson on thu at 10:00 , NNNUMMM UUUNKKK . it will be followed by a video conference with UUUNKKK at 11:30 . vince </s>\n",
      "------------------------------------\n",
      "==== b'<10937497.1075843156909.JavaMail.evans@thyme>' ====\n",
      "Predicted label: NORESPONSE. True label: NORESPONSE\n",
      "<s> i will be sending to changes to ron 's draft as i write them . here 's the first one : under the bullet about the soft cap , cross out the language saying `` at a minimum the commission should raise the cap to $ NNNUMMM per mwh , '' and insert : `` as detailed in the attached analyses , price caps only interfere with the price signals so necessary to the proper UUUNKKK of the california markets . nonetheless , if the UUUNKKK accepts a price cap , the $ NNNUMMM level is too low and the commission must determine a level that will ensure the recovery of costs and give market participants the proper incentives to participate in the california iso and px market . '' </s>\n",
      "------------------------------------\n",
      "==== b'<28664044.1075847400738.JavaMail.evans@thyme>' ====\n",
      "Predicted label: NORESPONSE. True label: NORESPONSE\n",
      "<s> UUUNKKK , tana jones of our legal department UUUNKKK a variety of eol functions . she would like a description of the products we are planning on rolling out in april ( a bit more of a description than i can give her ) , and she may have some other questions for you as well . when you get a few minutes , would you please call tana at UUUNKKK to fill her in ? thanks -- bob robert e. bruce senior counsel enron north america corp. t ( NNNUMMM ) 345-7780 f ( NNNUMMM ) 646-3393 robert.bruce @ enron.com </s>\n",
      "------------------------------------\n",
      "==== b'<23695561.1075847399912.JavaMail.evans@thyme>' ====\n",
      "Predicted label: NORESPONSE. True label: NORESPONSE\n",
      "<s> fred has asked that we prepare an isda between ena and northern border partners , l.p. , which is also a wholly owned enron subsidiary . should we prepare an UUUNKKK or regular isda ? i have provided a worksheet that contains enron 's ownership structure and little else . let me know if i should provide another worksheet with more detail . thanks brant </s>\n",
      "------------------------------------\n",
      "==== b'<33136930.1075852719527.JavaMail.evans@thyme>' ====\n",
      "Predicted label: REPLY. True label: REPLY\n",
      "<s> cc : subject : hello again . two notes . just back from vacation and planning a trip to houston in late september . are you available for breakfast at the hyatt on thursday sep NNNUMMM or friday sept 28th ... UUUNKKK . oct goes off the board wed. the 26th . secondly , i have four UUUNKKK to UUUNKKK UUUNKKK this friday night . good seats . would you be interested ? ********************************************************************** this e-mail is the property of enron corp. and/or its relevant affiliate and may contain confidential and privileged material for the sole use of the intended recipient ( s ) . any review , use , distribution or disclosure by others is strictly prohibited . if you are not the intended recipient ( or authorized to receive for the recipient ) , please contact the sender or reply to enron corp. at enron.messaging.administration @ enron.com and delete all copies of the message . this e-mail ( and any attachments hereto ) are not intended to be an offer ( or an acceptance ) and do not create or evidence a binding and enforceable contract between enron corp. ( or any of its affiliates ) and the intended recipient or any other party , and may not be relied on by anyone as the basis of a contract by estoppel or otherwise . thank you . ********************************************************************** </s>\n",
      "------------------------------------\n",
      "==== b'<2485277.1075847199538.JavaMail.evans@thyme>' ====\n",
      "Predicted label: NORESPONSE. True label: NORESPONSE\n",
      "<s> did you make a note under UUUNKKK . energy services in lotus notes ... ? mary cook UUUNKKK UUUNKKK pm to : tom UUUNKKK @ enron cc : UUUNKKK @ UUUNKKK , tana jones/hou/ect @ ect subject : hydro quebec i was able to get an agreement with hq counsel that they would complete their review by early next week , at which time i will conf call them with our quebec counsel and work to resolve outstanding issues . thank you for your patience in respect of this unusual counterparty . mary enron north america corp. mary cook NNNUMMM smith , 38th floor , legal houston , texas 77002-7361 ( NNNUMMM ) 345-7732 ( phone ) ( NNNUMMM ) 646-3490 ( fax ) mary.cook @ enron.com </s>\n",
      "------------------------------------\n",
      "==== b'<27809848.1075853024758.JavaMail.evans@thyme>' ====\n",
      "Predicted label: NORESPONSE. True label: NORESPONSE\n",
      "<s> please plan to attend an UUUNKKK meeting to be held on friday , september NNNUMMM , UUUNKKK - UUUNKKK in UUUNKKK in omaha . UUUNKKK UUUNKKK d. robertson transwestern pipeline company email address : UUUNKKK @ enron.com ( NNNUMMM ) UUUNKKK ( NNNUMMM ) UUUNKKK fax </s>\n",
      "------------------------------------\n",
      "==== b'<33527209.1075840371128.JavaMail.evans@thyme>' ====\n",
      "Predicted label: NORESPONSE. True label: NORESPONSE\n",
      "<s> please read this important information concerning the enron stock fund in the enron corp. savings and UUUNKKK plans on friday , january NNNUMMM , trading of enron stock was suspended on the new york stock exchange ( nyse ) . all savings and UUUNKKK plan transactions , including NNNUMMM ( k ) payroll contributions , involving this fund were placed in a pending status until trading UUUNKKK . as announced by enron 's office of the chair on wednesday , january NNNUMMM , enron stock would now be traded over the counter ( otc ) . upon receiving this information , work began immediately to develop a process that allows for otc trades in the plans . on thursday , january NNNUMMM , enron initiated a process to facilitate otc trades of enron stock inside the NNNUMMM ( k ) and UUUNKKK and all pending transactions were processed using thursday 's closing price . now that trading has UUUNKKK , we urge you to review your investment elections to ensure that they are consistent with your investment goals . as things change , we will continue to update you . enron benefits department </s>\n",
      "------------------------------------\n",
      "==== b'<11637511.1075856946917.JavaMail.evans@thyme>' ====\n",
      "Predicted label: NORESPONSE. True label: NORESPONSE\n",
      "<s> ted , please take a quick look at the outline of discussion notes for friday . vince </s>\n",
      "------------------------------------\n",
      "==== b'<3913750.1075846347205.JavaMail.evans@thyme>' ====\n",
      "Predicted label: NORESPONSE. True label: NORESPONSE\n",
      "<s> for immediate release november NNNUMMM , NNNUMMM contact : pg & e news department ( NNNUMMM ) UUUNKKK NNNUMMM UUUNKKK street , san francisco ca NNNUMMM pacific gas and electric company UUUNKKK ferc report san francisco - pacific gas and electric company issued the following statement on the report issued by the federal energy regulatory commission ( ferc ) today : '' pacific gas and electric company is pleased that ferc has used its authority to give california many of the tools we need to fix the wholesale electricity markets in this state . we agree with chairman hoecker and other ferc commissioners that this report is a sound beginning to the process of UUUNKKK the marketplace , but that more actions will need to be taken , at both the state and federal level , before the goal of a working , competitive energy market can be realized in california . `` the new bid framework the commission ordered represents a creative attempt to fix the market and moderate prices , while still allowing competition to evolve . our hope is that this new framework will be successful in UUUNKKK electricity prices . `` while the report does not find evidence of market power abuse in california this summer , ferc does provide for potential refunds , should abuse be discovered , effective as of the beginning of october NNNUMMM . `` we are very pleased with the opportunity the commission has given us to review and comment upon this report , and look forward to providing our comments on november NNNUMMM , and throughout this proceeding . '' the ferc action comes one day after pacific gas and electric company made an unprecedented $ NNNUMMM million payment to the power exchange for wholesale electricity costs for </s>\n",
      "------------------------------------\n",
      "==== b'<26626163.1075848077062.JavaMail.evans@thyme>' ====\n",
      "Predicted label: REPLY. True label: REPLY\n",
      "<s> joe -- the kennedy school has an on-line resume search device . i put in `` miti and energy '' and this resume UUUNKKK up . let me know . joseph p hirl @ enron_development UUUNKKK UUUNKKK am to : james d steffes @ ees cc : scott UUUNKKK @ enron_development , michael UUUNKKK @ enron_development , steven j kean @ ees subject : govt school alumni jim , good to see you last week . as we begin to look for japanese employees and in particular , UUUNKKK resources it would seem to make sense to tap into the us graduate schools ( eg kennedy school , w wilson school , etc ) . it would be a real UUUNKKK if we could find an ex miti employee for example that was UUUNKKK in the states and had a UUUNKKK for something `` UUUNKKK . '' it wo n't necessarily be easy . at UUUNKKK we had two japanese in our section that decided not to go back to their sponsoring company . today one is working for UUUNKKK and the other cargill . any thoughts , contacts , etc . joe </s>\n",
      "------------------------------------\n",
      "==== b'<18486108.1075842203254.JavaMail.evans@thyme>' ====\n",
      "Predicted label: NORESPONSE. True label: NORESPONSE\n",
      "<s> as you know , we are UUUNKKK updating the foreign & domestic counsel database so that it can be maintained in the most accurate form ; therefore , any new information you may have regarding outside counsel firms that have been interviewed and/or retained in the past NNNUMMM months would be greatly appreciated . also , if you have any updates to the existing database entries we would also like to hear from you . please take the time to help us update this database so it can be a valuable tool for all of us ! each one of us has full access to the database via your lotus notes application ; however , if your icon has UUUNKKK from your desktop , click here to add it back on to your desktop > > > > > please provide any new information and/or updates either to nony flores or becky spencer . thank you for your attention to this matter . </s>\n",
      "------------------------------------\n",
      "==== b'<2566964.1075860900731.JavaMail.evans@thyme>' ====\n",
      "Predicted label: NORESPONSE. True label: NORESPONSE\n",
      "<s> kim , lisa and i are certainly up for it . i have n't given much thought to location yet , so put on your thinking cap and let 's come up with UUUNKKK . we 're looking forward to getting together with you guys . by the way , i 'm in the office the rest of today and tomorrow if you want to give me a ring . jeff UUUNKKK c. UUUNKKK vice president - sales western region sempra fiber links NNNUMMM louisiana st. , UUUNKKK . NNNUMMM houston , texas NNNUMMM houston office : UUUNKKK houston fax : UUUNKKK san diego office : UUUNKKK email : UUUNKKK @ UUUNKKK < < UUUNKKK c. UUUNKKK ( e-mail ) UUUNKKK > > </s>\n",
      "------------------------------------\n",
      "==== b'<19640733.1075843103068.JavaMail.evans@thyme>' ====\n",
      "Predicted label: NORESPONSE. True label: REPLY\n",
      "<s> attached is the final version . </s>\n",
      "------------------------------------\n",
      "==== b'<30015037.1075846005072.JavaMail.evans@thyme>' ====\n",
      "Predicted label: NORESPONSE. True label: REPLY\n",
      "<s> please review and comment . these were sent to UUUNKKK UUUNKKK the understanding that enron is still working on them . thanks , UUUNKKK </s>\n",
      "------------------------------------\n",
      "==== b'<27528965.1075842998359.JavaMail.evans@thyme>' ====\n",
      "Predicted label: NORESPONSE. True label: NORESPONSE\n",
      "<s> the cera executive roundtable meeting summary results are as follows : if you are interested in a complete set of the graphs from the presentations please let me know . electric power part one peak trends it is UUUNKKK how rapidly volatility can change UUUNKKK in the electric markets . last year the u.s. UUUNKKK areas were the UUUNKKK , but it reversed this year with the west being highest at the UUUNKKK and in new england -- but only in early may NNNUMMM were UUUNKKK UUUNKKK apparent there . demand can vary from half the peak max to the max . peakers can be on the margin on the upper half of the supply mix in many markets . we need to watch gas prices this winter as they can effect winter peak power prices -- not just a summer UUUNKKK . where are the most gas plants now on the margin ? ercot , UUUNKKK , UUUNKKK , UUUNKKK , serc , wscc a disconnect there is a disconnect in the on-peak forward market price for power in texas now ; with the added NNNUMMM gw texas forward markets do not seem to take this into account yet . ( note : vince UUUNKKK ) the texas forward market should be very soft next summer unless we return to NNNUMMM degree f temperatures . new england is just one year behind texas in its UUUNKKK . one main reason for the spikes in calif is power plants did not get built in calif due to a lack of a capacity charge UUUNKKK this is not a UUUNKKK ... as calif also has many UUUNKKK hurdles that challenge developers who want to site as well . . UUUNKKK of merchant capacity planned ? cera sees over UUUNKKK </s>\n",
      "------------------------------------\n",
      "==== b'<13884250.1075841403827.JavaMail.evans@thyme>' ====\n",
      "Predicted label: REPLY. True label: REPLY\n",
      "<s> for the love of god , i just ca n't seem to work or focus on anything these days ... ... ... UUUNKKK there anything in season or left to kill ? ? ! ! ! i need UUUNKKK UUUNKKK . i did n't drink last night for the first time in about NNNUMMM UUUNKKK -- maybe UUUNKKK the problem . UUUNKKK . c. ********************************************************************** this e-mail is the property of enron corp. and/or its relevant affiliate and may contain confidential and privileged material for the sole use of the intended recipient ( s ) . any review , use , distribution or disclosure by others is strictly prohibited . if you are not the intended recipient ( or authorized to receive for the recipient ) , please contact the sender or reply to enron corp. at enron.messaging.administration @ enron.com and delete all copies of the message . this e-mail ( and any attachments hereto ) are not intended to be an offer ( or an acceptance ) and do not create or evidence a binding and enforceable contract between enron corp. ( or any of its affiliates ) and the intended recipient or any other party , and may not be relied on by anyone as the basis of a contract by estoppel or otherwise . thank you . ********************************************************************** </s>\n",
      "------------------------------------\n"
     ]
    }
   ],
   "source": [
    "preds, inputs, lens, outputs, email_ids, attns = model.predict()\n",
    "print_examples(preds, outputs, inputs, lens, email_ids)"
   ]
  },
  {
   "cell_type": "code",
   "execution_count": null,
   "metadata": {},
   "outputs": [],
   "source": [
    "import matplotlib\n"
   ]
  },
  {
   "cell_type": "code",
   "execution_count": null,
   "metadata": {},
   "outputs": [],
   "source": [
    "def make_attn_plot(word_ids, attn):\n",
    "    "
   ]
  }
 ],
 "metadata": {
  "kernelspec": {
   "display_name": "Python 3",
   "language": "python",
   "name": "python3"
  },
  "language_info": {
   "codemirror_mode": {
    "name": "ipython",
    "version": 3
   },
   "file_extension": ".py",
   "mimetype": "text/x-python",
   "name": "python",
   "nbconvert_exporter": "python",
   "pygments_lexer": "ipython3",
   "version": "3.5.2"
  }
 },
 "nbformat": 4,
 "nbformat_minor": 2
}
